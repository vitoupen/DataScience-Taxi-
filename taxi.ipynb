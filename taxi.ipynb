{
 "cells": [
  {
   "cell_type": "code",
   "execution_count": 51,
   "metadata": {},
   "outputs": [],
   "source": [
    "import pandas as pd \n",
    "import numpy as np\n",
    "from matplotlib import style\n",
    "import matplotlib.pyplot as plt\n",
    "%matplotlib inline\n",
    "import seaborn as sns\n",
    "#tdqm = progress bar\n",
    "from tqdm import tqdm\n",
    "from datetime import datetime\n",
    "from sklearn import metrics\n",
    "from sklearn.model_selection import cross_val_score\n",
    "from sklearn.metrics import accuracy_score\n",
    "from sklearn.neighbors import KNeighborsClassifier\n",
    "from sklearn.linear_model import LogisticRegression\n",
    "from sklearn.linear_model import LinearRegression\n",
    "from sklearn.tree import DecisionTreeClassifier\n",
    "from sklearn import preprocessing\n",
    "from sklearn import utils"
   ]
  },
  {
   "cell_type": "code",
   "execution_count": 52,
   "metadata": {},
   "outputs": [
    {
     "name": "stderr",
     "output_type": "stream",
     "text": [
      "1000it [00:18, 53.30it/s]\n"
     ]
    }
   ],
   "source": [
    "# Number of rows\n",
    "nrows = 10000000\n",
    "# Chunksize = 10000 \n",
    "chunksize = 10000\n",
    "# Vitou's path\n",
    "# path = 'C:/Users/sirus/Downloads/train.csv'\n",
    "# Muna's path\n",
    "path = '/Users/muna/Development/DataScience/new-york-city-taxi-fare-prediction/train.csv'\n",
    "# Columns to read from the data\n",
    "# Todo :split date into meaningful data\n",
    "# cols = ['pickup_longitude','pickup_latitude','dropoff_longitude','dropoff_latitude','passenger_count','fare_amount']\n",
    "cols = ['pickup_datetime','pickup_longitude','pickup_latitude','dropoff_longitude','dropoff_latitude','passenger_count','fare_amount']\n",
    "\n",
    "#list to hold the batch dataframe\n",
    "df_list = []\n",
    "\n",
    "for df_chunk in tqdm(pd.read_csv(path,usecols=cols, chunksize=chunksize,nrows=nrows)):\n",
    "    df_list.append(df_chunk)\n",
    "    \n",
    "# Merge all dataframes into one dataframe\n",
    "data = pd.DataFrame()\n",
    "data = pd.concat(df_list)\n",
    "# # Delete the dataframe list to release memory\n",
    "del df_list, df_chunk"
   ]
  },
  {
   "cell_type": "markdown",
   "metadata": {},
   "source": [
    "### Let's take a look at the data"
   ]
  },
  {
   "cell_type": "code",
   "execution_count": 53,
   "metadata": {
    "scrolled": true
   },
   "outputs": [
    {
     "name": "stdout",
     "output_type": "stream",
     "text": [
      "CPU times: user 3 µs, sys: 0 ns, total: 3 µs\n",
      "Wall time: 25 µs\n"
     ]
    }
   ],
   "source": [
    "%%time\n",
    "# data.describe(include='all')"
   ]
  },
  {
   "cell_type": "markdown",
   "metadata": {},
   "source": [
    "### Check for missing values"
   ]
  },
  {
   "cell_type": "code",
   "execution_count": 54,
   "metadata": {
    "scrolled": true
   },
   "outputs": [
    {
     "name": "stdout",
     "output_type": "stream",
     "text": [
      "CPU times: user 1.07 s, sys: 457 ms, total: 1.53 s\n",
      "Wall time: 958 ms\n"
     ]
    },
    {
     "data": {
      "text/plain": [
       "fare_amount           0\n",
       "pickup_datetime       0\n",
       "pickup_longitude      0\n",
       "pickup_latitude       0\n",
       "dropoff_longitude    69\n",
       "dropoff_latitude     69\n",
       "passenger_count       0\n",
       "dtype: int64"
      ]
     },
     "execution_count": 54,
     "metadata": {},
     "output_type": "execute_result"
    }
   ],
   "source": [
    "%%time\n",
    "# Checking for missing values\n",
    "data.isnull().sum()"
   ]
  },
  {
   "cell_type": "markdown",
   "metadata": {},
   "source": [
    "### From our observation, there are some missing values, so we remove them"
   ]
  },
  {
   "cell_type": "code",
   "execution_count": 55,
   "metadata": {},
   "outputs": [
    {
     "name": "stdout",
     "output_type": "stream",
     "text": [
      "CPU times: user 1.48 s, sys: 367 ms, total: 1.85 s\n",
      "Wall time: 1.49 s\n"
     ]
    }
   ],
   "source": [
    "%%time\n",
    "data = data.dropna(how = 'any', axis = 'rows')"
   ]
  },
  {
   "cell_type": "markdown",
   "metadata": {},
   "source": [
    "### Let's take a look at the data"
   ]
  },
  {
   "cell_type": "code",
   "execution_count": 56,
   "metadata": {},
   "outputs": [
    {
     "data": {
      "text/plain": [
       "count    9.999931e+06\n",
       "mean     1.133849e+01\n",
       "std      9.799845e+00\n",
       "min     -1.077500e+02\n",
       "25%      6.000000e+00\n",
       "50%      8.500000e+00\n",
       "75%      1.250000e+01\n",
       "max      1.273310e+03\n",
       "Name: fare_amount, dtype: float64"
      ]
     },
     "execution_count": 56,
     "metadata": {},
     "output_type": "execute_result"
    }
   ],
   "source": [
    "data['fare_amount'].describe()"
   ]
  },
  {
   "cell_type": "markdown",
   "metadata": {},
   "source": [
    "### From the description above, some of the fare_amount have negative values"
   ]
  },
  {
   "cell_type": "markdown",
   "metadata": {},
   "source": [
    "We are going to remove all negatvie fare_amounts"
   ]
  },
  {
   "cell_type": "code",
   "execution_count": 57,
   "metadata": {
    "scrolled": true
   },
   "outputs": [
    {
     "name": "stdout",
     "output_type": "stream",
     "text": [
      "CPU times: user 495 ms, sys: 188 ms, total: 683 ms\n",
      "Wall time: 686 ms\n"
     ]
    }
   ],
   "source": [
    "%%time\n",
    "data = data[(data['fare_amount'] > 0)]"
   ]
  },
  {
   "cell_type": "code",
   "execution_count": 58,
   "metadata": {},
   "outputs": [
    {
     "data": {
      "text/plain": [
       "count    9.999242e+06\n",
       "mean     1.133966e+01\n",
       "std      9.798609e+00\n",
       "min      1.000000e-02\n",
       "25%      6.000000e+00\n",
       "50%      8.500000e+00\n",
       "75%      1.250000e+01\n",
       "max      1.273310e+03\n",
       "Name: fare_amount, dtype: float64"
      ]
     },
     "execution_count": 58,
     "metadata": {},
     "output_type": "execute_result"
    }
   ],
   "source": [
    "data['fare_amount'].describe()"
   ]
  },
  {
   "cell_type": "code",
   "execution_count": 59,
   "metadata": {},
   "outputs": [
    {
     "data": {
      "text/plain": [
       "count    9.999242e+06\n",
       "mean     1.133966e+01\n",
       "std      9.798609e+00\n",
       "min      1.000000e-02\n",
       "25%      6.000000e+00\n",
       "50%      8.500000e+00\n",
       "75%      1.250000e+01\n",
       "max      1.273310e+03\n",
       "Name: fare_amount, dtype: float64"
      ]
     },
     "execution_count": 59,
     "metadata": {},
     "output_type": "execute_result"
    }
   ],
   "source": [
    "data['fare_amount'].describe()"
   ]
  },
  {
   "cell_type": "markdown",
   "metadata": {},
   "source": [
    "### Let's take a detailed look at the passenger count"
   ]
  },
  {
   "cell_type": "code",
   "execution_count": 60,
   "metadata": {},
   "outputs": [
    {
     "data": {
      "text/plain": [
       "count    9.999242e+06\n",
       "mean     1.684807e+00\n",
       "std      1.323424e+00\n",
       "min      0.000000e+00\n",
       "25%      1.000000e+00\n",
       "50%      1.000000e+00\n",
       "75%      2.000000e+00\n",
       "max      2.080000e+02\n",
       "Name: passenger_count, dtype: float64"
      ]
     },
     "execution_count": 60,
     "metadata": {},
     "output_type": "execute_result"
    }
   ],
   "source": [
    "data['passenger_count'].describe()"
   ]
  },
  {
   "cell_type": "markdown",
   "metadata": {},
   "source": [
    "The highest passenger count per taxi ride is 208, which is not possible. So we remove all passenger_count grater than 6, since 6 is the maximum passenger capacity for Uber/Lyft if the ride is an SUV"
   ]
  },
  {
   "cell_type": "code",
   "execution_count": 61,
   "metadata": {
    "scrolled": true
   },
   "outputs": [],
   "source": [
    "data = data[(data['passenger_count'] <= 6)]"
   ]
  },
  {
   "cell_type": "code",
   "execution_count": 62,
   "metadata": {
    "scrolled": true
   },
   "outputs": [
    {
     "data": {
      "text/plain": [
       "count    9.999225e+06\n",
       "mean     1.684595e+00\n",
       "std      1.308064e+00\n",
       "min      0.000000e+00\n",
       "25%      1.000000e+00\n",
       "50%      1.000000e+00\n",
       "75%      2.000000e+00\n",
       "max      6.000000e+00\n",
       "Name: passenger_count, dtype: float64"
      ]
     },
     "execution_count": 62,
     "metadata": {},
     "output_type": "execute_result"
    }
   ],
   "source": [
    "data['passenger_count'].describe()"
   ]
  },
  {
   "cell_type": "markdown",
   "metadata": {},
   "source": [
    "Now the highest passenger capacity is 6"
   ]
  },
  {
   "cell_type": "markdown",
   "metadata": {},
   "source": [
    "Next we remove all passenger count that are zero"
   ]
  },
  {
   "cell_type": "code",
   "execution_count": 63,
   "metadata": {},
   "outputs": [],
   "source": [
    "data = data[(data['passenger_count'] > 0)]"
   ]
  },
  {
   "cell_type": "code",
   "execution_count": 64,
   "metadata": {},
   "outputs": [
    {
     "data": {
      "text/plain": [
       "count    9.963965e+06\n",
       "mean     1.690557e+00\n",
       "std      1.306525e+00\n",
       "min      1.000000e+00\n",
       "25%      1.000000e+00\n",
       "50%      1.000000e+00\n",
       "75%      2.000000e+00\n",
       "max      6.000000e+00\n",
       "Name: passenger_count, dtype: float64"
      ]
     },
     "execution_count": 64,
     "metadata": {},
     "output_type": "execute_result"
    }
   ],
   "source": [
    "data['passenger_count'].describe()"
   ]
  },
  {
   "cell_type": "markdown",
   "metadata": {},
   "source": [
    "### Looking at the pickup|droppoff latitudes and longitudes"
   ]
  },
  {
   "cell_type": "code",
   "execution_count": 65,
   "metadata": {
    "scrolled": true
   },
   "outputs": [
    {
     "data": {
      "text/html": [
       "<div>\n",
       "<style scoped>\n",
       "    .dataframe tbody tr th:only-of-type {\n",
       "        vertical-align: middle;\n",
       "    }\n",
       "\n",
       "    .dataframe tbody tr th {\n",
       "        vertical-align: top;\n",
       "    }\n",
       "\n",
       "    .dataframe thead th {\n",
       "        text-align: right;\n",
       "    }\n",
       "</style>\n",
       "<table border=\"1\" class=\"dataframe\">\n",
       "  <thead>\n",
       "    <tr style=\"text-align: right;\">\n",
       "      <th></th>\n",
       "      <th>pickup_latitude</th>\n",
       "      <th>pickup_longitude</th>\n",
       "      <th>dropoff_latitude</th>\n",
       "      <th>dropoff_longitude</th>\n",
       "    </tr>\n",
       "  </thead>\n",
       "  <tbody>\n",
       "    <tr>\n",
       "      <td>count</td>\n",
       "      <td>9.963965e+06</td>\n",
       "      <td>9.963965e+06</td>\n",
       "      <td>9.963965e+06</td>\n",
       "      <td>9.963965e+06</td>\n",
       "    </tr>\n",
       "    <tr>\n",
       "      <td>mean</td>\n",
       "      <td>3.991903e+01</td>\n",
       "      <td>-7.250735e+01</td>\n",
       "      <td>3.991906e+01</td>\n",
       "      <td>-7.250880e+01</td>\n",
       "    </tr>\n",
       "    <tr>\n",
       "      <td>std</td>\n",
       "      <td>9.333588e+00</td>\n",
       "      <td>1.300399e+01</td>\n",
       "      <td>9.247605e+00</td>\n",
       "      <td>1.286803e+01</td>\n",
       "    </tr>\n",
       "    <tr>\n",
       "      <td>min</td>\n",
       "      <td>-3.492264e+03</td>\n",
       "      <td>-3.439245e+03</td>\n",
       "      <td>-3.488080e+03</td>\n",
       "      <td>-3.426601e+03</td>\n",
       "    </tr>\n",
       "    <tr>\n",
       "      <td>25%</td>\n",
       "      <td>4.073491e+01</td>\n",
       "      <td>-7.399208e+01</td>\n",
       "      <td>4.073403e+01</td>\n",
       "      <td>-7.399139e+01</td>\n",
       "    </tr>\n",
       "    <tr>\n",
       "      <td>50%</td>\n",
       "      <td>4.075263e+01</td>\n",
       "      <td>-7.398181e+01</td>\n",
       "      <td>4.075315e+01</td>\n",
       "      <td>-7.398015e+01</td>\n",
       "    </tr>\n",
       "    <tr>\n",
       "      <td>75%</td>\n",
       "      <td>4.076712e+01</td>\n",
       "      <td>-7.396710e+01</td>\n",
       "      <td>4.076810e+01</td>\n",
       "      <td>-7.396367e+01</td>\n",
       "    </tr>\n",
       "    <tr>\n",
       "      <td>max</td>\n",
       "      <td>3.344459e+03</td>\n",
       "      <td>3.457626e+03</td>\n",
       "      <td>3.351403e+03</td>\n",
       "      <td>3.457622e+03</td>\n",
       "    </tr>\n",
       "  </tbody>\n",
       "</table>\n",
       "</div>"
      ],
      "text/plain": [
       "       pickup_latitude  pickup_longitude  dropoff_latitude  dropoff_longitude\n",
       "count     9.963965e+06      9.963965e+06      9.963965e+06       9.963965e+06\n",
       "mean      3.991903e+01     -7.250735e+01      3.991906e+01      -7.250880e+01\n",
       "std       9.333588e+00      1.300399e+01      9.247605e+00       1.286803e+01\n",
       "min      -3.492264e+03     -3.439245e+03     -3.488080e+03      -3.426601e+03\n",
       "25%       4.073491e+01     -7.399208e+01      4.073403e+01      -7.399139e+01\n",
       "50%       4.075263e+01     -7.398181e+01      4.075315e+01      -7.398015e+01\n",
       "75%       4.076712e+01     -7.396710e+01      4.076810e+01      -7.396367e+01\n",
       "max       3.344459e+03      3.457626e+03      3.351403e+03       3.457622e+03"
      ]
     },
     "execution_count": 65,
     "metadata": {},
     "output_type": "execute_result"
    }
   ],
   "source": [
    "data[['pickup_latitude','pickup_longitude','dropoff_latitude','dropoff_longitude']].describe()"
   ]
  },
  {
   "cell_type": "markdown",
   "metadata": {},
   "source": [
    "Looking at the info above, the maximum pickup_latitude/pickup_longtide/droppoff_latitude/dropoff_longitude are over 3000 WITH their respective minimum values are over -3000"
   ]
  },
  {
   "cell_type": "markdown",
   "metadata": {},
   "source": [
    "Latitudes range from -90 to 90 while longitudes range from -180 to 180, for single degree format. So we remove all values that are not with the latitude and longitude ranges"
   ]
  },
  {
   "cell_type": "code",
   "execution_count": 66,
   "metadata": {},
   "outputs": [],
   "source": [
    "data = data.drop((data[(data['pickup_latitude'] > 90) | (data['pickup_latitude'] < -90)]).index, axis=0)"
   ]
  },
  {
   "cell_type": "code",
   "execution_count": 67,
   "metadata": {},
   "outputs": [],
   "source": [
    "data = data.drop((data[(data['pickup_longitude'] > 180) | (data['pickup_longitude'] < -180)]).index, axis=0)"
   ]
  },
  {
   "cell_type": "markdown",
   "metadata": {},
   "source": [
    "We will do the same for dropoff cordinates"
   ]
  },
  {
   "cell_type": "code",
   "execution_count": 68,
   "metadata": {},
   "outputs": [],
   "source": [
    "data = data.drop((data[(data['dropoff_latitude'] > 90) | (data['dropoff_latitude'] < -90)]).index, axis=0)"
   ]
  },
  {
   "cell_type": "code",
   "execution_count": 69,
   "metadata": {},
   "outputs": [],
   "source": [
    "data = data.drop((data[(data['dropoff_longitude'] > 180) | (data['dropoff_longitude'] < -180)]).index, axis=0)"
   ]
  },
  {
   "cell_type": "code",
   "execution_count": 70,
   "metadata": {},
   "outputs": [
    {
     "data": {
      "text/html": [
       "<div>\n",
       "<style scoped>\n",
       "    .dataframe tbody tr th:only-of-type {\n",
       "        vertical-align: middle;\n",
       "    }\n",
       "\n",
       "    .dataframe tbody tr th {\n",
       "        vertical-align: top;\n",
       "    }\n",
       "\n",
       "    .dataframe thead th {\n",
       "        text-align: right;\n",
       "    }\n",
       "</style>\n",
       "<table border=\"1\" class=\"dataframe\">\n",
       "  <thead>\n",
       "    <tr style=\"text-align: right;\">\n",
       "      <th></th>\n",
       "      <th>pickup_latitude</th>\n",
       "      <th>pickup_longitude</th>\n",
       "      <th>dropoff_latitude</th>\n",
       "      <th>dropoff_longitude</th>\n",
       "    </tr>\n",
       "  </thead>\n",
       "  <tbody>\n",
       "    <tr>\n",
       "      <td>count</td>\n",
       "      <td>9.963490e+06</td>\n",
       "      <td>9.963490e+06</td>\n",
       "      <td>9.963490e+06</td>\n",
       "      <td>9.963490e+06</td>\n",
       "    </tr>\n",
       "    <tr>\n",
       "      <td>mean</td>\n",
       "      <td>3.991535e+01</td>\n",
       "      <td>-7.249567e+01</td>\n",
       "      <td>3.991792e+01</td>\n",
       "      <td>-7.250012e+01</td>\n",
       "    </tr>\n",
       "    <tr>\n",
       "      <td>std</td>\n",
       "      <td>6.125685e+00</td>\n",
       "      <td>1.046701e+01</td>\n",
       "      <td>6.118556e+00</td>\n",
       "      <td>1.044907e+01</td>\n",
       "    </tr>\n",
       "    <tr>\n",
       "      <td>min</td>\n",
       "      <td>-7.482416e+01</td>\n",
       "      <td>-1.686035e+02</td>\n",
       "      <td>-7.419320e+01</td>\n",
       "      <td>-1.733420e+02</td>\n",
       "    </tr>\n",
       "    <tr>\n",
       "      <td>25%</td>\n",
       "      <td>4.073491e+01</td>\n",
       "      <td>-7.399207e+01</td>\n",
       "      <td>4.073403e+01</td>\n",
       "      <td>-7.399139e+01</td>\n",
       "    </tr>\n",
       "    <tr>\n",
       "      <td>50%</td>\n",
       "      <td>4.075263e+01</td>\n",
       "      <td>-7.398181e+01</td>\n",
       "      <td>4.075315e+01</td>\n",
       "      <td>-7.398015e+01</td>\n",
       "    </tr>\n",
       "    <tr>\n",
       "      <td>75%</td>\n",
       "      <td>4.076712e+01</td>\n",
       "      <td>-7.396710e+01</td>\n",
       "      <td>4.076810e+01</td>\n",
       "      <td>-7.396367e+01</td>\n",
       "    </tr>\n",
       "    <tr>\n",
       "      <td>max</td>\n",
       "      <td>8.974216e+01</td>\n",
       "      <td>1.541008e+02</td>\n",
       "      <td>8.155467e+01</td>\n",
       "      <td>1.541008e+02</td>\n",
       "    </tr>\n",
       "  </tbody>\n",
       "</table>\n",
       "</div>"
      ],
      "text/plain": [
       "       pickup_latitude  pickup_longitude  dropoff_latitude  dropoff_longitude\n",
       "count     9.963490e+06      9.963490e+06      9.963490e+06       9.963490e+06\n",
       "mean      3.991535e+01     -7.249567e+01      3.991792e+01      -7.250012e+01\n",
       "std       6.125685e+00      1.046701e+01      6.118556e+00       1.044907e+01\n",
       "min      -7.482416e+01     -1.686035e+02     -7.419320e+01      -1.733420e+02\n",
       "25%       4.073491e+01     -7.399207e+01      4.073403e+01      -7.399139e+01\n",
       "50%       4.075263e+01     -7.398181e+01      4.075315e+01      -7.398015e+01\n",
       "75%       4.076712e+01     -7.396710e+01      4.076810e+01      -7.396367e+01\n",
       "max       8.974216e+01      1.541008e+02      8.155467e+01       1.541008e+02"
      ]
     },
     "execution_count": 70,
     "metadata": {},
     "output_type": "execute_result"
    }
   ],
   "source": [
    "data[['pickup_latitude','pickup_longitude','dropoff_latitude','dropoff_longitude']].describe()"
   ]
  },
  {
   "cell_type": "markdown",
   "metadata": {},
   "source": [
    "### Feature Engineering"
   ]
  },
  {
   "cell_type": "code",
   "execution_count": 71,
   "metadata": {},
   "outputs": [],
   "source": [
    "# Given a dataframe, add two new features 'abs_diff_longitude' and\n",
    "# 'abs_diff_latitude' reprensenting the \"Manhattan vector\" from\n",
    "# the pickup location to the dropoff location.\n",
    "def add_travel_vector_features(df):\n",
    "    df['abs_diff_longitude'] = (df.dropoff_longitude - df.pickup_longitude).abs()\n",
    "    df['abs_diff_latitude'] = (df.dropoff_latitude - df.pickup_latitude).abs()\n",
    "\n",
    "add_travel_vector_features(data)"
   ]
  },
  {
   "cell_type": "markdown",
   "metadata": {},
   "source": [
    "### In further observation, we have pickup_longitude, puckup_latitiude, dropoff_longitude and dropoff_latitude. We can calculate the distance"
   ]
  },
  {
   "cell_type": "code",
   "execution_count": 72,
   "metadata": {},
   "outputs": [],
   "source": [
    "# Function that calculates distance between pickup location and dropoff location\n",
    "def getDistance(lat1,lon1,lat2,lon2):\n",
    "    r = 6378 # earth's radius\n",
    "    lat1 = np.deg2rad(lat1)\n",
    "    lon1 = np.deg2rad(lon1)\n",
    "    lat2 = np.deg2rad(lat2)\n",
    "    lon2 = np.deg2rad(lon2)\n",
    "    \n",
    "    dlat = lat2 - lat1\n",
    "    dlon = lon2 - lon1\n",
    "    \n",
    "    a = np.sin(dlat/2)**2 + np.cos(lat1) * np.cos(lat2) * np.sin(dlon/2)**2\n",
    "    c = 2 * np.arctan2(np.sqrt(a), np.sqrt(1-a))\n",
    "    distance = r*c\n",
    "    \n",
    "    return distance\n",
    "\n"
   ]
  },
  {
   "cell_type": "code",
   "execution_count": 73,
   "metadata": {},
   "outputs": [
    {
     "name": "stdout",
     "output_type": "stream",
     "text": [
      "CPU times: user 2.65 s, sys: 548 ms, total: 3.19 s\n",
      "Wall time: 1.4 s\n"
     ]
    }
   ],
   "source": [
    "%%time\n",
    "# Add new cloumn \"distance\" to the data\n",
    "data['distance'] = getDistance(data.pickup_latitude, data.pickup_longitude, \n",
    "                                      data.dropoff_latitude, data.dropoff_longitude)"
   ]
  },
  {
   "cell_type": "code",
   "execution_count": 74,
   "metadata": {
    "scrolled": true
   },
   "outputs": [
    {
     "data": {
      "text/plain": [
       "count    9.963490e+06\n",
       "mean     1.956326e+01\n",
       "std      3.680907e+02\n",
       "min      0.000000e+00\n",
       "25%      1.214020e+00\n",
       "50%      2.118768e+00\n",
       "75%      3.879586e+00\n",
       "max      1.286588e+04\n",
       "Name: distance, dtype: float64"
      ]
     },
     "execution_count": 74,
     "metadata": {},
     "output_type": "execute_result"
    }
   ],
   "source": [
    "data['distance'].describe()"
   ]
  },
  {
   "cell_type": "markdown",
   "metadata": {},
   "source": [
    "We have some distances which are zero. so we remove all"
   ]
  },
  {
   "cell_type": "code",
   "execution_count": 75,
   "metadata": {},
   "outputs": [],
   "source": [
    "data = data[(data['distance'] > 0)]"
   ]
  },
  {
   "cell_type": "code",
   "execution_count": 76,
   "metadata": {},
   "outputs": [
    {
     "data": {
      "text/plain": [
       "count    9.678609e+06\n",
       "mean     2.013909e+01\n",
       "std      3.734531e+02\n",
       "min      8.384762e-05\n",
       "25%      1.280997e+00\n",
       "50%      2.183518e+00\n",
       "75%      3.964757e+00\n",
       "max      1.286588e+04\n",
       "Name: distance, dtype: float64"
      ]
     },
     "execution_count": 76,
     "metadata": {},
     "output_type": "execute_result"
    }
   ],
   "source": [
    "data['distance'].describe()"
   ]
  },
  {
   "cell_type": "code",
   "execution_count": 77,
   "metadata": {},
   "outputs": [
    {
     "name": "stdout",
     "output_type": "stream",
     "text": [
      "         fare_amount          pickup_datetime  pickup_longitude  \\\n",
      "0                4.5  2009-06-15 17:26:21 UTC        -73.844311   \n",
      "10               5.3  2012-04-08 07:30:50 UTC        -73.996335   \n",
      "22               4.5  2009-08-06 18:17:23 UTC        -73.991707   \n",
      "33               5.7  2011-09-07 14:05:00 UTC        -73.976162   \n",
      "43              12.1  2009-06-10 21:28:00 UTC        -73.988558   \n",
      "...              ...                      ...               ...   \n",
      "9999950          9.7  2009-05-27 08:38:58 UTC        -74.005170   \n",
      "9999961          8.9  2010-02-14 00:14:13 UTC        -73.983248   \n",
      "9999971          5.0  2014-01-10 12:32:00 UTC        -73.992987   \n",
      "9999981          4.9  2010-06-16 09:21:00 UTC        -73.696362   \n",
      "9999991         12.5  2013-09-13 07:56:00 UTC        -73.781852   \n",
      "\n",
      "         pickup_latitude  dropoff_longitude  dropoff_latitude  \\\n",
      "0              40.721319         -73.841610         40.712278   \n",
      "10             40.737142         -73.980721         40.733559   \n",
      "22             40.770505         -73.985459         40.763671   \n",
      "33             40.744988         -73.990002         40.738323   \n",
      "43             40.737200         -73.958688         40.780748   \n",
      "...                  ...                ...               ...   \n",
      "9999950        40.718797         -73.988240         40.754199   \n",
      "9999961        40.771288         -73.991096         40.751169   \n",
      "9999971        40.743810         -73.986003         40.752247   \n",
      "9999981        40.632488         -73.703765         40.627288   \n",
      "9999991        40.644812         -73.779863         40.666525   \n",
      "\n",
      "         passenger_count  abs_diff_longitude  abs_diff_latitude  distance  \n",
      "0                      1            0.002701           0.009041  1.031896  \n",
      "10                     1            0.015614           0.003583  1.376087  \n",
      "22                     1            0.006248           0.006834  0.925311  \n",
      "33                     2            0.013840           0.006665  1.383106  \n",
      "43                     1            0.029870           0.043548  5.462866  \n",
      "...                  ...                 ...                ...       ...  \n",
      "9999950                1            0.016930           0.035402  4.191593  \n",
      "9999961                2            0.007848           0.020119  2.335298  \n",
      "9999971                2            0.006984           0.008437  1.108584  \n",
      "9999981                1            0.007403           0.005200  0.852184  \n",
      "9999991                1            0.001989           0.021713  2.422858  \n",
      "\n",
      "[967861 rows x 10 columns]\n",
      "CPU times: user 7.2 ms, sys: 548 µs, total: 7.75 ms\n",
      "Wall time: 7.39 ms\n"
     ]
    }
   ],
   "source": [
    "%%time\n",
    "print(data[::10])"
   ]
  },
  {
   "cell_type": "markdown",
   "metadata": {},
   "source": [
    "### Creating new features like year, month, day, hour and dayOfWeek from pickup_datetime"
   ]
  },
  {
   "cell_type": "code",
   "execution_count": 78,
   "metadata": {},
   "outputs": [],
   "source": [
    "def split_datetime(df):\n",
    "        df['pickup_datetime'] = pd.to_datetime(df['pickup_datetime'], format=\"%Y-%m-%d %H:%M:%S UTC\")\n",
    "        df['year'] = df['pickup_datetime'].dt.year\n",
    "        df['month'] = df['pickup_datetime'].dt.month\n",
    "        df['day'] = df['pickup_datetime'].dt.day\n",
    "        df['hour'] = df['pickup_datetime'].dt.hour\n",
    "        df['dayOfWeek'] = df['pickup_datetime'].dt.dayofweek\n",
    "        \n",
    "        return df"
   ]
  },
  {
   "cell_type": "code",
   "execution_count": 79,
   "metadata": {
    "scrolled": true
   },
   "outputs": [
    {
     "name": "stdout",
     "output_type": "stream",
     "text": [
      "CPU times: user 34.8 s, sys: 489 ms, total: 35.3 s\n",
      "Wall time: 34.9 s\n"
     ]
    },
    {
     "data": {
      "text/html": [
       "<div>\n",
       "<style scoped>\n",
       "    .dataframe tbody tr th:only-of-type {\n",
       "        vertical-align: middle;\n",
       "    }\n",
       "\n",
       "    .dataframe tbody tr th {\n",
       "        vertical-align: top;\n",
       "    }\n",
       "\n",
       "    .dataframe thead th {\n",
       "        text-align: right;\n",
       "    }\n",
       "</style>\n",
       "<table border=\"1\" class=\"dataframe\">\n",
       "  <thead>\n",
       "    <tr style=\"text-align: right;\">\n",
       "      <th></th>\n",
       "      <th>fare_amount</th>\n",
       "      <th>pickup_datetime</th>\n",
       "      <th>pickup_longitude</th>\n",
       "      <th>pickup_latitude</th>\n",
       "      <th>dropoff_longitude</th>\n",
       "      <th>dropoff_latitude</th>\n",
       "      <th>passenger_count</th>\n",
       "      <th>abs_diff_longitude</th>\n",
       "      <th>abs_diff_latitude</th>\n",
       "      <th>distance</th>\n",
       "      <th>year</th>\n",
       "      <th>month</th>\n",
       "      <th>day</th>\n",
       "      <th>hour</th>\n",
       "      <th>dayOfWeek</th>\n",
       "    </tr>\n",
       "  </thead>\n",
       "  <tbody>\n",
       "    <tr>\n",
       "      <td>0</td>\n",
       "      <td>4.5</td>\n",
       "      <td>2009-06-15 17:26:21</td>\n",
       "      <td>-73.844311</td>\n",
       "      <td>40.721319</td>\n",
       "      <td>-73.841610</td>\n",
       "      <td>40.712278</td>\n",
       "      <td>1</td>\n",
       "      <td>0.002701</td>\n",
       "      <td>0.009041</td>\n",
       "      <td>1.031896</td>\n",
       "      <td>2009</td>\n",
       "      <td>6</td>\n",
       "      <td>15</td>\n",
       "      <td>17</td>\n",
       "      <td>0</td>\n",
       "    </tr>\n",
       "    <tr>\n",
       "      <td>1</td>\n",
       "      <td>16.9</td>\n",
       "      <td>2010-01-05 16:52:16</td>\n",
       "      <td>-74.016048</td>\n",
       "      <td>40.711303</td>\n",
       "      <td>-73.979268</td>\n",
       "      <td>40.782004</td>\n",
       "      <td>1</td>\n",
       "      <td>0.036780</td>\n",
       "      <td>0.070701</td>\n",
       "      <td>8.459418</td>\n",
       "      <td>2010</td>\n",
       "      <td>1</td>\n",
       "      <td>5</td>\n",
       "      <td>16</td>\n",
       "      <td>1</td>\n",
       "    </tr>\n",
       "    <tr>\n",
       "      <td>2</td>\n",
       "      <td>5.7</td>\n",
       "      <td>2011-08-18 00:35:00</td>\n",
       "      <td>-73.982738</td>\n",
       "      <td>40.761270</td>\n",
       "      <td>-73.991242</td>\n",
       "      <td>40.750562</td>\n",
       "      <td>2</td>\n",
       "      <td>0.008504</td>\n",
       "      <td>0.010708</td>\n",
       "      <td>1.391052</td>\n",
       "      <td>2011</td>\n",
       "      <td>8</td>\n",
       "      <td>18</td>\n",
       "      <td>0</td>\n",
       "      <td>3</td>\n",
       "    </tr>\n",
       "    <tr>\n",
       "      <td>3</td>\n",
       "      <td>7.7</td>\n",
       "      <td>2012-04-21 04:30:42</td>\n",
       "      <td>-73.987130</td>\n",
       "      <td>40.733143</td>\n",
       "      <td>-73.991567</td>\n",
       "      <td>40.758092</td>\n",
       "      <td>1</td>\n",
       "      <td>0.004437</td>\n",
       "      <td>0.024949</td>\n",
       "      <td>2.802346</td>\n",
       "      <td>2012</td>\n",
       "      <td>4</td>\n",
       "      <td>21</td>\n",
       "      <td>4</td>\n",
       "      <td>5</td>\n",
       "    </tr>\n",
       "    <tr>\n",
       "      <td>4</td>\n",
       "      <td>5.3</td>\n",
       "      <td>2010-03-09 07:51:00</td>\n",
       "      <td>-73.968095</td>\n",
       "      <td>40.768008</td>\n",
       "      <td>-73.956655</td>\n",
       "      <td>40.783762</td>\n",
       "      <td>1</td>\n",
       "      <td>0.011440</td>\n",
       "      <td>0.015754</td>\n",
       "      <td>2.001353</td>\n",
       "      <td>2010</td>\n",
       "      <td>3</td>\n",
       "      <td>9</td>\n",
       "      <td>7</td>\n",
       "      <td>1</td>\n",
       "    </tr>\n",
       "    <tr>\n",
       "      <td>...</td>\n",
       "      <td>...</td>\n",
       "      <td>...</td>\n",
       "      <td>...</td>\n",
       "      <td>...</td>\n",
       "      <td>...</td>\n",
       "      <td>...</td>\n",
       "      <td>...</td>\n",
       "      <td>...</td>\n",
       "      <td>...</td>\n",
       "      <td>...</td>\n",
       "      <td>...</td>\n",
       "      <td>...</td>\n",
       "      <td>...</td>\n",
       "      <td>...</td>\n",
       "      <td>...</td>\n",
       "    </tr>\n",
       "    <tr>\n",
       "      <td>9999995</td>\n",
       "      <td>5.7</td>\n",
       "      <td>2012-08-12 01:18:00</td>\n",
       "      <td>-73.999464</td>\n",
       "      <td>40.728452</td>\n",
       "      <td>-73.993299</td>\n",
       "      <td>40.742100</td>\n",
       "      <td>2</td>\n",
       "      <td>0.006165</td>\n",
       "      <td>0.013648</td>\n",
       "      <td>1.605786</td>\n",
       "      <td>2012</td>\n",
       "      <td>8</td>\n",
       "      <td>12</td>\n",
       "      <td>1</td>\n",
       "      <td>6</td>\n",
       "    </tr>\n",
       "    <tr>\n",
       "      <td>9999996</td>\n",
       "      <td>5.5</td>\n",
       "      <td>2013-08-07 10:28:00</td>\n",
       "      <td>-73.968467</td>\n",
       "      <td>40.759367</td>\n",
       "      <td>-73.964967</td>\n",
       "      <td>40.769027</td>\n",
       "      <td>1</td>\n",
       "      <td>0.003500</td>\n",
       "      <td>0.009660</td>\n",
       "      <td>1.115078</td>\n",
       "      <td>2013</td>\n",
       "      <td>8</td>\n",
       "      <td>7</td>\n",
       "      <td>10</td>\n",
       "      <td>2</td>\n",
       "    </tr>\n",
       "    <tr>\n",
       "      <td>9999997</td>\n",
       "      <td>14.0</td>\n",
       "      <td>2013-10-29 08:29:00</td>\n",
       "      <td>-73.997952</td>\n",
       "      <td>40.733717</td>\n",
       "      <td>-73.973448</td>\n",
       "      <td>40.759122</td>\n",
       "      <td>5</td>\n",
       "      <td>0.024504</td>\n",
       "      <td>0.025405</td>\n",
       "      <td>3.502599</td>\n",
       "      <td>2013</td>\n",
       "      <td>10</td>\n",
       "      <td>29</td>\n",
       "      <td>8</td>\n",
       "      <td>1</td>\n",
       "    </tr>\n",
       "    <tr>\n",
       "      <td>9999998</td>\n",
       "      <td>10.5</td>\n",
       "      <td>2012-04-07 16:41:33</td>\n",
       "      <td>-73.992700</td>\n",
       "      <td>40.752021</td>\n",
       "      <td>-73.964705</td>\n",
       "      <td>40.772849</td>\n",
       "      <td>1</td>\n",
       "      <td>0.027995</td>\n",
       "      <td>0.020828</td>\n",
       "      <td>3.308606</td>\n",
       "      <td>2012</td>\n",
       "      <td>4</td>\n",
       "      <td>7</td>\n",
       "      <td>16</td>\n",
       "      <td>5</td>\n",
       "    </tr>\n",
       "    <tr>\n",
       "      <td>9999999</td>\n",
       "      <td>8.5</td>\n",
       "      <td>2010-03-30 19:27:00</td>\n",
       "      <td>-73.965390</td>\n",
       "      <td>40.768572</td>\n",
       "      <td>-73.998188</td>\n",
       "      <td>40.761073</td>\n",
       "      <td>1</td>\n",
       "      <td>0.032798</td>\n",
       "      <td>0.007499</td>\n",
       "      <td>2.888489</td>\n",
       "      <td>2010</td>\n",
       "      <td>3</td>\n",
       "      <td>30</td>\n",
       "      <td>19</td>\n",
       "      <td>1</td>\n",
       "    </tr>\n",
       "  </tbody>\n",
       "</table>\n",
       "<p>9678609 rows × 15 columns</p>\n",
       "</div>"
      ],
      "text/plain": [
       "         fare_amount     pickup_datetime  pickup_longitude  pickup_latitude  \\\n",
       "0                4.5 2009-06-15 17:26:21        -73.844311        40.721319   \n",
       "1               16.9 2010-01-05 16:52:16        -74.016048        40.711303   \n",
       "2                5.7 2011-08-18 00:35:00        -73.982738        40.761270   \n",
       "3                7.7 2012-04-21 04:30:42        -73.987130        40.733143   \n",
       "4                5.3 2010-03-09 07:51:00        -73.968095        40.768008   \n",
       "...              ...                 ...               ...              ...   \n",
       "9999995          5.7 2012-08-12 01:18:00        -73.999464        40.728452   \n",
       "9999996          5.5 2013-08-07 10:28:00        -73.968467        40.759367   \n",
       "9999997         14.0 2013-10-29 08:29:00        -73.997952        40.733717   \n",
       "9999998         10.5 2012-04-07 16:41:33        -73.992700        40.752021   \n",
       "9999999          8.5 2010-03-30 19:27:00        -73.965390        40.768572   \n",
       "\n",
       "         dropoff_longitude  dropoff_latitude  passenger_count  \\\n",
       "0               -73.841610         40.712278                1   \n",
       "1               -73.979268         40.782004                1   \n",
       "2               -73.991242         40.750562                2   \n",
       "3               -73.991567         40.758092                1   \n",
       "4               -73.956655         40.783762                1   \n",
       "...                    ...               ...              ...   \n",
       "9999995         -73.993299         40.742100                2   \n",
       "9999996         -73.964967         40.769027                1   \n",
       "9999997         -73.973448         40.759122                5   \n",
       "9999998         -73.964705         40.772849                1   \n",
       "9999999         -73.998188         40.761073                1   \n",
       "\n",
       "         abs_diff_longitude  abs_diff_latitude  distance  year  month  day  \\\n",
       "0                  0.002701           0.009041  1.031896  2009      6   15   \n",
       "1                  0.036780           0.070701  8.459418  2010      1    5   \n",
       "2                  0.008504           0.010708  1.391052  2011      8   18   \n",
       "3                  0.004437           0.024949  2.802346  2012      4   21   \n",
       "4                  0.011440           0.015754  2.001353  2010      3    9   \n",
       "...                     ...                ...       ...   ...    ...  ...   \n",
       "9999995            0.006165           0.013648  1.605786  2012      8   12   \n",
       "9999996            0.003500           0.009660  1.115078  2013      8    7   \n",
       "9999997            0.024504           0.025405  3.502599  2013     10   29   \n",
       "9999998            0.027995           0.020828  3.308606  2012      4    7   \n",
       "9999999            0.032798           0.007499  2.888489  2010      3   30   \n",
       "\n",
       "         hour  dayOfWeek  \n",
       "0          17          0  \n",
       "1          16          1  \n",
       "2           0          3  \n",
       "3           4          5  \n",
       "4           7          1  \n",
       "...       ...        ...  \n",
       "9999995     1          6  \n",
       "9999996    10          2  \n",
       "9999997     8          1  \n",
       "9999998    16          5  \n",
       "9999999    19          1  \n",
       "\n",
       "[9678609 rows x 15 columns]"
      ]
     },
     "execution_count": 79,
     "metadata": {},
     "output_type": "execute_result"
    }
   ],
   "source": [
    "%%time\n",
    "split_datetime(data)"
   ]
  },
  {
   "cell_type": "markdown",
   "metadata": {},
   "source": [
    "Now that we have split pickup_datetime into year, month, day, hour and year"
   ]
  },
  {
   "cell_type": "markdown",
   "metadata": {},
   "source": [
    "### Let's take a look at hour adn dayOfWeek"
   ]
  },
  {
   "cell_type": "code",
   "execution_count": 80,
   "metadata": {
    "scrolled": true
   },
   "outputs": [
    {
     "name": "stdout",
     "output_type": "stream",
     "text": [
      "CPU times: user 414 ms, sys: 63.9 ms, total: 478 ms\n",
      "Wall time: 293 ms\n"
     ]
    },
    {
     "data": {
      "text/plain": [
       "count    9.678609e+06\n",
       "mean     1.351339e+01\n",
       "std      6.515992e+00\n",
       "min      0.000000e+00\n",
       "25%      9.000000e+00\n",
       "50%      1.400000e+01\n",
       "75%      1.900000e+01\n",
       "max      2.300000e+01\n",
       "Name: hour, dtype: float64"
      ]
     },
     "execution_count": 80,
     "metadata": {},
     "output_type": "execute_result"
    }
   ],
   "source": [
    "%%time\n",
    "data['hour'].describe()"
   ]
  },
  {
   "cell_type": "markdown",
   "metadata": {},
   "source": [
    "According to New York Times, rush hours is ususally between 7 to 9AM and from 4 to 6PM. Let's create a new feature from hour"
   ]
  },
  {
   "cell_type": "code",
   "execution_count": 81,
   "metadata": {},
   "outputs": [],
   "source": [
    "# 1 for rush hour, 0 for not\n",
    "def rush_hour(hour):\n",
    "    if hour in range(7, 10) or hour in range(4, 7):\n",
    "        return 1\n",
    "    else:\n",
    "        return 0"
   ]
  },
  {
   "cell_type": "code",
   "execution_count": 82,
   "metadata": {
    "scrolled": true
   },
   "outputs": [
    {
     "name": "stdout",
     "output_type": "stream",
     "text": [
      "CPU times: user 7.06 s, sys: 179 ms, total: 7.24 s\n",
      "Wall time: 7.52 s\n"
     ]
    }
   ],
   "source": [
    "%%time\n",
    "data['rush_hour'] = data['hour'].apply(rush_hour)"
   ]
  },
  {
   "cell_type": "code",
   "execution_count": 83,
   "metadata": {},
   "outputs": [
    {
     "data": {
      "text/html": [
       "<div>\n",
       "<style scoped>\n",
       "    .dataframe tbody tr th:only-of-type {\n",
       "        vertical-align: middle;\n",
       "    }\n",
       "\n",
       "    .dataframe tbody tr th {\n",
       "        vertical-align: top;\n",
       "    }\n",
       "\n",
       "    .dataframe thead th {\n",
       "        text-align: right;\n",
       "    }\n",
       "</style>\n",
       "<table border=\"1\" class=\"dataframe\">\n",
       "  <thead>\n",
       "    <tr style=\"text-align: right;\">\n",
       "      <th></th>\n",
       "      <th>fare_amount</th>\n",
       "      <th>pickup_longitude</th>\n",
       "      <th>pickup_latitude</th>\n",
       "      <th>dropoff_longitude</th>\n",
       "      <th>dropoff_latitude</th>\n",
       "      <th>passenger_count</th>\n",
       "      <th>abs_diff_longitude</th>\n",
       "      <th>abs_diff_latitude</th>\n",
       "      <th>distance</th>\n",
       "      <th>year</th>\n",
       "      <th>month</th>\n",
       "      <th>day</th>\n",
       "      <th>hour</th>\n",
       "      <th>dayOfWeek</th>\n",
       "      <th>rush_hour</th>\n",
       "    </tr>\n",
       "  </thead>\n",
       "  <tbody>\n",
       "    <tr>\n",
       "      <td>count</td>\n",
       "      <td>9.678609e+06</td>\n",
       "      <td>9.678609e+06</td>\n",
       "      <td>9.678609e+06</td>\n",
       "      <td>9.678609e+06</td>\n",
       "      <td>9.678609e+06</td>\n",
       "      <td>9.678609e+06</td>\n",
       "      <td>9.678609e+06</td>\n",
       "      <td>9.678609e+06</td>\n",
       "      <td>9.678609e+06</td>\n",
       "      <td>9.678609e+06</td>\n",
       "      <td>9.678609e+06</td>\n",
       "      <td>9.678609e+06</td>\n",
       "      <td>9.678609e+06</td>\n",
       "      <td>9.678609e+06</td>\n",
       "      <td>9.678609e+06</td>\n",
       "    </tr>\n",
       "    <tr>\n",
       "      <td>mean</td>\n",
       "      <td>1.134274e+01</td>\n",
       "      <td>-7.383489e+01</td>\n",
       "      <td>4.065208e+01</td>\n",
       "      <td>-7.383947e+01</td>\n",
       "      <td>4.065473e+01</td>\n",
       "      <td>1.690974e+00</td>\n",
       "      <td>1.679034e-01</td>\n",
       "      <td>9.580614e-02</td>\n",
       "      <td>2.013909e+01</td>\n",
       "      <td>2.011746e+03</td>\n",
       "      <td>6.267631e+00</td>\n",
       "      <td>1.571740e+01</td>\n",
       "      <td>1.351339e+01</td>\n",
       "      <td>3.041449e+00</td>\n",
       "      <td>1.699693e-01</td>\n",
       "    </tr>\n",
       "    <tr>\n",
       "      <td>std</td>\n",
       "      <td>9.670004e+00</td>\n",
       "      <td>3.566599e+00</td>\n",
       "      <td>2.875887e+00</td>\n",
       "      <td>3.510276e+00</td>\n",
       "      <td>2.859540e+00</td>\n",
       "      <td>1.306586e+00</td>\n",
       "      <td>3.260679e+00</td>\n",
       "      <td>1.733879e+00</td>\n",
       "      <td>3.734531e+02</td>\n",
       "      <td>1.866468e+00</td>\n",
       "      <td>3.435410e+00</td>\n",
       "      <td>8.684960e+00</td>\n",
       "      <td>6.515992e+00</td>\n",
       "      <td>1.949078e+00</td>\n",
       "      <td>3.756058e-01</td>\n",
       "    </tr>\n",
       "    <tr>\n",
       "      <td>min</td>\n",
       "      <td>1.000000e-02</td>\n",
       "      <td>-1.686035e+02</td>\n",
       "      <td>-7.482416e+01</td>\n",
       "      <td>-1.733420e+02</td>\n",
       "      <td>-7.419320e+01</td>\n",
       "      <td>1.000000e+00</td>\n",
       "      <td>0.000000e+00</td>\n",
       "      <td>0.000000e+00</td>\n",
       "      <td>8.384762e-05</td>\n",
       "      <td>2.009000e+03</td>\n",
       "      <td>1.000000e+00</td>\n",
       "      <td>1.000000e+00</td>\n",
       "      <td>0.000000e+00</td>\n",
       "      <td>0.000000e+00</td>\n",
       "      <td>0.000000e+00</td>\n",
       "    </tr>\n",
       "    <tr>\n",
       "      <td>25%</td>\n",
       "      <td>6.000000e+00</td>\n",
       "      <td>-7.399228e+01</td>\n",
       "      <td>4.073645e+01</td>\n",
       "      <td>-7.399158e+01</td>\n",
       "      <td>4.073545e+01</td>\n",
       "      <td>1.000000e+00</td>\n",
       "      <td>6.329000e-03</td>\n",
       "      <td>7.141113e-03</td>\n",
       "      <td>1.280997e+00</td>\n",
       "      <td>2.010000e+03</td>\n",
       "      <td>3.000000e+00</td>\n",
       "      <td>8.000000e+00</td>\n",
       "      <td>9.000000e+00</td>\n",
       "      <td>1.000000e+00</td>\n",
       "      <td>0.000000e+00</td>\n",
       "    </tr>\n",
       "    <tr>\n",
       "      <td>50%</td>\n",
       "      <td>8.500000e+00</td>\n",
       "      <td>-7.398211e+01</td>\n",
       "      <td>4.075330e+01</td>\n",
       "      <td>-7.398060e+01</td>\n",
       "      <td>4.075382e+01</td>\n",
       "      <td>1.000000e+00</td>\n",
       "      <td>1.288000e-02</td>\n",
       "      <td>1.438100e-02</td>\n",
       "      <td>2.183518e+00</td>\n",
       "      <td>2.012000e+03</td>\n",
       "      <td>6.000000e+00</td>\n",
       "      <td>1.600000e+01</td>\n",
       "      <td>1.400000e+01</td>\n",
       "      <td>3.000000e+00</td>\n",
       "      <td>0.000000e+00</td>\n",
       "    </tr>\n",
       "    <tr>\n",
       "      <td>75%</td>\n",
       "      <td>1.250000e+01</td>\n",
       "      <td>-7.396835e+01</td>\n",
       "      <td>4.076750e+01</td>\n",
       "      <td>-7.396538e+01</td>\n",
       "      <td>4.076838e+01</td>\n",
       "      <td>2.000000e+00</td>\n",
       "      <td>2.421000e-02</td>\n",
       "      <td>2.753000e-02</td>\n",
       "      <td>3.964757e+00</td>\n",
       "      <td>2.013000e+03</td>\n",
       "      <td>9.000000e+00</td>\n",
       "      <td>2.300000e+01</td>\n",
       "      <td>1.900000e+01</td>\n",
       "      <td>5.000000e+00</td>\n",
       "      <td>0.000000e+00</td>\n",
       "    </tr>\n",
       "    <tr>\n",
       "      <td>max</td>\n",
       "      <td>9.520000e+02</td>\n",
       "      <td>7.393784e+01</td>\n",
       "      <td>8.974216e+01</td>\n",
       "      <td>7.394509e+01</td>\n",
       "      <td>8.155467e+01</td>\n",
       "      <td>6.000000e+00</td>\n",
       "      <td>1.194450e+02</td>\n",
       "      <td>1.155504e+02</td>\n",
       "      <td>1.286588e+04</td>\n",
       "      <td>2.015000e+03</td>\n",
       "      <td>1.200000e+01</td>\n",
       "      <td>3.100000e+01</td>\n",
       "      <td>2.300000e+01</td>\n",
       "      <td>6.000000e+00</td>\n",
       "      <td>1.000000e+00</td>\n",
       "    </tr>\n",
       "  </tbody>\n",
       "</table>\n",
       "</div>"
      ],
      "text/plain": [
       "        fare_amount  pickup_longitude  pickup_latitude  dropoff_longitude  \\\n",
       "count  9.678609e+06      9.678609e+06     9.678609e+06       9.678609e+06   \n",
       "mean   1.134274e+01     -7.383489e+01     4.065208e+01      -7.383947e+01   \n",
       "std    9.670004e+00      3.566599e+00     2.875887e+00       3.510276e+00   \n",
       "min    1.000000e-02     -1.686035e+02    -7.482416e+01      -1.733420e+02   \n",
       "25%    6.000000e+00     -7.399228e+01     4.073645e+01      -7.399158e+01   \n",
       "50%    8.500000e+00     -7.398211e+01     4.075330e+01      -7.398060e+01   \n",
       "75%    1.250000e+01     -7.396835e+01     4.076750e+01      -7.396538e+01   \n",
       "max    9.520000e+02      7.393784e+01     8.974216e+01       7.394509e+01   \n",
       "\n",
       "       dropoff_latitude  passenger_count  abs_diff_longitude  \\\n",
       "count      9.678609e+06     9.678609e+06        9.678609e+06   \n",
       "mean       4.065473e+01     1.690974e+00        1.679034e-01   \n",
       "std        2.859540e+00     1.306586e+00        3.260679e+00   \n",
       "min       -7.419320e+01     1.000000e+00        0.000000e+00   \n",
       "25%        4.073545e+01     1.000000e+00        6.329000e-03   \n",
       "50%        4.075382e+01     1.000000e+00        1.288000e-02   \n",
       "75%        4.076838e+01     2.000000e+00        2.421000e-02   \n",
       "max        8.155467e+01     6.000000e+00        1.194450e+02   \n",
       "\n",
       "       abs_diff_latitude      distance          year         month  \\\n",
       "count       9.678609e+06  9.678609e+06  9.678609e+06  9.678609e+06   \n",
       "mean        9.580614e-02  2.013909e+01  2.011746e+03  6.267631e+00   \n",
       "std         1.733879e+00  3.734531e+02  1.866468e+00  3.435410e+00   \n",
       "min         0.000000e+00  8.384762e-05  2.009000e+03  1.000000e+00   \n",
       "25%         7.141113e-03  1.280997e+00  2.010000e+03  3.000000e+00   \n",
       "50%         1.438100e-02  2.183518e+00  2.012000e+03  6.000000e+00   \n",
       "75%         2.753000e-02  3.964757e+00  2.013000e+03  9.000000e+00   \n",
       "max         1.155504e+02  1.286588e+04  2.015000e+03  1.200000e+01   \n",
       "\n",
       "                day          hour     dayOfWeek     rush_hour  \n",
       "count  9.678609e+06  9.678609e+06  9.678609e+06  9.678609e+06  \n",
       "mean   1.571740e+01  1.351339e+01  3.041449e+00  1.699693e-01  \n",
       "std    8.684960e+00  6.515992e+00  1.949078e+00  3.756058e-01  \n",
       "min    1.000000e+00  0.000000e+00  0.000000e+00  0.000000e+00  \n",
       "25%    8.000000e+00  9.000000e+00  1.000000e+00  0.000000e+00  \n",
       "50%    1.600000e+01  1.400000e+01  3.000000e+00  0.000000e+00  \n",
       "75%    2.300000e+01  1.900000e+01  5.000000e+00  0.000000e+00  \n",
       "max    3.100000e+01  2.300000e+01  6.000000e+00  1.000000e+00  "
      ]
     },
     "execution_count": 83,
     "metadata": {},
     "output_type": "execute_result"
    }
   ],
   "source": [
    "data.describe()"
   ]
  },
  {
   "cell_type": "code",
   "execution_count": 84,
   "metadata": {},
   "outputs": [
    {
     "name": "stdout",
     "output_type": "stream",
     "text": [
      "CPU times: user 364 ms, sys: 91.9 ms, total: 456 ms\n",
      "Wall time: 286 ms\n"
     ]
    },
    {
     "data": {
      "text/plain": [
       "count    9.678609e+06\n",
       "mean     3.041449e+00\n",
       "std      1.949078e+00\n",
       "min      0.000000e+00\n",
       "25%      1.000000e+00\n",
       "50%      3.000000e+00\n",
       "75%      5.000000e+00\n",
       "max      6.000000e+00\n",
       "Name: dayOfWeek, dtype: float64"
      ]
     },
     "execution_count": 84,
     "metadata": {},
     "output_type": "execute_result"
    }
   ],
   "source": [
    "%%time\n",
    "data['dayOfWeek'].describe()"
   ]
  },
  {
   "cell_type": "markdown",
   "metadata": {},
   "source": [
    "We can also create a new feature from daysOfWeek. We can check if it's a weekend or not"
   ]
  },
  {
   "cell_type": "code",
   "execution_count": 85,
   "metadata": {},
   "outputs": [],
   "source": [
    "# 1 for weekend, 0 for not\n",
    "def weekend(dayOfWeek):\n",
    "    if dayOfWeek == 0 or dayOfWeek == 6:\n",
    "        return 1\n",
    "    else:\n",
    "        return 0"
   ]
  },
  {
   "cell_type": "code",
   "execution_count": 86,
   "metadata": {},
   "outputs": [
    {
     "name": "stdout",
     "output_type": "stream",
     "text": [
      "CPU times: user 2.97 s, sys: 143 ms, total: 3.12 s\n",
      "Wall time: 3.1 s\n"
     ]
    }
   ],
   "source": [
    "%%time\n",
    "data['weekend'] = data['dayOfWeek'].apply(weekend)"
   ]
  },
  {
   "cell_type": "code",
   "execution_count": 87,
   "metadata": {
    "scrolled": false
   },
   "outputs": [
    {
     "data": {
      "text/html": [
       "<div>\n",
       "<style scoped>\n",
       "    .dataframe tbody tr th:only-of-type {\n",
       "        vertical-align: middle;\n",
       "    }\n",
       "\n",
       "    .dataframe tbody tr th {\n",
       "        vertical-align: top;\n",
       "    }\n",
       "\n",
       "    .dataframe thead th {\n",
       "        text-align: right;\n",
       "    }\n",
       "</style>\n",
       "<table border=\"1\" class=\"dataframe\">\n",
       "  <thead>\n",
       "    <tr style=\"text-align: right;\">\n",
       "      <th></th>\n",
       "      <th>fare_amount</th>\n",
       "      <th>pickup_longitude</th>\n",
       "      <th>pickup_latitude</th>\n",
       "      <th>dropoff_longitude</th>\n",
       "      <th>dropoff_latitude</th>\n",
       "      <th>passenger_count</th>\n",
       "      <th>abs_diff_longitude</th>\n",
       "      <th>abs_diff_latitude</th>\n",
       "      <th>distance</th>\n",
       "      <th>year</th>\n",
       "      <th>month</th>\n",
       "      <th>day</th>\n",
       "      <th>hour</th>\n",
       "      <th>dayOfWeek</th>\n",
       "      <th>rush_hour</th>\n",
       "      <th>weekend</th>\n",
       "    </tr>\n",
       "  </thead>\n",
       "  <tbody>\n",
       "    <tr>\n",
       "      <td>count</td>\n",
       "      <td>9.678609e+06</td>\n",
       "      <td>9.678609e+06</td>\n",
       "      <td>9.678609e+06</td>\n",
       "      <td>9.678609e+06</td>\n",
       "      <td>9.678609e+06</td>\n",
       "      <td>9.678609e+06</td>\n",
       "      <td>9.678609e+06</td>\n",
       "      <td>9.678609e+06</td>\n",
       "      <td>9.678609e+06</td>\n",
       "      <td>9.678609e+06</td>\n",
       "      <td>9.678609e+06</td>\n",
       "      <td>9.678609e+06</td>\n",
       "      <td>9.678609e+06</td>\n",
       "      <td>9.678609e+06</td>\n",
       "      <td>9.678609e+06</td>\n",
       "      <td>9.678609e+06</td>\n",
       "    </tr>\n",
       "    <tr>\n",
       "      <td>mean</td>\n",
       "      <td>1.134274e+01</td>\n",
       "      <td>-7.383489e+01</td>\n",
       "      <td>4.065208e+01</td>\n",
       "      <td>-7.383947e+01</td>\n",
       "      <td>4.065473e+01</td>\n",
       "      <td>1.690974e+00</td>\n",
       "      <td>1.679034e-01</td>\n",
       "      <td>9.580614e-02</td>\n",
       "      <td>2.013909e+01</td>\n",
       "      <td>2.011746e+03</td>\n",
       "      <td>6.267631e+00</td>\n",
       "      <td>1.571740e+01</td>\n",
       "      <td>1.351339e+01</td>\n",
       "      <td>3.041449e+00</td>\n",
       "      <td>1.699693e-01</td>\n",
       "      <td>2.593431e-01</td>\n",
       "    </tr>\n",
       "    <tr>\n",
       "      <td>std</td>\n",
       "      <td>9.670004e+00</td>\n",
       "      <td>3.566599e+00</td>\n",
       "      <td>2.875887e+00</td>\n",
       "      <td>3.510276e+00</td>\n",
       "      <td>2.859540e+00</td>\n",
       "      <td>1.306586e+00</td>\n",
       "      <td>3.260679e+00</td>\n",
       "      <td>1.733879e+00</td>\n",
       "      <td>3.734531e+02</td>\n",
       "      <td>1.866468e+00</td>\n",
       "      <td>3.435410e+00</td>\n",
       "      <td>8.684960e+00</td>\n",
       "      <td>6.515992e+00</td>\n",
       "      <td>1.949078e+00</td>\n",
       "      <td>3.756058e-01</td>\n",
       "      <td>4.382742e-01</td>\n",
       "    </tr>\n",
       "    <tr>\n",
       "      <td>min</td>\n",
       "      <td>1.000000e-02</td>\n",
       "      <td>-1.686035e+02</td>\n",
       "      <td>-7.482416e+01</td>\n",
       "      <td>-1.733420e+02</td>\n",
       "      <td>-7.419320e+01</td>\n",
       "      <td>1.000000e+00</td>\n",
       "      <td>0.000000e+00</td>\n",
       "      <td>0.000000e+00</td>\n",
       "      <td>8.384762e-05</td>\n",
       "      <td>2.009000e+03</td>\n",
       "      <td>1.000000e+00</td>\n",
       "      <td>1.000000e+00</td>\n",
       "      <td>0.000000e+00</td>\n",
       "      <td>0.000000e+00</td>\n",
       "      <td>0.000000e+00</td>\n",
       "      <td>0.000000e+00</td>\n",
       "    </tr>\n",
       "    <tr>\n",
       "      <td>25%</td>\n",
       "      <td>6.000000e+00</td>\n",
       "      <td>-7.399228e+01</td>\n",
       "      <td>4.073645e+01</td>\n",
       "      <td>-7.399158e+01</td>\n",
       "      <td>4.073545e+01</td>\n",
       "      <td>1.000000e+00</td>\n",
       "      <td>6.329000e-03</td>\n",
       "      <td>7.141113e-03</td>\n",
       "      <td>1.280997e+00</td>\n",
       "      <td>2.010000e+03</td>\n",
       "      <td>3.000000e+00</td>\n",
       "      <td>8.000000e+00</td>\n",
       "      <td>9.000000e+00</td>\n",
       "      <td>1.000000e+00</td>\n",
       "      <td>0.000000e+00</td>\n",
       "      <td>0.000000e+00</td>\n",
       "    </tr>\n",
       "    <tr>\n",
       "      <td>50%</td>\n",
       "      <td>8.500000e+00</td>\n",
       "      <td>-7.398211e+01</td>\n",
       "      <td>4.075330e+01</td>\n",
       "      <td>-7.398060e+01</td>\n",
       "      <td>4.075382e+01</td>\n",
       "      <td>1.000000e+00</td>\n",
       "      <td>1.288000e-02</td>\n",
       "      <td>1.438100e-02</td>\n",
       "      <td>2.183518e+00</td>\n",
       "      <td>2.012000e+03</td>\n",
       "      <td>6.000000e+00</td>\n",
       "      <td>1.600000e+01</td>\n",
       "      <td>1.400000e+01</td>\n",
       "      <td>3.000000e+00</td>\n",
       "      <td>0.000000e+00</td>\n",
       "      <td>0.000000e+00</td>\n",
       "    </tr>\n",
       "    <tr>\n",
       "      <td>75%</td>\n",
       "      <td>1.250000e+01</td>\n",
       "      <td>-7.396835e+01</td>\n",
       "      <td>4.076750e+01</td>\n",
       "      <td>-7.396538e+01</td>\n",
       "      <td>4.076838e+01</td>\n",
       "      <td>2.000000e+00</td>\n",
       "      <td>2.421000e-02</td>\n",
       "      <td>2.753000e-02</td>\n",
       "      <td>3.964757e+00</td>\n",
       "      <td>2.013000e+03</td>\n",
       "      <td>9.000000e+00</td>\n",
       "      <td>2.300000e+01</td>\n",
       "      <td>1.900000e+01</td>\n",
       "      <td>5.000000e+00</td>\n",
       "      <td>0.000000e+00</td>\n",
       "      <td>1.000000e+00</td>\n",
       "    </tr>\n",
       "    <tr>\n",
       "      <td>max</td>\n",
       "      <td>9.520000e+02</td>\n",
       "      <td>7.393784e+01</td>\n",
       "      <td>8.974216e+01</td>\n",
       "      <td>7.394509e+01</td>\n",
       "      <td>8.155467e+01</td>\n",
       "      <td>6.000000e+00</td>\n",
       "      <td>1.194450e+02</td>\n",
       "      <td>1.155504e+02</td>\n",
       "      <td>1.286588e+04</td>\n",
       "      <td>2.015000e+03</td>\n",
       "      <td>1.200000e+01</td>\n",
       "      <td>3.100000e+01</td>\n",
       "      <td>2.300000e+01</td>\n",
       "      <td>6.000000e+00</td>\n",
       "      <td>1.000000e+00</td>\n",
       "      <td>1.000000e+00</td>\n",
       "    </tr>\n",
       "  </tbody>\n",
       "</table>\n",
       "</div>"
      ],
      "text/plain": [
       "        fare_amount  pickup_longitude  pickup_latitude  dropoff_longitude  \\\n",
       "count  9.678609e+06      9.678609e+06     9.678609e+06       9.678609e+06   \n",
       "mean   1.134274e+01     -7.383489e+01     4.065208e+01      -7.383947e+01   \n",
       "std    9.670004e+00      3.566599e+00     2.875887e+00       3.510276e+00   \n",
       "min    1.000000e-02     -1.686035e+02    -7.482416e+01      -1.733420e+02   \n",
       "25%    6.000000e+00     -7.399228e+01     4.073645e+01      -7.399158e+01   \n",
       "50%    8.500000e+00     -7.398211e+01     4.075330e+01      -7.398060e+01   \n",
       "75%    1.250000e+01     -7.396835e+01     4.076750e+01      -7.396538e+01   \n",
       "max    9.520000e+02      7.393784e+01     8.974216e+01       7.394509e+01   \n",
       "\n",
       "       dropoff_latitude  passenger_count  abs_diff_longitude  \\\n",
       "count      9.678609e+06     9.678609e+06        9.678609e+06   \n",
       "mean       4.065473e+01     1.690974e+00        1.679034e-01   \n",
       "std        2.859540e+00     1.306586e+00        3.260679e+00   \n",
       "min       -7.419320e+01     1.000000e+00        0.000000e+00   \n",
       "25%        4.073545e+01     1.000000e+00        6.329000e-03   \n",
       "50%        4.075382e+01     1.000000e+00        1.288000e-02   \n",
       "75%        4.076838e+01     2.000000e+00        2.421000e-02   \n",
       "max        8.155467e+01     6.000000e+00        1.194450e+02   \n",
       "\n",
       "       abs_diff_latitude      distance          year         month  \\\n",
       "count       9.678609e+06  9.678609e+06  9.678609e+06  9.678609e+06   \n",
       "mean        9.580614e-02  2.013909e+01  2.011746e+03  6.267631e+00   \n",
       "std         1.733879e+00  3.734531e+02  1.866468e+00  3.435410e+00   \n",
       "min         0.000000e+00  8.384762e-05  2.009000e+03  1.000000e+00   \n",
       "25%         7.141113e-03  1.280997e+00  2.010000e+03  3.000000e+00   \n",
       "50%         1.438100e-02  2.183518e+00  2.012000e+03  6.000000e+00   \n",
       "75%         2.753000e-02  3.964757e+00  2.013000e+03  9.000000e+00   \n",
       "max         1.155504e+02  1.286588e+04  2.015000e+03  1.200000e+01   \n",
       "\n",
       "                day          hour     dayOfWeek     rush_hour       weekend  \n",
       "count  9.678609e+06  9.678609e+06  9.678609e+06  9.678609e+06  9.678609e+06  \n",
       "mean   1.571740e+01  1.351339e+01  3.041449e+00  1.699693e-01  2.593431e-01  \n",
       "std    8.684960e+00  6.515992e+00  1.949078e+00  3.756058e-01  4.382742e-01  \n",
       "min    1.000000e+00  0.000000e+00  0.000000e+00  0.000000e+00  0.000000e+00  \n",
       "25%    8.000000e+00  9.000000e+00  1.000000e+00  0.000000e+00  0.000000e+00  \n",
       "50%    1.600000e+01  1.400000e+01  3.000000e+00  0.000000e+00  0.000000e+00  \n",
       "75%    2.300000e+01  1.900000e+01  5.000000e+00  0.000000e+00  1.000000e+00  \n",
       "max    3.100000e+01  2.300000e+01  6.000000e+00  1.000000e+00  1.000000e+00  "
      ]
     },
     "execution_count": 87,
     "metadata": {},
     "output_type": "execute_result"
    }
   ],
   "source": [
    "data.describe()"
   ]
  },
  {
   "cell_type": "markdown",
   "metadata": {},
   "source": [
    "rush_hour and weekend are categorical either 1 or 0, so we can crerate dummy columns from them"
   ]
  },
  {
   "cell_type": "code",
   "execution_count": 88,
   "metadata": {},
   "outputs": [],
   "source": [
    "data = pd.get_dummies(data, columns=['rush_hour','weekend'])"
   ]
  },
  {
   "cell_type": "code",
   "execution_count": 89,
   "metadata": {},
   "outputs": [
    {
     "data": {
      "text/html": [
       "<div>\n",
       "<style scoped>\n",
       "    .dataframe tbody tr th:only-of-type {\n",
       "        vertical-align: middle;\n",
       "    }\n",
       "\n",
       "    .dataframe tbody tr th {\n",
       "        vertical-align: top;\n",
       "    }\n",
       "\n",
       "    .dataframe thead th {\n",
       "        text-align: right;\n",
       "    }\n",
       "</style>\n",
       "<table border=\"1\" class=\"dataframe\">\n",
       "  <thead>\n",
       "    <tr style=\"text-align: right;\">\n",
       "      <th></th>\n",
       "      <th>fare_amount</th>\n",
       "      <th>pickup_longitude</th>\n",
       "      <th>pickup_latitude</th>\n",
       "      <th>dropoff_longitude</th>\n",
       "      <th>dropoff_latitude</th>\n",
       "      <th>passenger_count</th>\n",
       "      <th>abs_diff_longitude</th>\n",
       "      <th>abs_diff_latitude</th>\n",
       "      <th>distance</th>\n",
       "      <th>year</th>\n",
       "      <th>month</th>\n",
       "      <th>day</th>\n",
       "      <th>hour</th>\n",
       "      <th>dayOfWeek</th>\n",
       "      <th>rush_hour_0</th>\n",
       "      <th>rush_hour_1</th>\n",
       "      <th>weekend_0</th>\n",
       "      <th>weekend_1</th>\n",
       "    </tr>\n",
       "  </thead>\n",
       "  <tbody>\n",
       "    <tr>\n",
       "      <td>count</td>\n",
       "      <td>9.678609e+06</td>\n",
       "      <td>9.678609e+06</td>\n",
       "      <td>9.678609e+06</td>\n",
       "      <td>9.678609e+06</td>\n",
       "      <td>9.678609e+06</td>\n",
       "      <td>9.678609e+06</td>\n",
       "      <td>9.678609e+06</td>\n",
       "      <td>9.678609e+06</td>\n",
       "      <td>9.678609e+06</td>\n",
       "      <td>9.678609e+06</td>\n",
       "      <td>9.678609e+06</td>\n",
       "      <td>9.678609e+06</td>\n",
       "      <td>9.678609e+06</td>\n",
       "      <td>9.678609e+06</td>\n",
       "      <td>9.678609e+06</td>\n",
       "      <td>9.678609e+06</td>\n",
       "      <td>9.678609e+06</td>\n",
       "      <td>9.678609e+06</td>\n",
       "    </tr>\n",
       "    <tr>\n",
       "      <td>mean</td>\n",
       "      <td>1.134274e+01</td>\n",
       "      <td>-7.383489e+01</td>\n",
       "      <td>4.065208e+01</td>\n",
       "      <td>-7.383947e+01</td>\n",
       "      <td>4.065473e+01</td>\n",
       "      <td>1.690974e+00</td>\n",
       "      <td>1.679034e-01</td>\n",
       "      <td>9.580614e-02</td>\n",
       "      <td>2.013909e+01</td>\n",
       "      <td>2.011746e+03</td>\n",
       "      <td>6.267631e+00</td>\n",
       "      <td>1.571740e+01</td>\n",
       "      <td>1.351339e+01</td>\n",
       "      <td>3.041449e+00</td>\n",
       "      <td>8.300307e-01</td>\n",
       "      <td>1.699693e-01</td>\n",
       "      <td>7.406569e-01</td>\n",
       "      <td>2.593431e-01</td>\n",
       "    </tr>\n",
       "    <tr>\n",
       "      <td>std</td>\n",
       "      <td>9.670004e+00</td>\n",
       "      <td>3.566599e+00</td>\n",
       "      <td>2.875887e+00</td>\n",
       "      <td>3.510276e+00</td>\n",
       "      <td>2.859540e+00</td>\n",
       "      <td>1.306586e+00</td>\n",
       "      <td>3.260679e+00</td>\n",
       "      <td>1.733879e+00</td>\n",
       "      <td>3.734531e+02</td>\n",
       "      <td>1.866468e+00</td>\n",
       "      <td>3.435410e+00</td>\n",
       "      <td>8.684960e+00</td>\n",
       "      <td>6.515992e+00</td>\n",
       "      <td>1.949078e+00</td>\n",
       "      <td>3.756058e-01</td>\n",
       "      <td>3.756058e-01</td>\n",
       "      <td>4.382742e-01</td>\n",
       "      <td>4.382742e-01</td>\n",
       "    </tr>\n",
       "    <tr>\n",
       "      <td>min</td>\n",
       "      <td>1.000000e-02</td>\n",
       "      <td>-1.686035e+02</td>\n",
       "      <td>-7.482416e+01</td>\n",
       "      <td>-1.733420e+02</td>\n",
       "      <td>-7.419320e+01</td>\n",
       "      <td>1.000000e+00</td>\n",
       "      <td>0.000000e+00</td>\n",
       "      <td>0.000000e+00</td>\n",
       "      <td>8.384762e-05</td>\n",
       "      <td>2.009000e+03</td>\n",
       "      <td>1.000000e+00</td>\n",
       "      <td>1.000000e+00</td>\n",
       "      <td>0.000000e+00</td>\n",
       "      <td>0.000000e+00</td>\n",
       "      <td>0.000000e+00</td>\n",
       "      <td>0.000000e+00</td>\n",
       "      <td>0.000000e+00</td>\n",
       "      <td>0.000000e+00</td>\n",
       "    </tr>\n",
       "    <tr>\n",
       "      <td>25%</td>\n",
       "      <td>6.000000e+00</td>\n",
       "      <td>-7.399228e+01</td>\n",
       "      <td>4.073645e+01</td>\n",
       "      <td>-7.399158e+01</td>\n",
       "      <td>4.073545e+01</td>\n",
       "      <td>1.000000e+00</td>\n",
       "      <td>6.329000e-03</td>\n",
       "      <td>7.141113e-03</td>\n",
       "      <td>1.280997e+00</td>\n",
       "      <td>2.010000e+03</td>\n",
       "      <td>3.000000e+00</td>\n",
       "      <td>8.000000e+00</td>\n",
       "      <td>9.000000e+00</td>\n",
       "      <td>1.000000e+00</td>\n",
       "      <td>1.000000e+00</td>\n",
       "      <td>0.000000e+00</td>\n",
       "      <td>0.000000e+00</td>\n",
       "      <td>0.000000e+00</td>\n",
       "    </tr>\n",
       "    <tr>\n",
       "      <td>50%</td>\n",
       "      <td>8.500000e+00</td>\n",
       "      <td>-7.398211e+01</td>\n",
       "      <td>4.075330e+01</td>\n",
       "      <td>-7.398060e+01</td>\n",
       "      <td>4.075382e+01</td>\n",
       "      <td>1.000000e+00</td>\n",
       "      <td>1.288000e-02</td>\n",
       "      <td>1.438100e-02</td>\n",
       "      <td>2.183518e+00</td>\n",
       "      <td>2.012000e+03</td>\n",
       "      <td>6.000000e+00</td>\n",
       "      <td>1.600000e+01</td>\n",
       "      <td>1.400000e+01</td>\n",
       "      <td>3.000000e+00</td>\n",
       "      <td>1.000000e+00</td>\n",
       "      <td>0.000000e+00</td>\n",
       "      <td>1.000000e+00</td>\n",
       "      <td>0.000000e+00</td>\n",
       "    </tr>\n",
       "    <tr>\n",
       "      <td>75%</td>\n",
       "      <td>1.250000e+01</td>\n",
       "      <td>-7.396835e+01</td>\n",
       "      <td>4.076750e+01</td>\n",
       "      <td>-7.396538e+01</td>\n",
       "      <td>4.076838e+01</td>\n",
       "      <td>2.000000e+00</td>\n",
       "      <td>2.421000e-02</td>\n",
       "      <td>2.753000e-02</td>\n",
       "      <td>3.964757e+00</td>\n",
       "      <td>2.013000e+03</td>\n",
       "      <td>9.000000e+00</td>\n",
       "      <td>2.300000e+01</td>\n",
       "      <td>1.900000e+01</td>\n",
       "      <td>5.000000e+00</td>\n",
       "      <td>1.000000e+00</td>\n",
       "      <td>0.000000e+00</td>\n",
       "      <td>1.000000e+00</td>\n",
       "      <td>1.000000e+00</td>\n",
       "    </tr>\n",
       "    <tr>\n",
       "      <td>max</td>\n",
       "      <td>9.520000e+02</td>\n",
       "      <td>7.393784e+01</td>\n",
       "      <td>8.974216e+01</td>\n",
       "      <td>7.394509e+01</td>\n",
       "      <td>8.155467e+01</td>\n",
       "      <td>6.000000e+00</td>\n",
       "      <td>1.194450e+02</td>\n",
       "      <td>1.155504e+02</td>\n",
       "      <td>1.286588e+04</td>\n",
       "      <td>2.015000e+03</td>\n",
       "      <td>1.200000e+01</td>\n",
       "      <td>3.100000e+01</td>\n",
       "      <td>2.300000e+01</td>\n",
       "      <td>6.000000e+00</td>\n",
       "      <td>1.000000e+00</td>\n",
       "      <td>1.000000e+00</td>\n",
       "      <td>1.000000e+00</td>\n",
       "      <td>1.000000e+00</td>\n",
       "    </tr>\n",
       "  </tbody>\n",
       "</table>\n",
       "</div>"
      ],
      "text/plain": [
       "        fare_amount  pickup_longitude  pickup_latitude  dropoff_longitude  \\\n",
       "count  9.678609e+06      9.678609e+06     9.678609e+06       9.678609e+06   \n",
       "mean   1.134274e+01     -7.383489e+01     4.065208e+01      -7.383947e+01   \n",
       "std    9.670004e+00      3.566599e+00     2.875887e+00       3.510276e+00   \n",
       "min    1.000000e-02     -1.686035e+02    -7.482416e+01      -1.733420e+02   \n",
       "25%    6.000000e+00     -7.399228e+01     4.073645e+01      -7.399158e+01   \n",
       "50%    8.500000e+00     -7.398211e+01     4.075330e+01      -7.398060e+01   \n",
       "75%    1.250000e+01     -7.396835e+01     4.076750e+01      -7.396538e+01   \n",
       "max    9.520000e+02      7.393784e+01     8.974216e+01       7.394509e+01   \n",
       "\n",
       "       dropoff_latitude  passenger_count  abs_diff_longitude  \\\n",
       "count      9.678609e+06     9.678609e+06        9.678609e+06   \n",
       "mean       4.065473e+01     1.690974e+00        1.679034e-01   \n",
       "std        2.859540e+00     1.306586e+00        3.260679e+00   \n",
       "min       -7.419320e+01     1.000000e+00        0.000000e+00   \n",
       "25%        4.073545e+01     1.000000e+00        6.329000e-03   \n",
       "50%        4.075382e+01     1.000000e+00        1.288000e-02   \n",
       "75%        4.076838e+01     2.000000e+00        2.421000e-02   \n",
       "max        8.155467e+01     6.000000e+00        1.194450e+02   \n",
       "\n",
       "       abs_diff_latitude      distance          year         month  \\\n",
       "count       9.678609e+06  9.678609e+06  9.678609e+06  9.678609e+06   \n",
       "mean        9.580614e-02  2.013909e+01  2.011746e+03  6.267631e+00   \n",
       "std         1.733879e+00  3.734531e+02  1.866468e+00  3.435410e+00   \n",
       "min         0.000000e+00  8.384762e-05  2.009000e+03  1.000000e+00   \n",
       "25%         7.141113e-03  1.280997e+00  2.010000e+03  3.000000e+00   \n",
       "50%         1.438100e-02  2.183518e+00  2.012000e+03  6.000000e+00   \n",
       "75%         2.753000e-02  3.964757e+00  2.013000e+03  9.000000e+00   \n",
       "max         1.155504e+02  1.286588e+04  2.015000e+03  1.200000e+01   \n",
       "\n",
       "                day          hour     dayOfWeek   rush_hour_0   rush_hour_1  \\\n",
       "count  9.678609e+06  9.678609e+06  9.678609e+06  9.678609e+06  9.678609e+06   \n",
       "mean   1.571740e+01  1.351339e+01  3.041449e+00  8.300307e-01  1.699693e-01   \n",
       "std    8.684960e+00  6.515992e+00  1.949078e+00  3.756058e-01  3.756058e-01   \n",
       "min    1.000000e+00  0.000000e+00  0.000000e+00  0.000000e+00  0.000000e+00   \n",
       "25%    8.000000e+00  9.000000e+00  1.000000e+00  1.000000e+00  0.000000e+00   \n",
       "50%    1.600000e+01  1.400000e+01  3.000000e+00  1.000000e+00  0.000000e+00   \n",
       "75%    2.300000e+01  1.900000e+01  5.000000e+00  1.000000e+00  0.000000e+00   \n",
       "max    3.100000e+01  2.300000e+01  6.000000e+00  1.000000e+00  1.000000e+00   \n",
       "\n",
       "          weekend_0     weekend_1  \n",
       "count  9.678609e+06  9.678609e+06  \n",
       "mean   7.406569e-01  2.593431e-01  \n",
       "std    4.382742e-01  4.382742e-01  \n",
       "min    0.000000e+00  0.000000e+00  \n",
       "25%    0.000000e+00  0.000000e+00  \n",
       "50%    1.000000e+00  0.000000e+00  \n",
       "75%    1.000000e+00  1.000000e+00  \n",
       "max    1.000000e+00  1.000000e+00  "
      ]
     },
     "execution_count": 89,
     "metadata": {},
     "output_type": "execute_result"
    }
   ],
   "source": [
    "data.describe()"
   ]
  },
  {
   "cell_type": "code",
   "execution_count": 90,
   "metadata": {},
   "outputs": [],
   "source": [
    "# sns.barplot(x=data['year'],y=data[\"fare_amount\"],data=data).set_title(\"Fare Amount over Years\")"
   ]
  },
  {
   "cell_type": "markdown",
   "metadata": {},
   "source": [
    "### Looks like fares have been incrasing over the years"
   ]
  },
  {
   "cell_type": "code",
   "execution_count": 91,
   "metadata": {},
   "outputs": [],
   "source": [
    "# sns.barplot(x=data['hour'],y=data[\"fare_amount\"],data=data).set_title(\"Pickup hour vs fare amount\")"
   ]
  },
  {
   "cell_type": "markdown",
   "metadata": {},
   "source": [
    "#### The fare amount is highest around 5am"
   ]
  },
  {
   "cell_type": "code",
   "execution_count": 92,
   "metadata": {},
   "outputs": [],
   "source": [
    "# sns.barplot(x=data['dayOfWeek'],y=data[\"fare_amount\"],data=data).set_title(\"Pickup days vs fare amount\")"
   ]
  },
  {
   "cell_type": "markdown",
   "metadata": {},
   "source": [
    "### Correlation between features/variables"
   ]
  },
  {
   "cell_type": "code",
   "execution_count": 93,
   "metadata": {},
   "outputs": [],
   "source": [
    "# %%time\n",
    "# correlation= data.corr()\n",
    "# colormap = plt.cm.inferno\n",
    "# mask = np.array(correlation)\n",
    "# mask[np.tril_indices_from(mask)] = False\n",
    "# fig=plt.gcf()\n",
    "# fig.set_size_inches(30,12)\n",
    "# sns.heatmap(data=correlation ,mask=mask,square=True,annot=True,cbar=True,cmap=colormap, linecolor='White', linewidths=0.1)"
   ]
  },
  {
   "cell_type": "code",
   "execution_count": 94,
   "metadata": {},
   "outputs": [
    {
     "name": "stdout",
     "output_type": "stream",
     "text": [
      "CPU times: user 341 ms, sys: 287 ms, total: 628 ms\n",
      "Wall time: 591 ms\n"
     ]
    }
   ],
   "source": [
    "%%time\n",
    "feature_cols = ['pickup_longitude','pickup_latitude','dropoff_longitude','dropoff_latitude','passenger_count',\n",
    "                'abs_diff_longitude','abs_diff_latitude','distance','year','month','day','hour','dayOfWeek',\n",
    "                'rush_hour_0','rush_hour_1','weekend_0','weekend_1']\n",
    "\n",
    "X = data[feature_cols] \n",
    "y = data['fare_amount']"
   ]
  },
  {
   "cell_type": "code",
   "execution_count": 95,
   "metadata": {},
   "outputs": [],
   "source": [
    "from sklearn.model_selection import train_test_split"
   ]
  },
  {
   "cell_type": "code",
   "execution_count": 96,
   "metadata": {},
   "outputs": [
    {
     "name": "stdout",
     "output_type": "stream",
     "text": [
      "CPU times: user 5.23 s, sys: 1.5 s, total: 6.73 s\n",
      "Wall time: 8.18 s\n"
     ]
    }
   ],
   "source": [
    "%%time\n",
    "X_train,X_test,y_train,y_test = train_test_split(X,y, test_size=0.35,random_state=6)"
   ]
  },
  {
   "cell_type": "code",
   "execution_count": 97,
   "metadata": {},
   "outputs": [
    {
     "name": "stdout",
     "output_type": "stream",
     "text": [
      "CPU times: user 6.1 s, sys: 2.84 s, total: 8.93 s\n",
      "Wall time: 8.62 s\n"
     ]
    },
    {
     "data": {
      "text/plain": [
       "LinearRegression(copy_X=True, fit_intercept=True, n_jobs=None, normalize=False)"
      ]
     },
     "execution_count": 97,
     "metadata": {},
     "output_type": "execute_result"
    }
   ],
   "source": [
    "%%time\n",
    "lr = LinearRegression()\n",
    "lr.fit(X_train,y_train)"
   ]
  },
  {
   "cell_type": "code",
   "execution_count": 98,
   "metadata": {},
   "outputs": [
    {
     "name": "stdout",
     "output_type": "stream",
     "text": [
      "RMSE of Logistic Regresion: 9.57562048157971\n",
      "CPU times: user 720 ms, sys: 869 ms, total: 1.59 s\n",
      "Wall time: 1.19 s\n"
     ]
    }
   ],
   "source": [
    "%%time\n",
    "lr_predict = lr.predict(X_test)\n",
    "mse = metrics.mean_squared_error(y_test, lr_predict)\n",
    "rmse = np.sqrt(mse)\n",
    "print(f'RMSE of Logistic Regresion: {rmse}')"
   ]
  },
  {
   "cell_type": "code",
   "execution_count": 99,
   "metadata": {},
   "outputs": [],
   "source": [
    "from sklearn.ensemble import RandomForestRegressor"
   ]
  },
  {
   "cell_type": "code",
   "execution_count": null,
   "metadata": {},
   "outputs": [],
   "source": [
    "rf = RandomForestRegressor(n_estimators=10,bootstrap=True,random_state=3)\n",
    "rf.fit(X_train,y_train)\n",
    "\n",
    "y_test_pred = rf.predict(X_test)\n",
    "\n",
    "y_train_err = metrics.mean_squared_error(y_test, y_test_pred)\n",
    "rmse = np.sqrt(y_train_err)\n",
    "print(f'RMSE of Logistic Regresion: {rmse}')"
   ]
  },
  {
   "cell_type": "code",
   "execution_count": null,
   "metadata": {},
   "outputs": [],
   "source": []
  }
 ],
 "metadata": {
  "kernelspec": {
   "display_name": "Python 3",
   "language": "python",
   "name": "python3"
  },
  "language_info": {
   "codemirror_mode": {
    "name": "ipython",
    "version": 3
   },
   "file_extension": ".py",
   "mimetype": "text/x-python",
   "name": "python",
   "nbconvert_exporter": "python",
   "pygments_lexer": "ipython3",
   "version": "3.7.4"
  }
 },
 "nbformat": 4,
 "nbformat_minor": 2
}
