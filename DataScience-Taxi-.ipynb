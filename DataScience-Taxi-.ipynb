{
 "cells": [
  {
   "cell_type": "code",
   "execution_count": 215,
   "metadata": {
    "scrolled": true
   },
   "outputs": [
    {
     "name": "stderr",
     "output_type": "stream",
     "text": [
      "1it [00:00, 252.27it/s]\n"
     ]
    },
    {
     "name": "stdout",
     "output_type": "stream",
     "text": [
      "(1000, 5)\n",
      "(1000,)\n",
      "[-0.73406108  0.57188379 -0.60767931 -0.39704305 -0.64980657]\n",
      "[ 8 63 13 23 11]\n"
     ]
    }
   ],
   "source": [
    "import pandas as pd \n",
    "import numpy as np\n",
    "#tdqm = progress bar\n",
    "from tqdm import tqdm\n",
    "from datetime import datetime\n",
    "\n",
    "from sklearn import metrics\n",
    "from sklearn.model_selection import cross_val_score\n",
    "from sklearn.metrics import accuracy_score\n",
    "from sklearn.neighbors import KNeighborsClassifier\n",
    "from sklearn.linear_model import LogisticRegression\n",
    "from sklearn.linear_model import LinearRegression\n",
    "from sklearn.tree import DecisionTreeClassifier\n",
    "from sklearn import preprocessing\n",
    "from sklearn import utils\n",
    "\n",
    "#number of rows\n",
    "chunksize = 10000 \n",
    "\n",
    "path = 'C:/Users/sirus/Downloads/train.csv'\n",
    "\n",
    "#columns to read from the data\n",
    "#Todo :split date into meaningful data\n",
    "cols = ['pickup_longitude','pickup_latitude','dropoff_longitude','dropoff_latitude','passenger_count','fare_amount']\n",
    "\n",
    "#list to hold the batch dataframe\n",
    "df_list = []\n",
    "\n",
    "for df_chunk in tqdm(pd.read_csv(path,usecols=cols, chunksize=chunksize,nrows=1000)):\n",
    "    df_list.append(df_chunk) \n",
    "\n",
    "\n",
    "# Merge all dataframes into one dataframe\n",
    "data = pd.concat(df_list)\n",
    "\n",
    "# Delete the dataframe list to release memory\n",
    "del df_list, df_chunk\n",
    "\n",
    "#replace missing fields with the mean of that column\n",
    "data.fillna(data.mean(), inplace=True)\n",
    "\n",
    "feature_cols = ['pickup_longitude','pickup_latitude','dropoff_longitude','dropoff_latitude','passenger_count']\n",
    "\n",
    "X = data[feature_cols] \n",
    "y = data['fare_amount']\n",
    "\n",
    "X = preprocessing.scale(X)\n",
    "y = preprocessing.scale(y)\n",
    "\n",
    "# Delete the dataframe list to release memory\n",
    "del data\n",
    "\n",
    "from sklearn.model_selection import train_test_split\n",
    "X_train, X_test, y_train, y_test = train_test_split(X, y, test_size=0.33, \n",
    "                                                 random_state=2)\n",
    "#55millions rows it = iteration(nrows per it) x nrows = total rows\n",
    "\n",
    "print(X.shape)\n",
    "print(y.shape)\n",
    "\n",
    "#preprocessing.LabelEncoder()-convert string or float values to 0 .. n classes.\n",
    "lab_enc = preprocessing.LabelEncoder()\n",
    "y_train_encoded = lab_enc.fit_transform(y_train)\n",
    "y_encoded = lab_enc.fit_transform(y)\n",
    "\n",
    "print(y[0:5])\n",
    "print(y_encoded[0:5])"
   ]
  },
  {
   "cell_type": "code",
   "execution_count": 216,
   "metadata": {},
   "outputs": [
    {
     "name": "stdout",
     "output_type": "stream",
     "text": [
      "33.16885257680002\n"
     ]
    }
   ],
   "source": [
    "#linear regression can also use y_train\n",
    "my_linreg = LinearRegression()\n",
    "my_linreg.fit(X_train, y_train_encoded)\n",
    "y_prediction = my_linreg.predict(X_test)\n",
    "mse = metrics.mean_squared_error(y_test, y_prediction)\n",
    "rmse = np.sqrt(mse)\n",
    "print(rmse)"
   ]
  },
  {
   "cell_type": "code",
   "execution_count": 217,
   "metadata": {},
   "outputs": [
    {
     "name": "stdout",
     "output_type": "stream",
     "text": [
      "9.251622315923028\n"
     ]
    }
   ],
   "source": [
    "my_logreg = LogisticRegression(solver='liblinear', multi_class='auto')\n",
    "my_logreg.fit(X_train, y_train_encoded)\n",
    "y_prediction = my_logreg.predict(X_test)\n",
    "mse = metrics.mean_squared_error(y_test, y_prediction)\n",
    "rmse = np.sqrt(mse)\n",
    "print(rmse)"
   ]
  },
  {
   "cell_type": "code",
   "execution_count": 218,
   "metadata": {
    "scrolled": true
   },
   "outputs": [
    {
     "name": "stdout",
     "output_type": "stream",
     "text": [
      "41.47568557513889\n"
     ]
    }
   ],
   "source": [
    "my_decisiontree = DecisionTreeClassifier(random_state=5)\n",
    "my_decisiontree.fit(X_train, y_train_encoded)\n",
    "y_prediction = my_decisiontree.predict(X_test)\n",
    "mse = metrics.mean_squared_error(y_test, y_prediction)\n",
    "rmse = np.sqrt(mse)\n",
    "print(rmse)"
   ]
  },
  {
   "cell_type": "markdown",
   "metadata": {},
   "source": [
    "Cross Validation"
   ]
  },
  {
   "cell_type": "code",
   "execution_count": 219,
   "metadata": {},
   "outputs": [
    {
     "name": "stdout",
     "output_type": "stream",
     "text": [
      "KNN: -24.066076941544654\n"
     ]
    }
   ],
   "source": [
    "score_list = cross_val_score(my_linreg, X, y_encoded, cv=10)\n",
    "score = score_list.mean()\n",
    "print('KNN: '+str(score))"
   ]
  },
  {
   "cell_type": "code",
   "execution_count": 220,
   "metadata": {
    "scrolled": true
   },
   "outputs": [
    {
     "name": "stderr",
     "output_type": "stream",
     "text": [
      "C:\\Users\\sirus\\Anaconda3\\lib\\site-packages\\sklearn\\model_selection\\_split.py:657: Warning: The least populated class in y has only 1 members, which is too few. The minimum number of members in any class cannot be less than n_splits=10.\n",
      "  % (min_groups, self.n_splits)), Warning)\n"
     ]
    },
    {
     "name": "stdout",
     "output_type": "stream",
     "text": [
      "Logistic Regression: 0.0533717188501137\n"
     ]
    }
   ],
   "source": [
    "score_list = cross_val_score(my_logreg, X, y_encoded, cv=10)\n",
    "score = score_list.mean()\n",
    "print('Logistic Regression: '+str(score))"
   ]
  },
  {
   "cell_type": "code",
   "execution_count": 221,
   "metadata": {},
   "outputs": [
    {
     "name": "stderr",
     "output_type": "stream",
     "text": [
      "C:\\Users\\sirus\\Anaconda3\\lib\\site-packages\\sklearn\\model_selection\\_split.py:657: Warning: The least populated class in y has only 1 members, which is too few. The minimum number of members in any class cannot be less than n_splits=10.\n",
      "  % (min_groups, self.n_splits)), Warning)\n"
     ]
    },
    {
     "name": "stdout",
     "output_type": "stream",
     "text": [
      "Decision Tree: 0.03920513600717432\n"
     ]
    }
   ],
   "source": [
    "score_list = cross_val_score(my_decisiontree, X, y_encoded, cv=10)\n",
    "score = score_list.mean()\n",
    "print('Decision Tree: '+str(score))"
   ]
  }
 ],
 "metadata": {
  "kernelspec": {
   "display_name": "Python 3",
   "language": "python",
   "name": "python3"
  },
  "language_info": {
   "codemirror_mode": {
    "name": "ipython",
    "version": 3
   },
   "file_extension": ".py",
   "mimetype": "text/x-python",
   "name": "python",
   "nbconvert_exporter": "python",
   "pygments_lexer": "ipython3",
   "version": "3.7.3"
  }
 },
 "nbformat": 4,
 "nbformat_minor": 2
}
