{
 "cells": [
  {
   "cell_type": "code",
   "execution_count": 1,
   "metadata": {},
   "outputs": [],
   "source": [
    "import pandas as pd \n",
    "import numpy as np\n",
    "from matplotlib import style\n",
    "import matplotlib.pyplot as plt\n",
    "%matplotlib inline\n",
    "import seaborn as sns\n",
    "#tdqm = progress bar\n",
    "from tqdm import tqdm\n",
    "from datetime import datetime\n",
    "from sklearn import metrics\n",
    "from sklearn.model_selection import cross_val_score\n",
    "from sklearn.metrics import accuracy_score\n",
    "from sklearn.linear_model import LogisticRegression\n",
    "from sklearn.linear_model import LinearRegression\n",
    "from sklearn.ensemble import RandomForestRegressor\n",
    "from sklearn. model_selection import train_test_split\n",
    "from sklearn import preprocessing\n",
    "from sklearn import utils"
   ]
  },
  {
   "cell_type": "code",
   "execution_count": 2,
   "metadata": {},
   "outputs": [
    {
     "name": "stderr",
     "output_type": "stream",
     "text": [
      "1it [00:00, 39.64it/s]\n"
     ]
    }
   ],
   "source": [
    "# Number of rows\n",
    "nrows = 10000\n",
    "# Chunksize = 10000 \n",
    "chunksize = 10000\n",
    "# Vitou's path\n",
    "# path = 'C:/Users/sirus/Downloads/train.csv'\n",
    "# Muna's path\n",
    "path = '/Users/muna/Development/DataScience/new-york-city-taxi-fare-prediction/train.csv'\n",
    "# Columns to read from the data\n",
    "# Todo :split date into meaningful data\n",
    "# cols = ['pickup_longitude','pickup_latitude','dropoff_longitude','dropoff_latitude','passenger_count','fare_amount']\n",
    "cols = ['pickup_datetime','pickup_longitude','pickup_latitude','dropoff_longitude','dropoff_latitude','passenger_count','fare_amount']\n",
    "\n",
    "#list to hold the batch dataframe\n",
    "df_list = []\n",
    "\n",
    "for df_chunk in tqdm(pd.read_csv(path,usecols=cols, chunksize=chunksize,nrows=nrows)):\n",
    "    df_list.append(df_chunk)\n",
    "    \n",
    "# Merge all dataframes into one dataframe\n",
    "data = pd.DataFrame()\n",
    "data = pd.concat(df_list)\n",
    "# # Delete the dataframe list to release memory\n",
    "del df_list, df_chunk"
   ]
  },
  {
   "cell_type": "markdown",
   "metadata": {},
   "source": [
    "### Let's take a look at the data"
   ]
  },
  {
   "cell_type": "code",
   "execution_count": 3,
   "metadata": {
    "scrolled": true
   },
   "outputs": [
    {
     "name": "stdout",
     "output_type": "stream",
     "text": [
      "CPU times: user 4 µs, sys: 1 µs, total: 5 µs\n",
      "Wall time: 8.82 µs\n"
     ]
    }
   ],
   "source": [
    "%%time\n",
    "# data.describe(include='all')"
   ]
  },
  {
   "cell_type": "markdown",
   "metadata": {},
   "source": [
    "### Check for missing values"
   ]
  },
  {
   "cell_type": "code",
   "execution_count": 4,
   "metadata": {
    "scrolled": true
   },
   "outputs": [
    {
     "name": "stdout",
     "output_type": "stream",
     "text": [
      "CPU times: user 2.91 ms, sys: 1.37 ms, total: 4.28 ms\n",
      "Wall time: 3.11 ms\n"
     ]
    },
    {
     "data": {
      "text/plain": [
       "fare_amount          0\n",
       "pickup_datetime      0\n",
       "pickup_longitude     0\n",
       "pickup_latitude      0\n",
       "dropoff_longitude    0\n",
       "dropoff_latitude     0\n",
       "passenger_count      0\n",
       "dtype: int64"
      ]
     },
     "execution_count": 4,
     "metadata": {},
     "output_type": "execute_result"
    }
   ],
   "source": [
    "%%time\n",
    "# Checking for missing values\n",
    "data.isnull().sum()"
   ]
  },
  {
   "cell_type": "markdown",
   "metadata": {},
   "source": [
    "### From our observation, there are some missing values, so we remove them"
   ]
  },
  {
   "cell_type": "code",
   "execution_count": 5,
   "metadata": {},
   "outputs": [
    {
     "name": "stdout",
     "output_type": "stream",
     "text": [
      "CPU times: user 5.23 ms, sys: 1.89 ms, total: 7.12 ms\n",
      "Wall time: 5.94 ms\n"
     ]
    }
   ],
   "source": [
    "%%time\n",
    "data = data.dropna(how = 'any', axis = 'rows')"
   ]
  },
  {
   "cell_type": "markdown",
   "metadata": {},
   "source": [
    "### Let's take a look at the data"
   ]
  },
  {
   "cell_type": "code",
   "execution_count": 6,
   "metadata": {},
   "outputs": [
    {
     "data": {
      "text/plain": [
       "count    10000.000000\n",
       "mean        11.235464\n",
       "std          9.584258\n",
       "min         -2.900000\n",
       "25%          6.000000\n",
       "50%          8.500000\n",
       "75%         12.500000\n",
       "max        180.000000\n",
       "Name: fare_amount, dtype: float64"
      ]
     },
     "execution_count": 6,
     "metadata": {},
     "output_type": "execute_result"
    }
   ],
   "source": [
    "data['fare_amount'].describe()"
   ]
  },
  {
   "cell_type": "markdown",
   "metadata": {},
   "source": [
    "### From the description above, some of the fare_amount have negative values"
   ]
  },
  {
   "cell_type": "markdown",
   "metadata": {},
   "source": [
    "We are going to remove all negatvie fare_amounts"
   ]
  },
  {
   "cell_type": "code",
   "execution_count": 7,
   "metadata": {
    "scrolled": true
   },
   "outputs": [
    {
     "name": "stdout",
     "output_type": "stream",
     "text": [
      "CPU times: user 2.53 ms, sys: 1.19 ms, total: 3.72 ms\n",
      "Wall time: 2.81 ms\n"
     ]
    }
   ],
   "source": [
    "%%time\n",
    "data = data[(data['fare_amount'] > 0)]"
   ]
  },
  {
   "cell_type": "code",
   "execution_count": 8,
   "metadata": {},
   "outputs": [
    {
     "data": {
      "text/plain": [
       "count    9998.000000\n",
       "mean       11.238252\n",
       "std         9.583189\n",
       "min         0.010000\n",
       "25%         6.000000\n",
       "50%         8.500000\n",
       "75%        12.500000\n",
       "max       180.000000\n",
       "Name: fare_amount, dtype: float64"
      ]
     },
     "execution_count": 8,
     "metadata": {},
     "output_type": "execute_result"
    }
   ],
   "source": [
    "data['fare_amount'].describe()"
   ]
  },
  {
   "cell_type": "code",
   "execution_count": 9,
   "metadata": {},
   "outputs": [
    {
     "data": {
      "text/plain": [
       "count    9998.000000\n",
       "mean       11.238252\n",
       "std         9.583189\n",
       "min         0.010000\n",
       "25%         6.000000\n",
       "50%         8.500000\n",
       "75%        12.500000\n",
       "max       180.000000\n",
       "Name: fare_amount, dtype: float64"
      ]
     },
     "execution_count": 9,
     "metadata": {},
     "output_type": "execute_result"
    }
   ],
   "source": [
    "data['fare_amount'].describe()"
   ]
  },
  {
   "cell_type": "markdown",
   "metadata": {},
   "source": [
    "### Let's take a detailed look at the passenger count"
   ]
  },
  {
   "cell_type": "code",
   "execution_count": 10,
   "metadata": {},
   "outputs": [
    {
     "data": {
      "text/plain": [
       "count    9998.000000\n",
       "mean        1.644829\n",
       "std         1.271324\n",
       "min         0.000000\n",
       "25%         1.000000\n",
       "50%         1.000000\n",
       "75%         2.000000\n",
       "max         6.000000\n",
       "Name: passenger_count, dtype: float64"
      ]
     },
     "execution_count": 10,
     "metadata": {},
     "output_type": "execute_result"
    }
   ],
   "source": [
    "data['passenger_count'].describe()"
   ]
  },
  {
   "cell_type": "markdown",
   "metadata": {},
   "source": [
    "The highest passenger count per taxi ride is 208, which is not possible. So we remove all passenger_count grater than 6, since 6 is the maximum passenger capacity for Uber/Lyft if the ride is an SUV"
   ]
  },
  {
   "cell_type": "code",
   "execution_count": 11,
   "metadata": {
    "scrolled": true
   },
   "outputs": [],
   "source": [
    "data = data[(data['passenger_count'] <= 6)]"
   ]
  },
  {
   "cell_type": "code",
   "execution_count": 12,
   "metadata": {
    "scrolled": true
   },
   "outputs": [
    {
     "data": {
      "text/plain": [
       "count    9998.000000\n",
       "mean        1.644829\n",
       "std         1.271324\n",
       "min         0.000000\n",
       "25%         1.000000\n",
       "50%         1.000000\n",
       "75%         2.000000\n",
       "max         6.000000\n",
       "Name: passenger_count, dtype: float64"
      ]
     },
     "execution_count": 12,
     "metadata": {},
     "output_type": "execute_result"
    }
   ],
   "source": [
    "data['passenger_count'].describe()"
   ]
  },
  {
   "cell_type": "markdown",
   "metadata": {},
   "source": [
    "Now the highest passenger capacity is 6"
   ]
  },
  {
   "cell_type": "markdown",
   "metadata": {},
   "source": [
    "Next we remove all passenger count that are zero"
   ]
  },
  {
   "cell_type": "code",
   "execution_count": 13,
   "metadata": {},
   "outputs": [],
   "source": [
    "data = data[(data['passenger_count'] > 0)]"
   ]
  },
  {
   "cell_type": "code",
   "execution_count": 14,
   "metadata": {},
   "outputs": [
    {
     "data": {
      "text/plain": [
       "count    9960.000000\n",
       "mean        1.651104\n",
       "std         1.269673\n",
       "min         1.000000\n",
       "25%         1.000000\n",
       "50%         1.000000\n",
       "75%         2.000000\n",
       "max         6.000000\n",
       "Name: passenger_count, dtype: float64"
      ]
     },
     "execution_count": 14,
     "metadata": {},
     "output_type": "execute_result"
    }
   ],
   "source": [
    "data['passenger_count'].describe()"
   ]
  },
  {
   "cell_type": "markdown",
   "metadata": {},
   "source": [
    "### Looking at the pickup|droppoff latitudes and longitudes"
   ]
  },
  {
   "cell_type": "code",
   "execution_count": 15,
   "metadata": {
    "scrolled": true
   },
   "outputs": [
    {
     "data": {
      "text/html": [
       "<div>\n",
       "<style scoped>\n",
       "    .dataframe tbody tr th:only-of-type {\n",
       "        vertical-align: middle;\n",
       "    }\n",
       "\n",
       "    .dataframe tbody tr th {\n",
       "        vertical-align: top;\n",
       "    }\n",
       "\n",
       "    .dataframe thead th {\n",
       "        text-align: right;\n",
       "    }\n",
       "</style>\n",
       "<table border=\"1\" class=\"dataframe\">\n",
       "  <thead>\n",
       "    <tr style=\"text-align: right;\">\n",
       "      <th></th>\n",
       "      <th>pickup_latitude</th>\n",
       "      <th>pickup_longitude</th>\n",
       "      <th>dropoff_latitude</th>\n",
       "      <th>dropoff_longitude</th>\n",
       "    </tr>\n",
       "  </thead>\n",
       "  <tbody>\n",
       "    <tr>\n",
       "      <td>count</td>\n",
       "      <td>9960.000000</td>\n",
       "      <td>9960.000000</td>\n",
       "      <td>9960.000000</td>\n",
       "      <td>9960.000000</td>\n",
       "    </tr>\n",
       "    <tr>\n",
       "      <td>mean</td>\n",
       "      <td>39.917140</td>\n",
       "      <td>-72.460645</td>\n",
       "      <td>39.889853</td>\n",
       "      <td>-72.468110</td>\n",
       "    </tr>\n",
       "    <tr>\n",
       "      <td>std</td>\n",
       "      <td>7.333429</td>\n",
       "      <td>10.630589</td>\n",
       "      <td>6.352406</td>\n",
       "      <td>10.600535</td>\n",
       "    </tr>\n",
       "    <tr>\n",
       "      <td>min</td>\n",
       "      <td>-74.006893</td>\n",
       "      <td>-74.438233</td>\n",
       "      <td>-73.994392</td>\n",
       "      <td>-74.429332</td>\n",
       "    </tr>\n",
       "    <tr>\n",
       "      <td>25%</td>\n",
       "      <td>40.734558</td>\n",
       "      <td>-73.992065</td>\n",
       "      <td>40.735230</td>\n",
       "      <td>-73.991095</td>\n",
       "    </tr>\n",
       "    <tr>\n",
       "      <td>50%</td>\n",
       "      <td>40.752695</td>\n",
       "      <td>-73.981758</td>\n",
       "      <td>40.753732</td>\n",
       "      <td>-73.980083</td>\n",
       "    </tr>\n",
       "    <tr>\n",
       "      <td>75%</td>\n",
       "      <td>40.767700</td>\n",
       "      <td>-73.966925</td>\n",
       "      <td>40.768180</td>\n",
       "      <td>-73.963504</td>\n",
       "    </tr>\n",
       "    <tr>\n",
       "      <td>max</td>\n",
       "      <td>401.083332</td>\n",
       "      <td>40.766125</td>\n",
       "      <td>41.366138</td>\n",
       "      <td>40.802437</td>\n",
       "    </tr>\n",
       "  </tbody>\n",
       "</table>\n",
       "</div>"
      ],
      "text/plain": [
       "       pickup_latitude  pickup_longitude  dropoff_latitude  dropoff_longitude\n",
       "count      9960.000000       9960.000000       9960.000000        9960.000000\n",
       "mean         39.917140        -72.460645         39.889853         -72.468110\n",
       "std           7.333429         10.630589          6.352406          10.600535\n",
       "min         -74.006893        -74.438233        -73.994392         -74.429332\n",
       "25%          40.734558        -73.992065         40.735230         -73.991095\n",
       "50%          40.752695        -73.981758         40.753732         -73.980083\n",
       "75%          40.767700        -73.966925         40.768180         -73.963504\n",
       "max         401.083332         40.766125         41.366138          40.802437"
      ]
     },
     "execution_count": 15,
     "metadata": {},
     "output_type": "execute_result"
    }
   ],
   "source": [
    "data[['pickup_latitude','pickup_longitude','dropoff_latitude','dropoff_longitude']].describe()"
   ]
  },
  {
   "cell_type": "markdown",
   "metadata": {},
   "source": [
    "Looking at the info above, the maximum pickup_latitude/pickup_longtide/droppoff_latitude/dropoff_longitude are over 3000 WITH their respective minimum values are over -3000"
   ]
  },
  {
   "cell_type": "markdown",
   "metadata": {},
   "source": [
    "Latitudes range from -90 to 90 while longitudes range from -180 to 180, for single degree format. So we remove all values that are not with the latitude and longitude ranges"
   ]
  },
  {
   "cell_type": "code",
   "execution_count": 16,
   "metadata": {},
   "outputs": [],
   "source": [
    "data = data.drop((data[(data['pickup_latitude'] > 90) | (data['pickup_latitude'] < -90)]).index, axis=0)"
   ]
  },
  {
   "cell_type": "code",
   "execution_count": 17,
   "metadata": {},
   "outputs": [],
   "source": [
    "data = data.drop((data[(data['pickup_longitude'] > 180) | (data['pickup_longitude'] < -180)]).index, axis=0)"
   ]
  },
  {
   "cell_type": "markdown",
   "metadata": {},
   "source": [
    "We will do the same for dropoff cordinates"
   ]
  },
  {
   "cell_type": "code",
   "execution_count": 18,
   "metadata": {},
   "outputs": [],
   "source": [
    "data = data.drop((data[(data['dropoff_latitude'] > 90) | (data['dropoff_latitude'] < -90)]).index, axis=0)"
   ]
  },
  {
   "cell_type": "code",
   "execution_count": 19,
   "metadata": {},
   "outputs": [],
   "source": [
    "data = data.drop((data[(data['dropoff_longitude'] > 180) | (data['dropoff_longitude'] < -180)]).index, axis=0)"
   ]
  },
  {
   "cell_type": "code",
   "execution_count": 20,
   "metadata": {},
   "outputs": [
    {
     "data": {
      "text/html": [
       "<div>\n",
       "<style scoped>\n",
       "    .dataframe tbody tr th:only-of-type {\n",
       "        vertical-align: middle;\n",
       "    }\n",
       "\n",
       "    .dataframe tbody tr th {\n",
       "        vertical-align: top;\n",
       "    }\n",
       "\n",
       "    .dataframe thead th {\n",
       "        text-align: right;\n",
       "    }\n",
       "</style>\n",
       "<table border=\"1\" class=\"dataframe\">\n",
       "  <thead>\n",
       "    <tr style=\"text-align: right;\">\n",
       "      <th></th>\n",
       "      <th>pickup_latitude</th>\n",
       "      <th>pickup_longitude</th>\n",
       "      <th>dropoff_latitude</th>\n",
       "      <th>dropoff_longitude</th>\n",
       "    </tr>\n",
       "  </thead>\n",
       "  <tbody>\n",
       "    <tr>\n",
       "      <td>count</td>\n",
       "      <td>9959.000000</td>\n",
       "      <td>9959.000000</td>\n",
       "      <td>9959.000000</td>\n",
       "      <td>9959.000000</td>\n",
       "    </tr>\n",
       "    <tr>\n",
       "      <td>mean</td>\n",
       "      <td>39.880875</td>\n",
       "      <td>-72.460495</td>\n",
       "      <td>39.889764</td>\n",
       "      <td>-72.467961</td>\n",
       "    </tr>\n",
       "    <tr>\n",
       "      <td>std</td>\n",
       "      <td>6.378412</td>\n",
       "      <td>10.631112</td>\n",
       "      <td>6.352719</td>\n",
       "      <td>10.601057</td>\n",
       "    </tr>\n",
       "    <tr>\n",
       "      <td>min</td>\n",
       "      <td>-74.006893</td>\n",
       "      <td>-74.438233</td>\n",
       "      <td>-73.994392</td>\n",
       "      <td>-74.429332</td>\n",
       "    </tr>\n",
       "    <tr>\n",
       "      <td>25%</td>\n",
       "      <td>40.734555</td>\n",
       "      <td>-73.992066</td>\n",
       "      <td>40.735227</td>\n",
       "      <td>-73.991097</td>\n",
       "    </tr>\n",
       "    <tr>\n",
       "      <td>50%</td>\n",
       "      <td>40.752694</td>\n",
       "      <td>-73.981762</td>\n",
       "      <td>40.753730</td>\n",
       "      <td>-73.980087</td>\n",
       "    </tr>\n",
       "    <tr>\n",
       "      <td>75%</td>\n",
       "      <td>40.767695</td>\n",
       "      <td>-73.966942</td>\n",
       "      <td>40.768180</td>\n",
       "      <td>-73.963517</td>\n",
       "    </tr>\n",
       "    <tr>\n",
       "      <td>max</td>\n",
       "      <td>41.366138</td>\n",
       "      <td>40.766125</td>\n",
       "      <td>41.366138</td>\n",
       "      <td>40.802437</td>\n",
       "    </tr>\n",
       "  </tbody>\n",
       "</table>\n",
       "</div>"
      ],
      "text/plain": [
       "       pickup_latitude  pickup_longitude  dropoff_latitude  dropoff_longitude\n",
       "count      9959.000000       9959.000000       9959.000000        9959.000000\n",
       "mean         39.880875        -72.460495         39.889764         -72.467961\n",
       "std           6.378412         10.631112          6.352719          10.601057\n",
       "min         -74.006893        -74.438233        -73.994392         -74.429332\n",
       "25%          40.734555        -73.992066         40.735227         -73.991097\n",
       "50%          40.752694        -73.981762         40.753730         -73.980087\n",
       "75%          40.767695        -73.966942         40.768180         -73.963517\n",
       "max          41.366138         40.766125         41.366138          40.802437"
      ]
     },
     "execution_count": 20,
     "metadata": {},
     "output_type": "execute_result"
    }
   ],
   "source": [
    "data[['pickup_latitude','pickup_longitude','dropoff_latitude','dropoff_longitude']].describe()"
   ]
  },
  {
   "cell_type": "markdown",
   "metadata": {},
   "source": [
    "### Feature Engineering"
   ]
  },
  {
   "cell_type": "code",
   "execution_count": 21,
   "metadata": {},
   "outputs": [],
   "source": [
    "# Given a dataframe, add two new features 'abs_diff_longitude' and\n",
    "# 'abs_diff_latitude' reprensenting the \"Manhattan vector\" from\n",
    "# the pickup location to the dropoff location.\n",
    "def add_travel_vector_features(df):\n",
    "    df['abs_diff_longitude'] = (df.dropoff_longitude - df.pickup_longitude).abs()\n",
    "    df['abs_diff_latitude'] = (df.dropoff_latitude - df.pickup_latitude).abs()\n",
    "\n",
    "add_travel_vector_features(data)"
   ]
  },
  {
   "cell_type": "markdown",
   "metadata": {},
   "source": [
    "### In further observation, we have pickup_longitude, puckup_latitiude, dropoff_longitude and dropoff_latitude. We can calculate the distance"
   ]
  },
  {
   "cell_type": "code",
   "execution_count": 22,
   "metadata": {},
   "outputs": [],
   "source": [
    "# Function that calculates distance between pickup location and dropoff location\n",
    "def getDistance(lat1,lon1,lat2,lon2):\n",
    "    r = 6378 # earth's radius\n",
    "    lat1 = np.deg2rad(lat1)\n",
    "    lon1 = np.deg2rad(lon1)\n",
    "    lat2 = np.deg2rad(lat2)\n",
    "    lon2 = np.deg2rad(lon2)\n",
    "    \n",
    "    dlat = lat2 - lat1\n",
    "    dlon = lon2 - lon1\n",
    "    \n",
    "    a = np.sin(dlat/2)**2 + np.cos(lat1) * np.cos(lat2) * np.sin(dlon/2)**2\n",
    "    c = 2 * np.arctan2(np.sqrt(a), np.sqrt(1-a))\n",
    "    distance = r*c\n",
    "    \n",
    "    return distance\n",
    "\n"
   ]
  },
  {
   "cell_type": "code",
   "execution_count": 23,
   "metadata": {},
   "outputs": [
    {
     "name": "stdout",
     "output_type": "stream",
     "text": [
      "CPU times: user 10.1 ms, sys: 1.9 ms, total: 12 ms\n",
      "Wall time: 12.5 ms\n"
     ]
    }
   ],
   "source": [
    "%%time\n",
    "# Add new cloumn \"distance\" to the data\n",
    "data['distance'] = getDistance(data.pickup_latitude, data.pickup_longitude, \n",
    "                                      data.dropoff_latitude, data.dropoff_longitude)"
   ]
  },
  {
   "cell_type": "code",
   "execution_count": 24,
   "metadata": {
    "scrolled": true
   },
   "outputs": [
    {
     "data": {
      "text/plain": [
       "count    9959.000000\n",
       "mean       12.765564\n",
       "std       276.576377\n",
       "min         0.000000\n",
       "25%         1.207190\n",
       "50%         2.122509\n",
       "75%         3.881621\n",
       "max      8677.065380\n",
       "Name: distance, dtype: float64"
      ]
     },
     "execution_count": 24,
     "metadata": {},
     "output_type": "execute_result"
    }
   ],
   "source": [
    "data['distance'].describe()"
   ]
  },
  {
   "cell_type": "markdown",
   "metadata": {},
   "source": [
    "We have some distances which are zero. so we remove all"
   ]
  },
  {
   "cell_type": "code",
   "execution_count": 25,
   "metadata": {},
   "outputs": [],
   "source": [
    "data = data[(data['distance'] > 0)]"
   ]
  },
  {
   "cell_type": "code",
   "execution_count": 26,
   "metadata": {},
   "outputs": [
    {
     "data": {
      "text/plain": [
       "count    9681.000000\n",
       "mean       13.132141\n",
       "std       280.511183\n",
       "min         0.000279\n",
       "25%         1.271561\n",
       "50%         2.191527\n",
       "75%         3.971384\n",
       "max      8677.065380\n",
       "Name: distance, dtype: float64"
      ]
     },
     "execution_count": 26,
     "metadata": {},
     "output_type": "execute_result"
    }
   ],
   "source": [
    "data['distance'].describe()"
   ]
  },
  {
   "cell_type": "code",
   "execution_count": 27,
   "metadata": {},
   "outputs": [
    {
     "name": "stdout",
     "output_type": "stream",
     "text": [
      "      fare_amount          pickup_datetime  pickup_longitude  pickup_latitude  \\\n",
      "0             4.5  2009-06-15 17:26:21 UTC        -73.844311        40.721319   \n",
      "10            5.3  2012-04-08 07:30:50 UTC        -73.996335        40.737142   \n",
      "22            4.5  2009-08-06 18:17:23 UTC        -73.991707        40.770505   \n",
      "33            5.7  2011-09-07 14:05:00 UTC        -73.976162        40.744988   \n",
      "43           12.1  2009-06-10 21:28:00 UTC        -73.988558        40.737200   \n",
      "...           ...                      ...               ...              ...   \n",
      "9958         28.0  2013-02-24 04:59:07 UTC        -74.005521        40.718230   \n",
      "9969          4.1  2009-01-04 11:35:34 UTC        -73.990202        40.761666   \n",
      "9979          7.3  2012-01-12 18:56:07 UTC        -74.006225        40.723145   \n",
      "9989          5.7  2010-09-30 22:14:03 UTC        -73.991835        40.754777   \n",
      "9999         10.5  2011-07-05 06:48:44 UTC        -73.978400        40.751700   \n",
      "\n",
      "      dropoff_longitude  dropoff_latitude  passenger_count  \\\n",
      "0            -73.841610         40.712278                1   \n",
      "10           -73.980721         40.733559                1   \n",
      "22           -73.985459         40.763671                1   \n",
      "33           -73.990002         40.738323                2   \n",
      "43           -73.958688         40.780748                1   \n",
      "...                 ...               ...              ...   \n",
      "9958         -73.947114         40.763734                3   \n",
      "9969         -73.996419         40.753257                1   \n",
      "9979         -73.995080         40.736557                1   \n",
      "9989         -73.982217         40.765473                1   \n",
      "9999         -74.010500         40.713600                1   \n",
      "\n",
      "      abs_diff_longitude  abs_diff_latitude  distance  \n",
      "0               0.002701           0.009041  1.031896  \n",
      "10              0.015614           0.003583  1.376087  \n",
      "22              0.006248           0.006834  0.925311  \n",
      "33              0.013840           0.006665  1.383106  \n",
      "43              0.029870           0.043548  5.462866  \n",
      "...                  ...                ...       ...  \n",
      "9958            0.058407           0.045504  7.065743  \n",
      "9969            0.006217           0.008409  1.072859  \n",
      "9979            0.011145           0.013412  1.764333  \n",
      "9989            0.009618           0.010696  1.440591  \n",
      "9999            0.032100           0.038100  5.031823  \n",
      "\n",
      "[969 rows x 10 columns]\n",
      "CPU times: user 13.6 ms, sys: 2.13 ms, total: 15.7 ms\n",
      "Wall time: 16.3 ms\n"
     ]
    }
   ],
   "source": [
    "%%time\n",
    "print(data[::10])"
   ]
  },
  {
   "cell_type": "markdown",
   "metadata": {},
   "source": [
    "### Creating new features like year, month, day, hour and dayOfWeek from pickup_datetime"
   ]
  },
  {
   "cell_type": "code",
   "execution_count": 28,
   "metadata": {},
   "outputs": [],
   "source": [
    "def split_datetime(df):\n",
    "        df['pickup_datetime'] = pd.to_datetime(df['pickup_datetime'], format=\"%Y-%m-%d %H:%M:%S UTC\")\n",
    "        df['year'] = df['pickup_datetime'].dt.year\n",
    "        df['month'] = df['pickup_datetime'].dt.month\n",
    "        df['day'] = df['pickup_datetime'].dt.day\n",
    "        df['hour'] = df['pickup_datetime'].dt.hour\n",
    "        df['dayOfWeek'] = df['pickup_datetime'].dt.dayofweek\n",
    "        \n",
    "        return df"
   ]
  },
  {
   "cell_type": "code",
   "execution_count": 29,
   "metadata": {
    "scrolled": true
   },
   "outputs": [
    {
     "name": "stdout",
     "output_type": "stream",
     "text": [
      "CPU times: user 59.2 ms, sys: 1.83 ms, total: 61 ms\n",
      "Wall time: 76.1 ms\n"
     ]
    },
    {
     "data": {
      "text/html": [
       "<div>\n",
       "<style scoped>\n",
       "    .dataframe tbody tr th:only-of-type {\n",
       "        vertical-align: middle;\n",
       "    }\n",
       "\n",
       "    .dataframe tbody tr th {\n",
       "        vertical-align: top;\n",
       "    }\n",
       "\n",
       "    .dataframe thead th {\n",
       "        text-align: right;\n",
       "    }\n",
       "</style>\n",
       "<table border=\"1\" class=\"dataframe\">\n",
       "  <thead>\n",
       "    <tr style=\"text-align: right;\">\n",
       "      <th></th>\n",
       "      <th>fare_amount</th>\n",
       "      <th>pickup_datetime</th>\n",
       "      <th>pickup_longitude</th>\n",
       "      <th>pickup_latitude</th>\n",
       "      <th>dropoff_longitude</th>\n",
       "      <th>dropoff_latitude</th>\n",
       "      <th>passenger_count</th>\n",
       "      <th>abs_diff_longitude</th>\n",
       "      <th>abs_diff_latitude</th>\n",
       "      <th>distance</th>\n",
       "      <th>year</th>\n",
       "      <th>month</th>\n",
       "      <th>day</th>\n",
       "      <th>hour</th>\n",
       "      <th>dayOfWeek</th>\n",
       "    </tr>\n",
       "  </thead>\n",
       "  <tbody>\n",
       "    <tr>\n",
       "      <td>0</td>\n",
       "      <td>4.5</td>\n",
       "      <td>2009-06-15 17:26:21</td>\n",
       "      <td>-73.844311</td>\n",
       "      <td>40.721319</td>\n",
       "      <td>-73.841610</td>\n",
       "      <td>40.712278</td>\n",
       "      <td>1</td>\n",
       "      <td>0.002701</td>\n",
       "      <td>0.009041</td>\n",
       "      <td>1.031896</td>\n",
       "      <td>2009</td>\n",
       "      <td>6</td>\n",
       "      <td>15</td>\n",
       "      <td>17</td>\n",
       "      <td>0</td>\n",
       "    </tr>\n",
       "    <tr>\n",
       "      <td>1</td>\n",
       "      <td>16.9</td>\n",
       "      <td>2010-01-05 16:52:16</td>\n",
       "      <td>-74.016048</td>\n",
       "      <td>40.711303</td>\n",
       "      <td>-73.979268</td>\n",
       "      <td>40.782004</td>\n",
       "      <td>1</td>\n",
       "      <td>0.036780</td>\n",
       "      <td>0.070701</td>\n",
       "      <td>8.459418</td>\n",
       "      <td>2010</td>\n",
       "      <td>1</td>\n",
       "      <td>5</td>\n",
       "      <td>16</td>\n",
       "      <td>1</td>\n",
       "    </tr>\n",
       "    <tr>\n",
       "      <td>2</td>\n",
       "      <td>5.7</td>\n",
       "      <td>2011-08-18 00:35:00</td>\n",
       "      <td>-73.982738</td>\n",
       "      <td>40.761270</td>\n",
       "      <td>-73.991242</td>\n",
       "      <td>40.750562</td>\n",
       "      <td>2</td>\n",
       "      <td>0.008504</td>\n",
       "      <td>0.010708</td>\n",
       "      <td>1.391052</td>\n",
       "      <td>2011</td>\n",
       "      <td>8</td>\n",
       "      <td>18</td>\n",
       "      <td>0</td>\n",
       "      <td>3</td>\n",
       "    </tr>\n",
       "    <tr>\n",
       "      <td>3</td>\n",
       "      <td>7.7</td>\n",
       "      <td>2012-04-21 04:30:42</td>\n",
       "      <td>-73.987130</td>\n",
       "      <td>40.733143</td>\n",
       "      <td>-73.991567</td>\n",
       "      <td>40.758092</td>\n",
       "      <td>1</td>\n",
       "      <td>0.004437</td>\n",
       "      <td>0.024949</td>\n",
       "      <td>2.802346</td>\n",
       "      <td>2012</td>\n",
       "      <td>4</td>\n",
       "      <td>21</td>\n",
       "      <td>4</td>\n",
       "      <td>5</td>\n",
       "    </tr>\n",
       "    <tr>\n",
       "      <td>4</td>\n",
       "      <td>5.3</td>\n",
       "      <td>2010-03-09 07:51:00</td>\n",
       "      <td>-73.968095</td>\n",
       "      <td>40.768008</td>\n",
       "      <td>-73.956655</td>\n",
       "      <td>40.783762</td>\n",
       "      <td>1</td>\n",
       "      <td>0.011440</td>\n",
       "      <td>0.015754</td>\n",
       "      <td>2.001353</td>\n",
       "      <td>2010</td>\n",
       "      <td>3</td>\n",
       "      <td>9</td>\n",
       "      <td>7</td>\n",
       "      <td>1</td>\n",
       "    </tr>\n",
       "    <tr>\n",
       "      <td>...</td>\n",
       "      <td>...</td>\n",
       "      <td>...</td>\n",
       "      <td>...</td>\n",
       "      <td>...</td>\n",
       "      <td>...</td>\n",
       "      <td>...</td>\n",
       "      <td>...</td>\n",
       "      <td>...</td>\n",
       "      <td>...</td>\n",
       "      <td>...</td>\n",
       "      <td>...</td>\n",
       "      <td>...</td>\n",
       "      <td>...</td>\n",
       "      <td>...</td>\n",
       "      <td>...</td>\n",
       "    </tr>\n",
       "    <tr>\n",
       "      <td>9995</td>\n",
       "      <td>11.7</td>\n",
       "      <td>2011-10-26 10:44:00</td>\n",
       "      <td>-73.988277</td>\n",
       "      <td>40.748970</td>\n",
       "      <td>-73.963712</td>\n",
       "      <td>40.773958</td>\n",
       "      <td>2</td>\n",
       "      <td>0.024565</td>\n",
       "      <td>0.024988</td>\n",
       "      <td>3.468019</td>\n",
       "      <td>2011</td>\n",
       "      <td>10</td>\n",
       "      <td>26</td>\n",
       "      <td>10</td>\n",
       "      <td>2</td>\n",
       "    </tr>\n",
       "    <tr>\n",
       "      <td>9996</td>\n",
       "      <td>5.7</td>\n",
       "      <td>2011-12-16 15:37:00</td>\n",
       "      <td>-74.002112</td>\n",
       "      <td>40.748727</td>\n",
       "      <td>-73.992467</td>\n",
       "      <td>40.756252</td>\n",
       "      <td>1</td>\n",
       "      <td>0.009645</td>\n",
       "      <td>0.007525</td>\n",
       "      <td>1.167555</td>\n",
       "      <td>2011</td>\n",
       "      <td>12</td>\n",
       "      <td>16</td>\n",
       "      <td>15</td>\n",
       "      <td>4</td>\n",
       "    </tr>\n",
       "    <tr>\n",
       "      <td>9997</td>\n",
       "      <td>12.0</td>\n",
       "      <td>2013-11-16 22:47:17</td>\n",
       "      <td>-73.992093</td>\n",
       "      <td>40.729071</td>\n",
       "      <td>-73.974470</td>\n",
       "      <td>40.763050</td>\n",
       "      <td>2</td>\n",
       "      <td>0.017623</td>\n",
       "      <td>0.033979</td>\n",
       "      <td>4.063960</td>\n",
       "      <td>2013</td>\n",
       "      <td>11</td>\n",
       "      <td>16</td>\n",
       "      <td>22</td>\n",
       "      <td>5</td>\n",
       "    </tr>\n",
       "    <tr>\n",
       "      <td>9998</td>\n",
       "      <td>6.5</td>\n",
       "      <td>2010-01-28 11:38:00</td>\n",
       "      <td>-73.992548</td>\n",
       "      <td>40.735652</td>\n",
       "      <td>-73.998802</td>\n",
       "      <td>40.723085</td>\n",
       "      <td>1</td>\n",
       "      <td>0.006254</td>\n",
       "      <td>0.012567</td>\n",
       "      <td>1.495094</td>\n",
       "      <td>2010</td>\n",
       "      <td>1</td>\n",
       "      <td>28</td>\n",
       "      <td>11</td>\n",
       "      <td>3</td>\n",
       "    </tr>\n",
       "    <tr>\n",
       "      <td>9999</td>\n",
       "      <td>10.5</td>\n",
       "      <td>2011-07-05 06:48:44</td>\n",
       "      <td>-73.978400</td>\n",
       "      <td>40.751700</td>\n",
       "      <td>-74.010500</td>\n",
       "      <td>40.713600</td>\n",
       "      <td>1</td>\n",
       "      <td>0.032100</td>\n",
       "      <td>0.038100</td>\n",
       "      <td>5.031823</td>\n",
       "      <td>2011</td>\n",
       "      <td>7</td>\n",
       "      <td>5</td>\n",
       "      <td>6</td>\n",
       "      <td>1</td>\n",
       "    </tr>\n",
       "  </tbody>\n",
       "</table>\n",
       "<p>9681 rows × 15 columns</p>\n",
       "</div>"
      ],
      "text/plain": [
       "      fare_amount     pickup_datetime  pickup_longitude  pickup_latitude  \\\n",
       "0             4.5 2009-06-15 17:26:21        -73.844311        40.721319   \n",
       "1            16.9 2010-01-05 16:52:16        -74.016048        40.711303   \n",
       "2             5.7 2011-08-18 00:35:00        -73.982738        40.761270   \n",
       "3             7.7 2012-04-21 04:30:42        -73.987130        40.733143   \n",
       "4             5.3 2010-03-09 07:51:00        -73.968095        40.768008   \n",
       "...           ...                 ...               ...              ...   \n",
       "9995         11.7 2011-10-26 10:44:00        -73.988277        40.748970   \n",
       "9996          5.7 2011-12-16 15:37:00        -74.002112        40.748727   \n",
       "9997         12.0 2013-11-16 22:47:17        -73.992093        40.729071   \n",
       "9998          6.5 2010-01-28 11:38:00        -73.992548        40.735652   \n",
       "9999         10.5 2011-07-05 06:48:44        -73.978400        40.751700   \n",
       "\n",
       "      dropoff_longitude  dropoff_latitude  passenger_count  \\\n",
       "0            -73.841610         40.712278                1   \n",
       "1            -73.979268         40.782004                1   \n",
       "2            -73.991242         40.750562                2   \n",
       "3            -73.991567         40.758092                1   \n",
       "4            -73.956655         40.783762                1   \n",
       "...                 ...               ...              ...   \n",
       "9995         -73.963712         40.773958                2   \n",
       "9996         -73.992467         40.756252                1   \n",
       "9997         -73.974470         40.763050                2   \n",
       "9998         -73.998802         40.723085                1   \n",
       "9999         -74.010500         40.713600                1   \n",
       "\n",
       "      abs_diff_longitude  abs_diff_latitude  distance  year  month  day  hour  \\\n",
       "0               0.002701           0.009041  1.031896  2009      6   15    17   \n",
       "1               0.036780           0.070701  8.459418  2010      1    5    16   \n",
       "2               0.008504           0.010708  1.391052  2011      8   18     0   \n",
       "3               0.004437           0.024949  2.802346  2012      4   21     4   \n",
       "4               0.011440           0.015754  2.001353  2010      3    9     7   \n",
       "...                  ...                ...       ...   ...    ...  ...   ...   \n",
       "9995            0.024565           0.024988  3.468019  2011     10   26    10   \n",
       "9996            0.009645           0.007525  1.167555  2011     12   16    15   \n",
       "9997            0.017623           0.033979  4.063960  2013     11   16    22   \n",
       "9998            0.006254           0.012567  1.495094  2010      1   28    11   \n",
       "9999            0.032100           0.038100  5.031823  2011      7    5     6   \n",
       "\n",
       "      dayOfWeek  \n",
       "0             0  \n",
       "1             1  \n",
       "2             3  \n",
       "3             5  \n",
       "4             1  \n",
       "...         ...  \n",
       "9995          2  \n",
       "9996          4  \n",
       "9997          5  \n",
       "9998          3  \n",
       "9999          1  \n",
       "\n",
       "[9681 rows x 15 columns]"
      ]
     },
     "execution_count": 29,
     "metadata": {},
     "output_type": "execute_result"
    }
   ],
   "source": [
    "%%time\n",
    "split_datetime(data)"
   ]
  },
  {
   "cell_type": "markdown",
   "metadata": {},
   "source": [
    "Now that we have split pickup_datetime into year, month, day, hour and year"
   ]
  },
  {
   "cell_type": "markdown",
   "metadata": {},
   "source": [
    "### Let's take a look at hour adn dayOfWeek"
   ]
  },
  {
   "cell_type": "code",
   "execution_count": 30,
   "metadata": {
    "scrolled": true
   },
   "outputs": [
    {
     "name": "stdout",
     "output_type": "stream",
     "text": [
      "CPU times: user 4.22 ms, sys: 1.44 ms, total: 5.66 ms\n",
      "Wall time: 4.74 ms\n"
     ]
    },
    {
     "data": {
      "text/plain": [
       "count    9681.000000\n",
       "mean       13.515856\n",
       "std         6.505003\n",
       "min         0.000000\n",
       "25%         9.000000\n",
       "50%        14.000000\n",
       "75%        19.000000\n",
       "max        23.000000\n",
       "Name: hour, dtype: float64"
      ]
     },
     "execution_count": 30,
     "metadata": {},
     "output_type": "execute_result"
    }
   ],
   "source": [
    "%%time\n",
    "data['hour'].describe()"
   ]
  },
  {
   "cell_type": "markdown",
   "metadata": {},
   "source": [
    "According to New York Times, rush hours is ususally between 7 to 9AM and from 4 to 6PM. Let's create a new feature from hour"
   ]
  },
  {
   "cell_type": "code",
   "execution_count": 31,
   "metadata": {},
   "outputs": [],
   "source": [
    "# 1 for rush hour, 0 for not\n",
    "def rush_hour(hour):\n",
    "    if hour in range(7, 10) or hour in range(4, 7):\n",
    "        return 1\n",
    "    else:\n",
    "        return 0"
   ]
  },
  {
   "cell_type": "code",
   "execution_count": 32,
   "metadata": {
    "scrolled": true
   },
   "outputs": [
    {
     "name": "stdout",
     "output_type": "stream",
     "text": [
      "CPU times: user 10.8 ms, sys: 1.37 ms, total: 12.1 ms\n",
      "Wall time: 11.9 ms\n"
     ]
    }
   ],
   "source": [
    "%%time\n",
    "data['rush_hour'] = data['hour'].apply(rush_hour)"
   ]
  },
  {
   "cell_type": "code",
   "execution_count": 33,
   "metadata": {},
   "outputs": [
    {
     "data": {
      "text/html": [
       "<div>\n",
       "<style scoped>\n",
       "    .dataframe tbody tr th:only-of-type {\n",
       "        vertical-align: middle;\n",
       "    }\n",
       "\n",
       "    .dataframe tbody tr th {\n",
       "        vertical-align: top;\n",
       "    }\n",
       "\n",
       "    .dataframe thead th {\n",
       "        text-align: right;\n",
       "    }\n",
       "</style>\n",
       "<table border=\"1\" class=\"dataframe\">\n",
       "  <thead>\n",
       "    <tr style=\"text-align: right;\">\n",
       "      <th></th>\n",
       "      <th>fare_amount</th>\n",
       "      <th>pickup_longitude</th>\n",
       "      <th>pickup_latitude</th>\n",
       "      <th>dropoff_longitude</th>\n",
       "      <th>dropoff_latitude</th>\n",
       "      <th>passenger_count</th>\n",
       "      <th>abs_diff_longitude</th>\n",
       "      <th>abs_diff_latitude</th>\n",
       "      <th>distance</th>\n",
       "      <th>year</th>\n",
       "      <th>month</th>\n",
       "      <th>day</th>\n",
       "      <th>hour</th>\n",
       "      <th>dayOfWeek</th>\n",
       "      <th>rush_hour</th>\n",
       "    </tr>\n",
       "  </thead>\n",
       "  <tbody>\n",
       "    <tr>\n",
       "      <td>count</td>\n",
       "      <td>9681.000000</td>\n",
       "      <td>9681.000000</td>\n",
       "      <td>9681.000000</td>\n",
       "      <td>9681.000000</td>\n",
       "      <td>9681.000000</td>\n",
       "      <td>9681.000000</td>\n",
       "      <td>9681.000000</td>\n",
       "      <td>9681.000000</td>\n",
       "      <td>9681.000000</td>\n",
       "      <td>9681.000000</td>\n",
       "      <td>9681.000000</td>\n",
       "      <td>9681.000000</td>\n",
       "      <td>9681.000000</td>\n",
       "      <td>9681.000000</td>\n",
       "      <td>9681.000000</td>\n",
       "    </tr>\n",
       "    <tr>\n",
       "      <td>mean</td>\n",
       "      <td>11.236806</td>\n",
       "      <td>-73.838602</td>\n",
       "      <td>40.638664</td>\n",
       "      <td>-73.846282</td>\n",
       "      <td>40.647808</td>\n",
       "      <td>1.654065</td>\n",
       "      <td>0.106738</td>\n",
       "      <td>0.064038</td>\n",
       "      <td>13.132141</td>\n",
       "      <td>2011.746617</td>\n",
       "      <td>6.200702</td>\n",
       "      <td>15.701994</td>\n",
       "      <td>13.515856</td>\n",
       "      <td>3.026960</td>\n",
       "      <td>0.177254</td>\n",
       "    </tr>\n",
       "    <tr>\n",
       "      <td>std</td>\n",
       "      <td>9.330930</td>\n",
       "      <td>3.668483</td>\n",
       "      <td>3.272563</td>\n",
       "      <td>3.574931</td>\n",
       "      <td>3.218588</td>\n",
       "      <td>1.272259</td>\n",
       "      <td>2.468719</td>\n",
       "      <td>1.306403</td>\n",
       "      <td>280.511183</td>\n",
       "      <td>1.873628</td>\n",
       "      <td>3.424104</td>\n",
       "      <td>8.669549</td>\n",
       "      <td>6.505003</td>\n",
       "      <td>1.973271</td>\n",
       "      <td>0.381904</td>\n",
       "    </tr>\n",
       "    <tr>\n",
       "      <td>min</td>\n",
       "      <td>0.010000</td>\n",
       "      <td>-74.438233</td>\n",
       "      <td>-74.006893</td>\n",
       "      <td>-74.185996</td>\n",
       "      <td>-73.994392</td>\n",
       "      <td>1.000000</td>\n",
       "      <td>0.000000</td>\n",
       "      <td>0.000000</td>\n",
       "      <td>0.000279</td>\n",
       "      <td>2009.000000</td>\n",
       "      <td>1.000000</td>\n",
       "      <td>1.000000</td>\n",
       "      <td>0.000000</td>\n",
       "      <td>0.000000</td>\n",
       "      <td>0.000000</td>\n",
       "    </tr>\n",
       "    <tr>\n",
       "      <td>25%</td>\n",
       "      <td>6.000000</td>\n",
       "      <td>-73.992258</td>\n",
       "      <td>40.735977</td>\n",
       "      <td>-73.991280</td>\n",
       "      <td>40.736615</td>\n",
       "      <td>1.000000</td>\n",
       "      <td>0.006268</td>\n",
       "      <td>0.007262</td>\n",
       "      <td>1.271561</td>\n",
       "      <td>2010.000000</td>\n",
       "      <td>3.000000</td>\n",
       "      <td>8.000000</td>\n",
       "      <td>9.000000</td>\n",
       "      <td>1.000000</td>\n",
       "      <td>0.000000</td>\n",
       "    </tr>\n",
       "    <tr>\n",
       "      <td>50%</td>\n",
       "      <td>8.500000</td>\n",
       "      <td>-73.982091</td>\n",
       "      <td>40.753389</td>\n",
       "      <td>-73.980502</td>\n",
       "      <td>40.754460</td>\n",
       "      <td>1.000000</td>\n",
       "      <td>0.012900</td>\n",
       "      <td>0.014495</td>\n",
       "      <td>2.191527</td>\n",
       "      <td>2012.000000</td>\n",
       "      <td>6.000000</td>\n",
       "      <td>16.000000</td>\n",
       "      <td>14.000000</td>\n",
       "      <td>3.000000</td>\n",
       "      <td>0.000000</td>\n",
       "    </tr>\n",
       "    <tr>\n",
       "      <td>75%</td>\n",
       "      <td>12.500000</td>\n",
       "      <td>-73.968297</td>\n",
       "      <td>40.768032</td>\n",
       "      <td>-73.965388</td>\n",
       "      <td>40.768555</td>\n",
       "      <td>2.000000</td>\n",
       "      <td>0.024660</td>\n",
       "      <td>0.027341</td>\n",
       "      <td>3.971384</td>\n",
       "      <td>2013.000000</td>\n",
       "      <td>9.000000</td>\n",
       "      <td>23.000000</td>\n",
       "      <td>19.000000</td>\n",
       "      <td>5.000000</td>\n",
       "      <td>0.000000</td>\n",
       "    </tr>\n",
       "    <tr>\n",
       "      <td>max</td>\n",
       "      <td>165.000000</td>\n",
       "      <td>40.766125</td>\n",
       "      <td>41.366138</td>\n",
       "      <td>40.802437</td>\n",
       "      <td>41.366138</td>\n",
       "      <td>6.000000</td>\n",
       "      <td>74.010230</td>\n",
       "      <td>40.796543</td>\n",
       "      <td>8677.065380</td>\n",
       "      <td>2015.000000</td>\n",
       "      <td>12.000000</td>\n",
       "      <td>31.000000</td>\n",
       "      <td>23.000000</td>\n",
       "      <td>6.000000</td>\n",
       "      <td>1.000000</td>\n",
       "    </tr>\n",
       "  </tbody>\n",
       "</table>\n",
       "</div>"
      ],
      "text/plain": [
       "       fare_amount  pickup_longitude  pickup_latitude  dropoff_longitude  \\\n",
       "count  9681.000000       9681.000000      9681.000000        9681.000000   \n",
       "mean     11.236806        -73.838602        40.638664         -73.846282   \n",
       "std       9.330930          3.668483         3.272563           3.574931   \n",
       "min       0.010000        -74.438233       -74.006893         -74.185996   \n",
       "25%       6.000000        -73.992258        40.735977         -73.991280   \n",
       "50%       8.500000        -73.982091        40.753389         -73.980502   \n",
       "75%      12.500000        -73.968297        40.768032         -73.965388   \n",
       "max     165.000000         40.766125        41.366138          40.802437   \n",
       "\n",
       "       dropoff_latitude  passenger_count  abs_diff_longitude  \\\n",
       "count       9681.000000      9681.000000         9681.000000   \n",
       "mean          40.647808         1.654065            0.106738   \n",
       "std            3.218588         1.272259            2.468719   \n",
       "min          -73.994392         1.000000            0.000000   \n",
       "25%           40.736615         1.000000            0.006268   \n",
       "50%           40.754460         1.000000            0.012900   \n",
       "75%           40.768555         2.000000            0.024660   \n",
       "max           41.366138         6.000000           74.010230   \n",
       "\n",
       "       abs_diff_latitude     distance         year        month          day  \\\n",
       "count        9681.000000  9681.000000  9681.000000  9681.000000  9681.000000   \n",
       "mean            0.064038    13.132141  2011.746617     6.200702    15.701994   \n",
       "std             1.306403   280.511183     1.873628     3.424104     8.669549   \n",
       "min             0.000000     0.000279  2009.000000     1.000000     1.000000   \n",
       "25%             0.007262     1.271561  2010.000000     3.000000     8.000000   \n",
       "50%             0.014495     2.191527  2012.000000     6.000000    16.000000   \n",
       "75%             0.027341     3.971384  2013.000000     9.000000    23.000000   \n",
       "max            40.796543  8677.065380  2015.000000    12.000000    31.000000   \n",
       "\n",
       "              hour    dayOfWeek    rush_hour  \n",
       "count  9681.000000  9681.000000  9681.000000  \n",
       "mean     13.515856     3.026960     0.177254  \n",
       "std       6.505003     1.973271     0.381904  \n",
       "min       0.000000     0.000000     0.000000  \n",
       "25%       9.000000     1.000000     0.000000  \n",
       "50%      14.000000     3.000000     0.000000  \n",
       "75%      19.000000     5.000000     0.000000  \n",
       "max      23.000000     6.000000     1.000000  "
      ]
     },
     "execution_count": 33,
     "metadata": {},
     "output_type": "execute_result"
    }
   ],
   "source": [
    "data.describe()"
   ]
  },
  {
   "cell_type": "code",
   "execution_count": 34,
   "metadata": {},
   "outputs": [
    {
     "name": "stdout",
     "output_type": "stream",
     "text": [
      "CPU times: user 3.35 ms, sys: 1.39 ms, total: 4.73 ms\n",
      "Wall time: 3.4 ms\n"
     ]
    },
    {
     "data": {
      "text/plain": [
       "count    9681.000000\n",
       "mean        3.026960\n",
       "std         1.973271\n",
       "min         0.000000\n",
       "25%         1.000000\n",
       "50%         3.000000\n",
       "75%         5.000000\n",
       "max         6.000000\n",
       "Name: dayOfWeek, dtype: float64"
      ]
     },
     "execution_count": 34,
     "metadata": {},
     "output_type": "execute_result"
    }
   ],
   "source": [
    "%%time\n",
    "data['dayOfWeek'].describe()"
   ]
  },
  {
   "cell_type": "markdown",
   "metadata": {},
   "source": [
    "We can also create a new feature from daysOfWeek. We can check if it's a weekend or not"
   ]
  },
  {
   "cell_type": "code",
   "execution_count": 35,
   "metadata": {},
   "outputs": [],
   "source": [
    "# 1 for weekend, 0 for not\n",
    "def weekend(dayOfWeek):\n",
    "    if dayOfWeek == 0 or dayOfWeek == 6:\n",
    "        return 1\n",
    "    else:\n",
    "        return 0"
   ]
  },
  {
   "cell_type": "code",
   "execution_count": 36,
   "metadata": {},
   "outputs": [
    {
     "name": "stdout",
     "output_type": "stream",
     "text": [
      "CPU times: user 5.2 ms, sys: 206 µs, total: 5.41 ms\n",
      "Wall time: 5.52 ms\n"
     ]
    }
   ],
   "source": [
    "%%time\n",
    "data['weekend'] = data['dayOfWeek'].apply(weekend)"
   ]
  },
  {
   "cell_type": "code",
   "execution_count": 37,
   "metadata": {
    "scrolled": false
   },
   "outputs": [
    {
     "data": {
      "text/html": [
       "<div>\n",
       "<style scoped>\n",
       "    .dataframe tbody tr th:only-of-type {\n",
       "        vertical-align: middle;\n",
       "    }\n",
       "\n",
       "    .dataframe tbody tr th {\n",
       "        vertical-align: top;\n",
       "    }\n",
       "\n",
       "    .dataframe thead th {\n",
       "        text-align: right;\n",
       "    }\n",
       "</style>\n",
       "<table border=\"1\" class=\"dataframe\">\n",
       "  <thead>\n",
       "    <tr style=\"text-align: right;\">\n",
       "      <th></th>\n",
       "      <th>fare_amount</th>\n",
       "      <th>pickup_longitude</th>\n",
       "      <th>pickup_latitude</th>\n",
       "      <th>dropoff_longitude</th>\n",
       "      <th>dropoff_latitude</th>\n",
       "      <th>passenger_count</th>\n",
       "      <th>abs_diff_longitude</th>\n",
       "      <th>abs_diff_latitude</th>\n",
       "      <th>distance</th>\n",
       "      <th>year</th>\n",
       "      <th>month</th>\n",
       "      <th>day</th>\n",
       "      <th>hour</th>\n",
       "      <th>dayOfWeek</th>\n",
       "      <th>rush_hour</th>\n",
       "      <th>weekend</th>\n",
       "    </tr>\n",
       "  </thead>\n",
       "  <tbody>\n",
       "    <tr>\n",
       "      <td>count</td>\n",
       "      <td>9681.000000</td>\n",
       "      <td>9681.000000</td>\n",
       "      <td>9681.000000</td>\n",
       "      <td>9681.000000</td>\n",
       "      <td>9681.000000</td>\n",
       "      <td>9681.000000</td>\n",
       "      <td>9681.000000</td>\n",
       "      <td>9681.000000</td>\n",
       "      <td>9681.000000</td>\n",
       "      <td>9681.000000</td>\n",
       "      <td>9681.000000</td>\n",
       "      <td>9681.000000</td>\n",
       "      <td>9681.000000</td>\n",
       "      <td>9681.000000</td>\n",
       "      <td>9681.000000</td>\n",
       "      <td>9681.000000</td>\n",
       "    </tr>\n",
       "    <tr>\n",
       "      <td>mean</td>\n",
       "      <td>11.236806</td>\n",
       "      <td>-73.838602</td>\n",
       "      <td>40.638664</td>\n",
       "      <td>-73.846282</td>\n",
       "      <td>40.647808</td>\n",
       "      <td>1.654065</td>\n",
       "      <td>0.106738</td>\n",
       "      <td>0.064038</td>\n",
       "      <td>13.132141</td>\n",
       "      <td>2011.746617</td>\n",
       "      <td>6.200702</td>\n",
       "      <td>15.701994</td>\n",
       "      <td>13.515856</td>\n",
       "      <td>3.026960</td>\n",
       "      <td>0.177254</td>\n",
       "      <td>0.269704</td>\n",
       "    </tr>\n",
       "    <tr>\n",
       "      <td>std</td>\n",
       "      <td>9.330930</td>\n",
       "      <td>3.668483</td>\n",
       "      <td>3.272563</td>\n",
       "      <td>3.574931</td>\n",
       "      <td>3.218588</td>\n",
       "      <td>1.272259</td>\n",
       "      <td>2.468719</td>\n",
       "      <td>1.306403</td>\n",
       "      <td>280.511183</td>\n",
       "      <td>1.873628</td>\n",
       "      <td>3.424104</td>\n",
       "      <td>8.669549</td>\n",
       "      <td>6.505003</td>\n",
       "      <td>1.973271</td>\n",
       "      <td>0.381904</td>\n",
       "      <td>0.443829</td>\n",
       "    </tr>\n",
       "    <tr>\n",
       "      <td>min</td>\n",
       "      <td>0.010000</td>\n",
       "      <td>-74.438233</td>\n",
       "      <td>-74.006893</td>\n",
       "      <td>-74.185996</td>\n",
       "      <td>-73.994392</td>\n",
       "      <td>1.000000</td>\n",
       "      <td>0.000000</td>\n",
       "      <td>0.000000</td>\n",
       "      <td>0.000279</td>\n",
       "      <td>2009.000000</td>\n",
       "      <td>1.000000</td>\n",
       "      <td>1.000000</td>\n",
       "      <td>0.000000</td>\n",
       "      <td>0.000000</td>\n",
       "      <td>0.000000</td>\n",
       "      <td>0.000000</td>\n",
       "    </tr>\n",
       "    <tr>\n",
       "      <td>25%</td>\n",
       "      <td>6.000000</td>\n",
       "      <td>-73.992258</td>\n",
       "      <td>40.735977</td>\n",
       "      <td>-73.991280</td>\n",
       "      <td>40.736615</td>\n",
       "      <td>1.000000</td>\n",
       "      <td>0.006268</td>\n",
       "      <td>0.007262</td>\n",
       "      <td>1.271561</td>\n",
       "      <td>2010.000000</td>\n",
       "      <td>3.000000</td>\n",
       "      <td>8.000000</td>\n",
       "      <td>9.000000</td>\n",
       "      <td>1.000000</td>\n",
       "      <td>0.000000</td>\n",
       "      <td>0.000000</td>\n",
       "    </tr>\n",
       "    <tr>\n",
       "      <td>50%</td>\n",
       "      <td>8.500000</td>\n",
       "      <td>-73.982091</td>\n",
       "      <td>40.753389</td>\n",
       "      <td>-73.980502</td>\n",
       "      <td>40.754460</td>\n",
       "      <td>1.000000</td>\n",
       "      <td>0.012900</td>\n",
       "      <td>0.014495</td>\n",
       "      <td>2.191527</td>\n",
       "      <td>2012.000000</td>\n",
       "      <td>6.000000</td>\n",
       "      <td>16.000000</td>\n",
       "      <td>14.000000</td>\n",
       "      <td>3.000000</td>\n",
       "      <td>0.000000</td>\n",
       "      <td>0.000000</td>\n",
       "    </tr>\n",
       "    <tr>\n",
       "      <td>75%</td>\n",
       "      <td>12.500000</td>\n",
       "      <td>-73.968297</td>\n",
       "      <td>40.768032</td>\n",
       "      <td>-73.965388</td>\n",
       "      <td>40.768555</td>\n",
       "      <td>2.000000</td>\n",
       "      <td>0.024660</td>\n",
       "      <td>0.027341</td>\n",
       "      <td>3.971384</td>\n",
       "      <td>2013.000000</td>\n",
       "      <td>9.000000</td>\n",
       "      <td>23.000000</td>\n",
       "      <td>19.000000</td>\n",
       "      <td>5.000000</td>\n",
       "      <td>0.000000</td>\n",
       "      <td>1.000000</td>\n",
       "    </tr>\n",
       "    <tr>\n",
       "      <td>max</td>\n",
       "      <td>165.000000</td>\n",
       "      <td>40.766125</td>\n",
       "      <td>41.366138</td>\n",
       "      <td>40.802437</td>\n",
       "      <td>41.366138</td>\n",
       "      <td>6.000000</td>\n",
       "      <td>74.010230</td>\n",
       "      <td>40.796543</td>\n",
       "      <td>8677.065380</td>\n",
       "      <td>2015.000000</td>\n",
       "      <td>12.000000</td>\n",
       "      <td>31.000000</td>\n",
       "      <td>23.000000</td>\n",
       "      <td>6.000000</td>\n",
       "      <td>1.000000</td>\n",
       "      <td>1.000000</td>\n",
       "    </tr>\n",
       "  </tbody>\n",
       "</table>\n",
       "</div>"
      ],
      "text/plain": [
       "       fare_amount  pickup_longitude  pickup_latitude  dropoff_longitude  \\\n",
       "count  9681.000000       9681.000000      9681.000000        9681.000000   \n",
       "mean     11.236806        -73.838602        40.638664         -73.846282   \n",
       "std       9.330930          3.668483         3.272563           3.574931   \n",
       "min       0.010000        -74.438233       -74.006893         -74.185996   \n",
       "25%       6.000000        -73.992258        40.735977         -73.991280   \n",
       "50%       8.500000        -73.982091        40.753389         -73.980502   \n",
       "75%      12.500000        -73.968297        40.768032         -73.965388   \n",
       "max     165.000000         40.766125        41.366138          40.802437   \n",
       "\n",
       "       dropoff_latitude  passenger_count  abs_diff_longitude  \\\n",
       "count       9681.000000      9681.000000         9681.000000   \n",
       "mean          40.647808         1.654065            0.106738   \n",
       "std            3.218588         1.272259            2.468719   \n",
       "min          -73.994392         1.000000            0.000000   \n",
       "25%           40.736615         1.000000            0.006268   \n",
       "50%           40.754460         1.000000            0.012900   \n",
       "75%           40.768555         2.000000            0.024660   \n",
       "max           41.366138         6.000000           74.010230   \n",
       "\n",
       "       abs_diff_latitude     distance         year        month          day  \\\n",
       "count        9681.000000  9681.000000  9681.000000  9681.000000  9681.000000   \n",
       "mean            0.064038    13.132141  2011.746617     6.200702    15.701994   \n",
       "std             1.306403   280.511183     1.873628     3.424104     8.669549   \n",
       "min             0.000000     0.000279  2009.000000     1.000000     1.000000   \n",
       "25%             0.007262     1.271561  2010.000000     3.000000     8.000000   \n",
       "50%             0.014495     2.191527  2012.000000     6.000000    16.000000   \n",
       "75%             0.027341     3.971384  2013.000000     9.000000    23.000000   \n",
       "max            40.796543  8677.065380  2015.000000    12.000000    31.000000   \n",
       "\n",
       "              hour    dayOfWeek    rush_hour      weekend  \n",
       "count  9681.000000  9681.000000  9681.000000  9681.000000  \n",
       "mean     13.515856     3.026960     0.177254     0.269704  \n",
       "std       6.505003     1.973271     0.381904     0.443829  \n",
       "min       0.000000     0.000000     0.000000     0.000000  \n",
       "25%       9.000000     1.000000     0.000000     0.000000  \n",
       "50%      14.000000     3.000000     0.000000     0.000000  \n",
       "75%      19.000000     5.000000     0.000000     1.000000  \n",
       "max      23.000000     6.000000     1.000000     1.000000  "
      ]
     },
     "execution_count": 37,
     "metadata": {},
     "output_type": "execute_result"
    }
   ],
   "source": [
    "data.describe()"
   ]
  },
  {
   "cell_type": "markdown",
   "metadata": {},
   "source": [
    "rush_hour and weekend are categorical either 1 or 0, so we can crerate dummy columns from them"
   ]
  },
  {
   "cell_type": "code",
   "execution_count": 38,
   "metadata": {},
   "outputs": [],
   "source": [
    "data = pd.get_dummies(data, columns=['rush_hour','weekend'])"
   ]
  },
  {
   "cell_type": "code",
   "execution_count": 39,
   "metadata": {},
   "outputs": [
    {
     "data": {
      "text/html": [
       "<div>\n",
       "<style scoped>\n",
       "    .dataframe tbody tr th:only-of-type {\n",
       "        vertical-align: middle;\n",
       "    }\n",
       "\n",
       "    .dataframe tbody tr th {\n",
       "        vertical-align: top;\n",
       "    }\n",
       "\n",
       "    .dataframe thead th {\n",
       "        text-align: right;\n",
       "    }\n",
       "</style>\n",
       "<table border=\"1\" class=\"dataframe\">\n",
       "  <thead>\n",
       "    <tr style=\"text-align: right;\">\n",
       "      <th></th>\n",
       "      <th>fare_amount</th>\n",
       "      <th>pickup_longitude</th>\n",
       "      <th>pickup_latitude</th>\n",
       "      <th>dropoff_longitude</th>\n",
       "      <th>dropoff_latitude</th>\n",
       "      <th>passenger_count</th>\n",
       "      <th>abs_diff_longitude</th>\n",
       "      <th>abs_diff_latitude</th>\n",
       "      <th>distance</th>\n",
       "      <th>year</th>\n",
       "      <th>month</th>\n",
       "      <th>day</th>\n",
       "      <th>hour</th>\n",
       "      <th>dayOfWeek</th>\n",
       "      <th>rush_hour_0</th>\n",
       "      <th>rush_hour_1</th>\n",
       "      <th>weekend_0</th>\n",
       "      <th>weekend_1</th>\n",
       "    </tr>\n",
       "  </thead>\n",
       "  <tbody>\n",
       "    <tr>\n",
       "      <td>count</td>\n",
       "      <td>9681.000000</td>\n",
       "      <td>9681.000000</td>\n",
       "      <td>9681.000000</td>\n",
       "      <td>9681.000000</td>\n",
       "      <td>9681.000000</td>\n",
       "      <td>9681.000000</td>\n",
       "      <td>9681.000000</td>\n",
       "      <td>9681.000000</td>\n",
       "      <td>9681.000000</td>\n",
       "      <td>9681.000000</td>\n",
       "      <td>9681.000000</td>\n",
       "      <td>9681.000000</td>\n",
       "      <td>9681.000000</td>\n",
       "      <td>9681.000000</td>\n",
       "      <td>9681.000000</td>\n",
       "      <td>9681.000000</td>\n",
       "      <td>9681.000000</td>\n",
       "      <td>9681.000000</td>\n",
       "    </tr>\n",
       "    <tr>\n",
       "      <td>mean</td>\n",
       "      <td>11.236806</td>\n",
       "      <td>-73.838602</td>\n",
       "      <td>40.638664</td>\n",
       "      <td>-73.846282</td>\n",
       "      <td>40.647808</td>\n",
       "      <td>1.654065</td>\n",
       "      <td>0.106738</td>\n",
       "      <td>0.064038</td>\n",
       "      <td>13.132141</td>\n",
       "      <td>2011.746617</td>\n",
       "      <td>6.200702</td>\n",
       "      <td>15.701994</td>\n",
       "      <td>13.515856</td>\n",
       "      <td>3.026960</td>\n",
       "      <td>0.822746</td>\n",
       "      <td>0.177254</td>\n",
       "      <td>0.730296</td>\n",
       "      <td>0.269704</td>\n",
       "    </tr>\n",
       "    <tr>\n",
       "      <td>std</td>\n",
       "      <td>9.330930</td>\n",
       "      <td>3.668483</td>\n",
       "      <td>3.272563</td>\n",
       "      <td>3.574931</td>\n",
       "      <td>3.218588</td>\n",
       "      <td>1.272259</td>\n",
       "      <td>2.468719</td>\n",
       "      <td>1.306403</td>\n",
       "      <td>280.511183</td>\n",
       "      <td>1.873628</td>\n",
       "      <td>3.424104</td>\n",
       "      <td>8.669549</td>\n",
       "      <td>6.505003</td>\n",
       "      <td>1.973271</td>\n",
       "      <td>0.381904</td>\n",
       "      <td>0.381904</td>\n",
       "      <td>0.443829</td>\n",
       "      <td>0.443829</td>\n",
       "    </tr>\n",
       "    <tr>\n",
       "      <td>min</td>\n",
       "      <td>0.010000</td>\n",
       "      <td>-74.438233</td>\n",
       "      <td>-74.006893</td>\n",
       "      <td>-74.185996</td>\n",
       "      <td>-73.994392</td>\n",
       "      <td>1.000000</td>\n",
       "      <td>0.000000</td>\n",
       "      <td>0.000000</td>\n",
       "      <td>0.000279</td>\n",
       "      <td>2009.000000</td>\n",
       "      <td>1.000000</td>\n",
       "      <td>1.000000</td>\n",
       "      <td>0.000000</td>\n",
       "      <td>0.000000</td>\n",
       "      <td>0.000000</td>\n",
       "      <td>0.000000</td>\n",
       "      <td>0.000000</td>\n",
       "      <td>0.000000</td>\n",
       "    </tr>\n",
       "    <tr>\n",
       "      <td>25%</td>\n",
       "      <td>6.000000</td>\n",
       "      <td>-73.992258</td>\n",
       "      <td>40.735977</td>\n",
       "      <td>-73.991280</td>\n",
       "      <td>40.736615</td>\n",
       "      <td>1.000000</td>\n",
       "      <td>0.006268</td>\n",
       "      <td>0.007262</td>\n",
       "      <td>1.271561</td>\n",
       "      <td>2010.000000</td>\n",
       "      <td>3.000000</td>\n",
       "      <td>8.000000</td>\n",
       "      <td>9.000000</td>\n",
       "      <td>1.000000</td>\n",
       "      <td>1.000000</td>\n",
       "      <td>0.000000</td>\n",
       "      <td>0.000000</td>\n",
       "      <td>0.000000</td>\n",
       "    </tr>\n",
       "    <tr>\n",
       "      <td>50%</td>\n",
       "      <td>8.500000</td>\n",
       "      <td>-73.982091</td>\n",
       "      <td>40.753389</td>\n",
       "      <td>-73.980502</td>\n",
       "      <td>40.754460</td>\n",
       "      <td>1.000000</td>\n",
       "      <td>0.012900</td>\n",
       "      <td>0.014495</td>\n",
       "      <td>2.191527</td>\n",
       "      <td>2012.000000</td>\n",
       "      <td>6.000000</td>\n",
       "      <td>16.000000</td>\n",
       "      <td>14.000000</td>\n",
       "      <td>3.000000</td>\n",
       "      <td>1.000000</td>\n",
       "      <td>0.000000</td>\n",
       "      <td>1.000000</td>\n",
       "      <td>0.000000</td>\n",
       "    </tr>\n",
       "    <tr>\n",
       "      <td>75%</td>\n",
       "      <td>12.500000</td>\n",
       "      <td>-73.968297</td>\n",
       "      <td>40.768032</td>\n",
       "      <td>-73.965388</td>\n",
       "      <td>40.768555</td>\n",
       "      <td>2.000000</td>\n",
       "      <td>0.024660</td>\n",
       "      <td>0.027341</td>\n",
       "      <td>3.971384</td>\n",
       "      <td>2013.000000</td>\n",
       "      <td>9.000000</td>\n",
       "      <td>23.000000</td>\n",
       "      <td>19.000000</td>\n",
       "      <td>5.000000</td>\n",
       "      <td>1.000000</td>\n",
       "      <td>0.000000</td>\n",
       "      <td>1.000000</td>\n",
       "      <td>1.000000</td>\n",
       "    </tr>\n",
       "    <tr>\n",
       "      <td>max</td>\n",
       "      <td>165.000000</td>\n",
       "      <td>40.766125</td>\n",
       "      <td>41.366138</td>\n",
       "      <td>40.802437</td>\n",
       "      <td>41.366138</td>\n",
       "      <td>6.000000</td>\n",
       "      <td>74.010230</td>\n",
       "      <td>40.796543</td>\n",
       "      <td>8677.065380</td>\n",
       "      <td>2015.000000</td>\n",
       "      <td>12.000000</td>\n",
       "      <td>31.000000</td>\n",
       "      <td>23.000000</td>\n",
       "      <td>6.000000</td>\n",
       "      <td>1.000000</td>\n",
       "      <td>1.000000</td>\n",
       "      <td>1.000000</td>\n",
       "      <td>1.000000</td>\n",
       "    </tr>\n",
       "  </tbody>\n",
       "</table>\n",
       "</div>"
      ],
      "text/plain": [
       "       fare_amount  pickup_longitude  pickup_latitude  dropoff_longitude  \\\n",
       "count  9681.000000       9681.000000      9681.000000        9681.000000   \n",
       "mean     11.236806        -73.838602        40.638664         -73.846282   \n",
       "std       9.330930          3.668483         3.272563           3.574931   \n",
       "min       0.010000        -74.438233       -74.006893         -74.185996   \n",
       "25%       6.000000        -73.992258        40.735977         -73.991280   \n",
       "50%       8.500000        -73.982091        40.753389         -73.980502   \n",
       "75%      12.500000        -73.968297        40.768032         -73.965388   \n",
       "max     165.000000         40.766125        41.366138          40.802437   \n",
       "\n",
       "       dropoff_latitude  passenger_count  abs_diff_longitude  \\\n",
       "count       9681.000000      9681.000000         9681.000000   \n",
       "mean          40.647808         1.654065            0.106738   \n",
       "std            3.218588         1.272259            2.468719   \n",
       "min          -73.994392         1.000000            0.000000   \n",
       "25%           40.736615         1.000000            0.006268   \n",
       "50%           40.754460         1.000000            0.012900   \n",
       "75%           40.768555         2.000000            0.024660   \n",
       "max           41.366138         6.000000           74.010230   \n",
       "\n",
       "       abs_diff_latitude     distance         year        month          day  \\\n",
       "count        9681.000000  9681.000000  9681.000000  9681.000000  9681.000000   \n",
       "mean            0.064038    13.132141  2011.746617     6.200702    15.701994   \n",
       "std             1.306403   280.511183     1.873628     3.424104     8.669549   \n",
       "min             0.000000     0.000279  2009.000000     1.000000     1.000000   \n",
       "25%             0.007262     1.271561  2010.000000     3.000000     8.000000   \n",
       "50%             0.014495     2.191527  2012.000000     6.000000    16.000000   \n",
       "75%             0.027341     3.971384  2013.000000     9.000000    23.000000   \n",
       "max            40.796543  8677.065380  2015.000000    12.000000    31.000000   \n",
       "\n",
       "              hour    dayOfWeek  rush_hour_0  rush_hour_1    weekend_0  \\\n",
       "count  9681.000000  9681.000000  9681.000000  9681.000000  9681.000000   \n",
       "mean     13.515856     3.026960     0.822746     0.177254     0.730296   \n",
       "std       6.505003     1.973271     0.381904     0.381904     0.443829   \n",
       "min       0.000000     0.000000     0.000000     0.000000     0.000000   \n",
       "25%       9.000000     1.000000     1.000000     0.000000     0.000000   \n",
       "50%      14.000000     3.000000     1.000000     0.000000     1.000000   \n",
       "75%      19.000000     5.000000     1.000000     0.000000     1.000000   \n",
       "max      23.000000     6.000000     1.000000     1.000000     1.000000   \n",
       "\n",
       "         weekend_1  \n",
       "count  9681.000000  \n",
       "mean      0.269704  \n",
       "std       0.443829  \n",
       "min       0.000000  \n",
       "25%       0.000000  \n",
       "50%       0.000000  \n",
       "75%       1.000000  \n",
       "max       1.000000  "
      ]
     },
     "execution_count": 39,
     "metadata": {},
     "output_type": "execute_result"
    }
   ],
   "source": [
    "data.describe()"
   ]
  },
  {
   "cell_type": "code",
   "execution_count": 40,
   "metadata": {},
   "outputs": [],
   "source": [
    "# sns.barplot(x=data['year'],y=data[\"fare_amount\"],data=data).set_title(\"Fare Amount over Years\")"
   ]
  },
  {
   "cell_type": "markdown",
   "metadata": {},
   "source": [
    "### Looks like fares have been incrasing over the years"
   ]
  },
  {
   "cell_type": "code",
   "execution_count": 41,
   "metadata": {},
   "outputs": [],
   "source": [
    "# sns.barplot(x=data['hour'],y=data[\"fare_amount\"],data=data).set_title(\"Pickup hour vs fare amount\")"
   ]
  },
  {
   "cell_type": "markdown",
   "metadata": {},
   "source": [
    "#### The fare amount is highest around 5am"
   ]
  },
  {
   "cell_type": "code",
   "execution_count": 42,
   "metadata": {},
   "outputs": [],
   "source": [
    "# sns.barplot(x=data['dayOfWeek'],y=data[\"fare_amount\"],data=data).set_title(\"Pickup days vs fare amount\")"
   ]
  },
  {
   "cell_type": "markdown",
   "metadata": {},
   "source": [
    "### Correlation between features/variables"
   ]
  },
  {
   "cell_type": "code",
   "execution_count": 43,
   "metadata": {},
   "outputs": [],
   "source": [
    "# %%time\n",
    "# correlation= data.corr()\n",
    "# colormap = plt.cm.inferno\n",
    "# mask = np.array(correlation)\n",
    "# mask[np.tril_indices_from(mask)] = False\n",
    "# fig=plt.gcf()\n",
    "# fig.set_size_inches(30,12)\n",
    "# sns.heatmap(data=correlation ,mask=mask,square=True,annot=True,cbar=True,cmap=colormap, linecolor='White', linewidths=0.1)"
   ]
  },
  {
   "cell_type": "code",
   "execution_count": 44,
   "metadata": {},
   "outputs": [
    {
     "name": "stdout",
     "output_type": "stream",
     "text": [
      "CPU times: user 2.47 ms, sys: 1.1 ms, total: 3.57 ms\n",
      "Wall time: 3.36 ms\n"
     ]
    }
   ],
   "source": [
    "%%time\n",
    "feature_cols = ['pickup_longitude','pickup_latitude','dropoff_longitude','dropoff_latitude','passenger_count',\n",
    "                'abs_diff_longitude','abs_diff_latitude','distance','year','month','day','hour','dayOfWeek',\n",
    "                'rush_hour_0','rush_hour_1','weekend_0','weekend_1']\n",
    "\n",
    "X = data[feature_cols] \n",
    "y = data['fare_amount']"
   ]
  },
  {
   "cell_type": "code",
   "execution_count": null,
   "metadata": {},
   "outputs": [],
   "source": []
  },
  {
   "cell_type": "markdown",
   "metadata": {},
   "source": [
    "# Regression Alogorithms"
   ]
  },
  {
   "cell_type": "markdown",
   "metadata": {},
   "source": [
    "### training of the datatset"
   ]
  },
  {
   "cell_type": "code",
   "execution_count": 45,
   "metadata": {},
   "outputs": [
    {
     "name": "stdout",
     "output_type": "stream",
     "text": [
      "CPU times: user 4.61 ms, sys: 1.14 ms, total: 5.75 ms\n",
      "Wall time: 5.42 ms\n"
     ]
    }
   ],
   "source": [
    "%%time\n",
    "X_train, X_test, y_train, y_test = train_test_split(X, y, test_size=0.3, \n",
    "                                                    random_state=2)"
   ]
  },
  {
   "cell_type": "markdown",
   "metadata": {},
   "source": [
    "### Linear Regression"
   ]
  },
  {
   "cell_type": "code",
   "execution_count": 46,
   "metadata": {},
   "outputs": [
    {
     "name": "stdout",
     "output_type": "stream",
     "text": [
      "Linear Regression:100.6050420114656\n",
      "CPU times: user 21.1 ms, sys: 3.36 ms, total: 24.5 ms\n",
      "Wall time: 17.3 ms\n"
     ]
    }
   ],
   "source": [
    "%%time\n",
    "my_linreg = LinearRegression(n_jobs=-1)\n",
    "my_linreg.fit(X_train, y_train)\n",
    "y_prediction_lr = my_linreg.predict(X_test)\n",
    "mse = metrics.mean_squared_error(y_test, y_prediction_lr)\n",
    "rmse_lr = np.sqrt(mse)\n",
    "print(f'Linear Regression:{rmse_lr}')"
   ]
  },
  {
   "cell_type": "markdown",
   "metadata": {},
   "source": [
    "Label Encoding the  y_test and y to prevent continous error"
   ]
  },
  {
   "cell_type": "code",
   "execution_count": 47,
   "metadata": {},
   "outputs": [],
   "source": [
    "lab_enc = preprocessing.LabelEncoder()\n",
    "y_train_encoded = lab_enc.fit_transform(y_train)\n",
    "y_encoded = lab_enc.fit_transform(y)\n",
    "y_test_encoded = lab_enc.fit_transform(y_test)"
   ]
  },
  {
   "cell_type": "markdown",
   "metadata": {},
   "source": [
    "###  Logistic Regerssion"
   ]
  },
  {
   "cell_type": "code",
   "execution_count": 48,
   "metadata": {},
   "outputs": [
    {
     "name": "stdout",
     "output_type": "stream",
     "text": [
      "Logistic Regression: 15.24853911797317\n",
      "CPU times: user 16.5 s, sys: 113 ms, total: 16.6 s\n",
      "Wall time: 16.8 s\n"
     ]
    },
    {
     "name": "stderr",
     "output_type": "stream",
     "text": [
      "/Users/muna/opt/anaconda3/lib/python3.7/site-packages/sklearn/linear_model/sag.py:337: ConvergenceWarning: The max_iter was reached which means the coef_ did not converge\n",
      "  \"the coef_ did not converge\", ConvergenceWarning)\n"
     ]
    }
   ],
   "source": [
    "%%time\n",
    "#max_iter default = 100\n",
    "my_logreg = LogisticRegression(max_iter=100,solver='sag',multi_class='auto')\n",
    "my_logreg.fit(X_train, y_train_encoded)\n",
    "y_prediction_log = my_logreg.predict(X_test)\n",
    "mse_log = metrics.mean_squared_error(y_test, y_prediction_log)\n",
    "rmse_log = np.sqrt(mse_log)\n",
    "print(f'Logistic Regression: {rmse_log}')"
   ]
  },
  {
   "cell_type": "markdown",
   "metadata": {},
   "source": [
    "### Random Forest Regression"
   ]
  },
  {
   "cell_type": "code",
   "execution_count": 49,
   "metadata": {},
   "outputs": [
    {
     "name": "stdout",
     "output_type": "stream",
     "text": [
      "Random Forest Regressor: 4.7857811958689895\n",
      "CPU times: user 747 ms, sys: 9.55 ms, total: 757 ms\n",
      "Wall time: 666 ms\n"
     ]
    }
   ],
   "source": [
    "%%time\n",
    "\n",
    "my_rfr = RandomForestRegressor(n_estimators = 10, bootstrap=True, random_state=3)\n",
    "my_rfr.fit(X_train, y_train)\n",
    "y_prediction_rfr = my_rfr.predict(X_test)\n",
    "mse_rfr = metrics.mean_squared_error(y_test, y_prediction_rfr)\n",
    "rmse_rfr = np.sqrt(mse_rfr)\n",
    "print(f'Random Forest Regressor: {rmse_rfr}')"
   ]
  },
  {
   "cell_type": "markdown",
   "metadata": {},
   "source": [
    "### Cross Validation"
   ]
  },
  {
   "cell_type": "markdown",
   "metadata": {},
   "source": [
    "Linear Regression Cross Validation"
   ]
  },
  {
   "cell_type": "code",
   "execution_count": 50,
   "metadata": {},
   "outputs": [
    {
     "name": "stdout",
     "output_type": "stream",
     "text": [
      "Linear Regression: 21.982036832905116\n",
      "CPU times: user 147 ms, sys: 6.16 ms, total: 153 ms\n",
      "Wall time: 86.2 ms\n"
     ]
    }
   ],
   "source": [
    "%%time\n",
    "score_list_lr = cross_val_score(my_linreg, X, y, cv=10)\n",
    "score_lr = abs(score_list_lr).mean()\n",
    "print(f'Linear Regression: {score_lr}')"
   ]
  },
  {
   "cell_type": "markdown",
   "metadata": {},
   "source": [
    "Logistic Regression Corss Validation"
   ]
  },
  {
   "cell_type": "code",
   "execution_count": 51,
   "metadata": {},
   "outputs": [
    {
     "name": "stderr",
     "output_type": "stream",
     "text": [
      "/Users/muna/opt/anaconda3/lib/python3.7/site-packages/sklearn/model_selection/_split.py:657: Warning: The least populated class in y has only 1 members, which is too few. The minimum number of members in any class cannot be less than n_splits=10.\n",
      "  % (min_groups, self.n_splits)), Warning)\n",
      "/Users/muna/opt/anaconda3/lib/python3.7/site-packages/sklearn/linear_model/sag.py:337: ConvergenceWarning: The max_iter was reached which means the coef_ did not converge\n",
      "  \"the coef_ did not converge\", ConvergenceWarning)\n",
      "/Users/muna/opt/anaconda3/lib/python3.7/site-packages/sklearn/linear_model/sag.py:337: ConvergenceWarning: The max_iter was reached which means the coef_ did not converge\n",
      "  \"the coef_ did not converge\", ConvergenceWarning)\n",
      "/Users/muna/opt/anaconda3/lib/python3.7/site-packages/sklearn/linear_model/sag.py:337: ConvergenceWarning: The max_iter was reached which means the coef_ did not converge\n",
      "  \"the coef_ did not converge\", ConvergenceWarning)\n",
      "/Users/muna/opt/anaconda3/lib/python3.7/site-packages/sklearn/linear_model/sag.py:337: ConvergenceWarning: The max_iter was reached which means the coef_ did not converge\n",
      "  \"the coef_ did not converge\", ConvergenceWarning)\n",
      "/Users/muna/opt/anaconda3/lib/python3.7/site-packages/sklearn/linear_model/sag.py:337: ConvergenceWarning: The max_iter was reached which means the coef_ did not converge\n",
      "  \"the coef_ did not converge\", ConvergenceWarning)\n",
      "/Users/muna/opt/anaconda3/lib/python3.7/site-packages/sklearn/linear_model/sag.py:337: ConvergenceWarning: The max_iter was reached which means the coef_ did not converge\n",
      "  \"the coef_ did not converge\", ConvergenceWarning)\n",
      "/Users/muna/opt/anaconda3/lib/python3.7/site-packages/sklearn/linear_model/sag.py:337: ConvergenceWarning: The max_iter was reached which means the coef_ did not converge\n",
      "  \"the coef_ did not converge\", ConvergenceWarning)\n",
      "/Users/muna/opt/anaconda3/lib/python3.7/site-packages/sklearn/linear_model/sag.py:337: ConvergenceWarning: The max_iter was reached which means the coef_ did not converge\n",
      "  \"the coef_ did not converge\", ConvergenceWarning)\n",
      "/Users/muna/opt/anaconda3/lib/python3.7/site-packages/sklearn/linear_model/sag.py:337: ConvergenceWarning: The max_iter was reached which means the coef_ did not converge\n",
      "  \"the coef_ did not converge\", ConvergenceWarning)\n"
     ]
    },
    {
     "name": "stdout",
     "output_type": "stream",
     "text": [
      "Logistic Regression: 0.04735605953038372\n",
      "CPU times: user 4min 16s, sys: 706 ms, total: 4min 16s\n",
      "Wall time: 4min 20s\n"
     ]
    },
    {
     "name": "stderr",
     "output_type": "stream",
     "text": [
      "/Users/muna/opt/anaconda3/lib/python3.7/site-packages/sklearn/linear_model/sag.py:337: ConvergenceWarning: The max_iter was reached which means the coef_ did not converge\n",
      "  \"the coef_ did not converge\", ConvergenceWarning)\n"
     ]
    }
   ],
   "source": [
    "%%time\n",
    "score_list = cross_val_score(my_logreg, X, y_encoded, cv=10)\n",
    "score_log = score_list.mean()\n",
    "print(f'Logistic Regression: {score_log}')"
   ]
  },
  {
   "cell_type": "markdown",
   "metadata": {},
   "source": [
    "Random Forest Regeression Cross Validation"
   ]
  },
  {
   "cell_type": "code",
   "execution_count": 52,
   "metadata": {},
   "outputs": [
    {
     "name": "stdout",
     "output_type": "stream",
     "text": [
      "Logistic Regression: 0.799929822405895\n",
      "CPU times: user 9.15 s, sys: 109 ms, total: 9.26 s\n",
      "Wall time: 9.69 s\n"
     ]
    }
   ],
   "source": [
    "%%time\n",
    "score_list = cross_val_score(my_rfr, X, y, cv=10)\n",
    "score_rfr = score_list.mean()\n",
    "print(f'Logistic Regression: {score_rfr}')"
   ]
  },
  {
   "cell_type": "markdown",
   "metadata": {},
   "source": [
    "# RSME Visualization"
   ]
  },
  {
   "cell_type": "code",
   "execution_count": 53,
   "metadata": {},
   "outputs": [
    {
     "data": {
      "text/plain": [
       "Text(0.5, 1.0, 'RMSE Values')"
      ]
     },
     "execution_count": 53,
     "metadata": {},
     "output_type": "execute_result"
    },
    {
     "data": {
      "image/png": "[encoded data removed]",
      "text/plain": [
       "<Figure size 432x288 with 1 Axes>"
      ]
     },
     "metadata": {
      "needs_background": "light"
     },
     "output_type": "display_data"
    }
   ],
   "source": [
    "fig, ax = plt.subplots()\n",
    "y_axis = ('Linear Regression','Logistic Regression','Random Forest Regressor')\n",
    "y_pos = np.arange(len(y_axis))\n",
    "width = 0.75 \n",
    "x_axis = (round(rmse_lr,4),round(rmse_log,4),round(rmse_rfr,4))\n",
    "ax.barh(y_pos, x_axis, width,align='center')\n",
    "for i, v in enumerate(x_axis):\n",
    "    ax.text(v, i, '$'+str(v), color='blue', fontweight='bold')\n",
    "ax.set_yticks(y_pos)\n",
    "ax.set_yticklabels(y_axis)\n",
    "ax.set_xlabel('RMSE')\n",
    "ax.set_title('RMSE Values')"
   ]
  },
  {
   "cell_type": "markdown",
   "metadata": {},
   "source": [
    "# Cross Validation Visualization"
   ]
  },
  {
   "cell_type": "code",
   "execution_count": 54,
   "metadata": {},
   "outputs": [
    {
     "data": {
      "text/plain": [
       "Text(0.5, 1.0, 'Cross Validation Values')"
      ]
     },
     "execution_count": 54,
     "metadata": {},
     "output_type": "execute_result"
    },
    {
     "data": {
      "image/png": "[encoded data removed]",
      "text/plain": [
       "<Figure size 432x288 with 1 Axes>"
      ]
     },
     "metadata": {
      "needs_background": "light"
     },
     "output_type": "display_data"
    }
   ],
   "source": [
    "fig, ax = plt.subplots()\n",
    "y_axis = ('Linear Regression','Logistic Regression','Random Forest Regressor')\n",
    "y_pos = np.arange(len(y_axis)) \n",
    "x_axis = (round(score_lr,4),round(score_log,4),round(score_rfr,4))\n",
    "ax.barh(y_pos, x_axis, width,align='center')\n",
    "for i, v in enumerate(x_axis):\n",
    "    ax.text(v, i, str(v), color='blue', fontweight='bold')\n",
    "ax.set_yticks(y_pos)\n",
    "ax.set_yticklabels(y_axis)\n",
    "ax.set_xlabel('Score')\n",
    "ax.set_title('Cross Validation Values')"
   ]
  }
 ],
 "metadata": {
  "kernelspec": {
   "display_name": "Python 3",
   "language": "python",
   "name": "python3"
  },
  "language_info": {
   "codemirror_mode": {
    "name": "ipython",
    "version": 3
   },
   "file_extension": ".py",
   "mimetype": "text/x-python",
   "name": "python",
   "nbconvert_exporter": "python",
   "pygments_lexer": "ipython3",
   "version": "3.7.4"
  }
 },
 "nbformat": 4,
 "nbformat_minor": 2
}
