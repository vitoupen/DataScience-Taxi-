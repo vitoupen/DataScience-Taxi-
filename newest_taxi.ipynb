{
 "cells": [
  {
   "cell_type": "code",
   "execution_count": 95,
   "metadata": {
    "scrolled": true
   },
   "outputs": [],
   "source": [
    "import pandas as pd \n",
    "import numpy as np\n",
    "#tdqm = progress bar\n",
    "from tqdm import tqdm\n",
    "from datetime import datetime\n",
    "from sklearn import metrics\n",
    "from sklearn.model_selection import cross_val_score\n",
    "from sklearn.metrics import accuracy_score\n",
    "from sklearn.neighbors import KNeighborsClassifier\n",
    "from sklearn.linear_model import LogisticRegression\n",
    "from sklearn.linear_model import LinearRegression\n",
    "from sklearn.tree import DecisionTreeClassifier\n",
    "from sklearn import preprocessing\n",
    "from sklearn import utils\n",
    "from sklearn.ensemble import RandomForestClassifier\n",
    "import matplotlib.pyplot as plt"
   ]
  },
  {
   "cell_type": "code",
   "execution_count": 96,
   "metadata": {},
   "outputs": [
    {
     "name": "stderr",
     "output_type": "stream",
     "text": [
      "1it [00:00, 83.33it/s]\n"
     ]
    }
   ],
   "source": [
    "# Number of rows\n",
    "nrows = 10000\n",
    "# Chunksize = 10000 \n",
    "chunksize = 10000\n",
    "# Vitou's path\n",
    "path = 'C:/Users/Vitou/Downloads/train.csv'\n",
    "# Muna's path\n",
    "#path = '/Users/muna/Development/DataScience/new-york-city-taxi-fare-prediction/train.csv'\n",
    "# Columns to read from the data\n",
    "# Todo :split date into meaningful data\n",
    "# cols = ['pickup_longitude','pickup_latitude','dropoff_longitude','dropoff_latitude','passenger_count','fare_amount']\n",
    "cols = ['pickup_datetime','pickup_longitude','pickup_latitude','dropoff_longitude','dropoff_latitude','passenger_count','fare_amount']\n",
    "\n",
    "#list to hold the batch dataframe\n",
    "df_list = []\n",
    "\n",
    "for df_chunk in tqdm(pd.read_csv(path,usecols=cols, chunksize=chunksize,nrows=nrows)):\n",
    "    df_list.append(df_chunk)\n",
    "    \n",
    "# Merge all dataframes into one dataframe\n",
    "data = pd.DataFrame()\n",
    "data = pd.concat(df_list)\n",
    "# # Delete the dataframe list to release memory\n",
    "del df_list, df_chunk"
   ]
  },
  {
   "cell_type": "markdown",
   "metadata": {},
   "source": [
    "### Given a dataframe, add two new features 'abs_diff_longitude' and 'abs_diff_latitude' reprensenting the \"Manhattan vector\" from the pickup location to the dropoff location."
   ]
  },
  {
   "cell_type": "code",
   "execution_count": 97,
   "metadata": {},
   "outputs": [],
   "source": [
    "def add_travel_vector_features(df):\n",
    "    df['abs_diff_longitude'] = (df.dropoff_longitude - df.pickup_longitude).abs()\n",
    "    df['abs_diff_latitude'] = (df.dropoff_latitude - df.pickup_latitude).abs()"
   ]
  },
  {
   "cell_type": "code",
   "execution_count": 98,
   "metadata": {
    "scrolled": true
   },
   "outputs": [
    {
     "name": "stdout",
     "output_type": "stream",
     "text": [
      "      fare_amount          pickup_datetime  pickup_longitude  pickup_latitude  \\\n",
      "0             4.5  2009-06-15 17:26:21 UTC        -73.844311        40.721319   \n",
      "10            5.3  2012-04-08 07:30:50 UTC        -73.996335        40.737142   \n",
      "20           10.5  2010-09-07 13:18:00 UTC        -73.985382        40.747858   \n",
      "30            5.5  2014-02-19 16:03:00 UTC        -73.976075        40.752422   \n",
      "40            8.1  2011-03-29 15:39:49 UTC        -73.984267        40.744961   \n",
      "...           ...                      ...               ...              ...   \n",
      "9950         12.5  2013-03-30 19:01:43 UTC        -73.968147        40.800429   \n",
      "9960         12.5  2011-08-13 23:52:18 UTC        -73.940035        40.840880   \n",
      "9970          6.9  2009-12-29 16:29:00 UTC        -73.984122        40.759905   \n",
      "9980          5.5  2012-11-09 17:47:00 UTC        -74.005310        40.751275   \n",
      "9990         20.5  2013-04-29 17:01:00 UTC        -73.946900        40.784247   \n",
      "\n",
      "      dropoff_longitude  dropoff_latitude  passenger_count  \\\n",
      "0            -73.841610         40.712278                1   \n",
      "10           -73.980721         40.733559                1   \n",
      "20           -73.978377         40.762070                1   \n",
      "30           -73.981082         40.759285                1   \n",
      "40           -73.981646         40.759608                1   \n",
      "...                 ...               ...              ...   \n",
      "9950         -73.947441         40.834479                1   \n",
      "9960         -73.948934         40.796653                1   \n",
      "9970         -73.978205         40.760717                1   \n",
      "9980         -74.003412         40.743545                2   \n",
      "9990         -73.994392         40.746328                2   \n",
      "\n",
      "      abs_diff_longitude  abs_diff_latitude  \n",
      "0               0.002701           0.009041  \n",
      "10              0.015614           0.003583  \n",
      "20              0.007005           0.014212  \n",
      "30              0.005007           0.006863  \n",
      "40              0.002621           0.014647  \n",
      "...                  ...                ...  \n",
      "9950            0.020706           0.034050  \n",
      "9960            0.008899           0.044227  \n",
      "9970            0.005917           0.000812  \n",
      "9980            0.001898           0.007730  \n",
      "9990            0.047492           0.037919  \n",
      "\n",
      "[1000 rows x 9 columns]\n",
      "Wall time: 9 ms\n"
     ]
    }
   ],
   "source": [
    "%%time\n",
    "add_travel_vector_features(data)\n",
    "print(data[::10])"
   ]
  },
  {
   "cell_type": "markdown",
   "metadata": {},
   "source": [
    "### Let's take a look at the data"
   ]
  },
  {
   "cell_type": "code",
   "execution_count": 99,
   "metadata": {
    "scrolled": true
   },
   "outputs": [
    {
     "name": "stdout",
     "output_type": "stream",
     "text": [
      "Wall time: 47 ms\n"
     ]
    },
    {
     "data": {
      "text/html": [
       "<div>\n",
       "<style scoped>\n",
       "    .dataframe tbody tr th:only-of-type {\n",
       "        vertical-align: middle;\n",
       "    }\n",
       "\n",
       "    .dataframe tbody tr th {\n",
       "        vertical-align: top;\n",
       "    }\n",
       "\n",
       "    .dataframe thead th {\n",
       "        text-align: right;\n",
       "    }\n",
       "</style>\n",
       "<table border=\"1\" class=\"dataframe\">\n",
       "  <thead>\n",
       "    <tr style=\"text-align: right;\">\n",
       "      <th></th>\n",
       "      <th>fare_amount</th>\n",
       "      <th>pickup_datetime</th>\n",
       "      <th>pickup_longitude</th>\n",
       "      <th>pickup_latitude</th>\n",
       "      <th>dropoff_longitude</th>\n",
       "      <th>dropoff_latitude</th>\n",
       "      <th>passenger_count</th>\n",
       "      <th>abs_diff_longitude</th>\n",
       "      <th>abs_diff_latitude</th>\n",
       "    </tr>\n",
       "  </thead>\n",
       "  <tbody>\n",
       "    <tr>\n",
       "      <td>count</td>\n",
       "      <td>10000.000000</td>\n",
       "      <td>10000</td>\n",
       "      <td>10000.000000</td>\n",
       "      <td>10000.000000</td>\n",
       "      <td>10000.000000</td>\n",
       "      <td>10000.000000</td>\n",
       "      <td>10000.000000</td>\n",
       "      <td>10000.000000</td>\n",
       "      <td>10000.000000</td>\n",
       "    </tr>\n",
       "    <tr>\n",
       "      <td>unique</td>\n",
       "      <td>NaN</td>\n",
       "      <td>9985</td>\n",
       "      <td>NaN</td>\n",
       "      <td>NaN</td>\n",
       "      <td>NaN</td>\n",
       "      <td>NaN</td>\n",
       "      <td>NaN</td>\n",
       "      <td>NaN</td>\n",
       "      <td>NaN</td>\n",
       "    </tr>\n",
       "    <tr>\n",
       "      <td>top</td>\n",
       "      <td>NaN</td>\n",
       "      <td>2009-05-10 17:57:00 UTC</td>\n",
       "      <td>NaN</td>\n",
       "      <td>NaN</td>\n",
       "      <td>NaN</td>\n",
       "      <td>NaN</td>\n",
       "      <td>NaN</td>\n",
       "      <td>NaN</td>\n",
       "      <td>NaN</td>\n",
       "    </tr>\n",
       "    <tr>\n",
       "      <td>freq</td>\n",
       "      <td>NaN</td>\n",
       "      <td>2</td>\n",
       "      <td>NaN</td>\n",
       "      <td>NaN</td>\n",
       "      <td>NaN</td>\n",
       "      <td>NaN</td>\n",
       "      <td>NaN</td>\n",
       "      <td>NaN</td>\n",
       "      <td>NaN</td>\n",
       "    </tr>\n",
       "    <tr>\n",
       "      <td>mean</td>\n",
       "      <td>11.235464</td>\n",
       "      <td>NaN</td>\n",
       "      <td>-72.466660</td>\n",
       "      <td>39.920448</td>\n",
       "      <td>-72.474094</td>\n",
       "      <td>39.893281</td>\n",
       "      <td>1.644700</td>\n",
       "      <td>0.103411</td>\n",
       "      <td>0.098102</td>\n",
       "    </tr>\n",
       "    <tr>\n",
       "      <td>std</td>\n",
       "      <td>9.584258</td>\n",
       "      <td>NaN</td>\n",
       "      <td>10.609729</td>\n",
       "      <td>7.318932</td>\n",
       "      <td>10.579732</td>\n",
       "      <td>6.339919</td>\n",
       "      <td>1.271229</td>\n",
       "      <td>2.429089</td>\n",
       "      <td>3.824894</td>\n",
       "    </tr>\n",
       "    <tr>\n",
       "      <td>min</td>\n",
       "      <td>-2.900000</td>\n",
       "      <td>NaN</td>\n",
       "      <td>-74.438233</td>\n",
       "      <td>-74.006893</td>\n",
       "      <td>-74.429332</td>\n",
       "      <td>-73.994392</td>\n",
       "      <td>0.000000</td>\n",
       "      <td>0.000000</td>\n",
       "      <td>0.000000</td>\n",
       "    </tr>\n",
       "    <tr>\n",
       "      <td>25%</td>\n",
       "      <td>6.000000</td>\n",
       "      <td>NaN</td>\n",
       "      <td>-73.992058</td>\n",
       "      <td>40.734547</td>\n",
       "      <td>-73.991112</td>\n",
       "      <td>40.735230</td>\n",
       "      <td>1.000000</td>\n",
       "      <td>0.005734</td>\n",
       "      <td>0.006715</td>\n",
       "    </tr>\n",
       "    <tr>\n",
       "      <td>50%</td>\n",
       "      <td>8.500000</td>\n",
       "      <td>NaN</td>\n",
       "      <td>-73.981758</td>\n",
       "      <td>40.752693</td>\n",
       "      <td>-73.980083</td>\n",
       "      <td>40.753738</td>\n",
       "      <td>1.000000</td>\n",
       "      <td>0.012453</td>\n",
       "      <td>0.013940</td>\n",
       "    </tr>\n",
       "    <tr>\n",
       "      <td>75%</td>\n",
       "      <td>12.500000</td>\n",
       "      <td>NaN</td>\n",
       "      <td>-73.966925</td>\n",
       "      <td>40.767694</td>\n",
       "      <td>-73.963504</td>\n",
       "      <td>40.768186</td>\n",
       "      <td>2.000000</td>\n",
       "      <td>0.024149</td>\n",
       "      <td>0.026681</td>\n",
       "    </tr>\n",
       "    <tr>\n",
       "      <td>max</td>\n",
       "      <td>180.000000</td>\n",
       "      <td>NaN</td>\n",
       "      <td>40.766125</td>\n",
       "      <td>401.083332</td>\n",
       "      <td>40.802437</td>\n",
       "      <td>41.366138</td>\n",
       "      <td>6.000000</td>\n",
       "      <td>74.010230</td>\n",
       "      <td>360.304405</td>\n",
       "    </tr>\n",
       "  </tbody>\n",
       "</table>\n",
       "</div>"
      ],
      "text/plain": [
       "         fare_amount          pickup_datetime  pickup_longitude  \\\n",
       "count   10000.000000                    10000      10000.000000   \n",
       "unique           NaN                     9985               NaN   \n",
       "top              NaN  2009-05-10 17:57:00 UTC               NaN   \n",
       "freq             NaN                        2               NaN   \n",
       "mean       11.235464                      NaN        -72.466660   \n",
       "std         9.584258                      NaN         10.609729   \n",
       "min        -2.900000                      NaN        -74.438233   \n",
       "25%         6.000000                      NaN        -73.992058   \n",
       "50%         8.500000                      NaN        -73.981758   \n",
       "75%        12.500000                      NaN        -73.966925   \n",
       "max       180.000000                      NaN         40.766125   \n",
       "\n",
       "        pickup_latitude  dropoff_longitude  dropoff_latitude  passenger_count  \\\n",
       "count      10000.000000       10000.000000      10000.000000     10000.000000   \n",
       "unique              NaN                NaN               NaN              NaN   \n",
       "top                 NaN                NaN               NaN              NaN   \n",
       "freq                NaN                NaN               NaN              NaN   \n",
       "mean          39.920448         -72.474094         39.893281         1.644700   \n",
       "std            7.318932          10.579732          6.339919         1.271229   \n",
       "min          -74.006893         -74.429332        -73.994392         0.000000   \n",
       "25%           40.734547         -73.991112         40.735230         1.000000   \n",
       "50%           40.752693         -73.980083         40.753738         1.000000   \n",
       "75%           40.767694         -73.963504         40.768186         2.000000   \n",
       "max          401.083332          40.802437         41.366138         6.000000   \n",
       "\n",
       "        abs_diff_longitude  abs_diff_latitude  \n",
       "count         10000.000000       10000.000000  \n",
       "unique                 NaN                NaN  \n",
       "top                    NaN                NaN  \n",
       "freq                   NaN                NaN  \n",
       "mean              0.103411           0.098102  \n",
       "std               2.429089           3.824894  \n",
       "min               0.000000           0.000000  \n",
       "25%               0.005734           0.006715  \n",
       "50%               0.012453           0.013940  \n",
       "75%               0.024149           0.026681  \n",
       "max              74.010230         360.304405  "
      ]
     },
     "execution_count": 99,
     "metadata": {},
     "output_type": "execute_result"
    }
   ],
   "source": [
    "%%time\n",
    "data.describe(include='all')"
   ]
  },
  {
   "cell_type": "markdown",
   "metadata": {},
   "source": [
    "###  Check for missing values\n"
   ]
  },
  {
   "cell_type": "code",
   "execution_count": 100,
   "metadata": {},
   "outputs": [
    {
     "name": "stdout",
     "output_type": "stream",
     "text": [
      "Wall time: 2 ms\n"
     ]
    },
    {
     "data": {
      "text/plain": [
       "fare_amount           0\n",
       "pickup_datetime       0\n",
       "pickup_longitude      0\n",
       "pickup_latitude       0\n",
       "dropoff_longitude     0\n",
       "dropoff_latitude      0\n",
       "passenger_count       0\n",
       "abs_diff_longitude    0\n",
       "abs_diff_latitude     0\n",
       "dtype: int64"
      ]
     },
     "execution_count": 100,
     "metadata": {},
     "output_type": "execute_result"
    }
   ],
   "source": [
    "%%time\n",
    "# Checking for missing values\n",
    "data.isnull().sum()"
   ]
  },
  {
   "cell_type": "markdown",
   "metadata": {},
   "source": [
    "### We drop all the rows with the missing values"
   ]
  },
  {
   "cell_type": "code",
   "execution_count": 101,
   "metadata": {
    "scrolled": true
   },
   "outputs": [
    {
     "name": "stdout",
     "output_type": "stream",
     "text": [
      "Wall time: 3 ms\n"
     ]
    }
   ],
   "source": [
    "%%time\n",
    "data = data.dropna(how = 'any', axis = 'rows')"
   ]
  },
  {
   "cell_type": "markdown",
   "metadata": {},
   "source": [
    "###  From the description above, some of the fare_amount have negative values. We are going to remove all negative fare_amounts"
   ]
  },
  {
   "cell_type": "code",
   "execution_count": 102,
   "metadata": {},
   "outputs": [
    {
     "name": "stdout",
     "output_type": "stream",
     "text": [
      "Wall time: 2 ms\n"
     ]
    }
   ],
   "source": [
    "%%time\n",
    "data = data[(data['fare_amount'] > 0)]\n"
   ]
  },
  {
   "cell_type": "code",
   "execution_count": 103,
   "metadata": {
    "scrolled": true
   },
   "outputs": [
    {
     "name": "stdout",
     "output_type": "stream",
     "text": [
      "Wall time: 21 ms\n"
     ]
    },
    {
     "data": {
      "text/html": [
       "<div>\n",
       "<style scoped>\n",
       "    .dataframe tbody tr th:only-of-type {\n",
       "        vertical-align: middle;\n",
       "    }\n",
       "\n",
       "    .dataframe tbody tr th {\n",
       "        vertical-align: top;\n",
       "    }\n",
       "\n",
       "    .dataframe thead th {\n",
       "        text-align: right;\n",
       "    }\n",
       "</style>\n",
       "<table border=\"1\" class=\"dataframe\">\n",
       "  <thead>\n",
       "    <tr style=\"text-align: right;\">\n",
       "      <th></th>\n",
       "      <th>fare_amount</th>\n",
       "      <th>pickup_longitude</th>\n",
       "      <th>pickup_latitude</th>\n",
       "      <th>dropoff_longitude</th>\n",
       "      <th>dropoff_latitude</th>\n",
       "      <th>passenger_count</th>\n",
       "      <th>abs_diff_longitude</th>\n",
       "      <th>abs_diff_latitude</th>\n",
       "    </tr>\n",
       "  </thead>\n",
       "  <tbody>\n",
       "    <tr>\n",
       "      <td>count</td>\n",
       "      <td>9998.000000</td>\n",
       "      <td>9998.000000</td>\n",
       "      <td>9998.000000</td>\n",
       "      <td>9998.000000</td>\n",
       "      <td>9998.000000</td>\n",
       "      <td>9998.000000</td>\n",
       "      <td>9998.000000</td>\n",
       "      <td>9998.000000</td>\n",
       "    </tr>\n",
       "    <tr>\n",
       "      <td>mean</td>\n",
       "      <td>11.238252</td>\n",
       "      <td>-72.466375</td>\n",
       "      <td>39.920296</td>\n",
       "      <td>-72.473810</td>\n",
       "      <td>39.893123</td>\n",
       "      <td>1.644829</td>\n",
       "      <td>0.103431</td>\n",
       "      <td>0.098122</td>\n",
       "    </tr>\n",
       "    <tr>\n",
       "      <td>std</td>\n",
       "      <td>9.583189</td>\n",
       "      <td>10.610771</td>\n",
       "      <td>7.319656</td>\n",
       "      <td>10.580772</td>\n",
       "      <td>6.340543</td>\n",
       "      <td>1.271324</td>\n",
       "      <td>2.429332</td>\n",
       "      <td>3.825276</td>\n",
       "    </tr>\n",
       "    <tr>\n",
       "      <td>min</td>\n",
       "      <td>0.010000</td>\n",
       "      <td>-74.438233</td>\n",
       "      <td>-74.006893</td>\n",
       "      <td>-74.429332</td>\n",
       "      <td>-73.994392</td>\n",
       "      <td>0.000000</td>\n",
       "      <td>0.000000</td>\n",
       "      <td>0.000000</td>\n",
       "    </tr>\n",
       "    <tr>\n",
       "      <td>25%</td>\n",
       "      <td>6.000000</td>\n",
       "      <td>-73.992056</td>\n",
       "      <td>40.734564</td>\n",
       "      <td>-73.991109</td>\n",
       "      <td>40.735235</td>\n",
       "      <td>1.000000</td>\n",
       "      <td>0.005734</td>\n",
       "      <td>0.006716</td>\n",
       "    </tr>\n",
       "    <tr>\n",
       "      <td>50%</td>\n",
       "      <td>8.500000</td>\n",
       "      <td>-73.981758</td>\n",
       "      <td>40.752695</td>\n",
       "      <td>-73.980083</td>\n",
       "      <td>40.753740</td>\n",
       "      <td>1.000000</td>\n",
       "      <td>0.012460</td>\n",
       "      <td>0.013944</td>\n",
       "    </tr>\n",
       "    <tr>\n",
       "      <td>75%</td>\n",
       "      <td>12.500000</td>\n",
       "      <td>-73.966934</td>\n",
       "      <td>40.767696</td>\n",
       "      <td>-73.963512</td>\n",
       "      <td>40.768187</td>\n",
       "      <td>2.000000</td>\n",
       "      <td>0.024151</td>\n",
       "      <td>0.026687</td>\n",
       "    </tr>\n",
       "    <tr>\n",
       "      <td>max</td>\n",
       "      <td>180.000000</td>\n",
       "      <td>40.766125</td>\n",
       "      <td>401.083332</td>\n",
       "      <td>40.802437</td>\n",
       "      <td>41.366138</td>\n",
       "      <td>6.000000</td>\n",
       "      <td>74.010230</td>\n",
       "      <td>360.304405</td>\n",
       "    </tr>\n",
       "  </tbody>\n",
       "</table>\n",
       "</div>"
      ],
      "text/plain": [
       "       fare_amount  pickup_longitude  pickup_latitude  dropoff_longitude  \\\n",
       "count  9998.000000       9998.000000      9998.000000        9998.000000   \n",
       "mean     11.238252        -72.466375        39.920296         -72.473810   \n",
       "std       9.583189         10.610771         7.319656          10.580772   \n",
       "min       0.010000        -74.438233       -74.006893         -74.429332   \n",
       "25%       6.000000        -73.992056        40.734564         -73.991109   \n",
       "50%       8.500000        -73.981758        40.752695         -73.980083   \n",
       "75%      12.500000        -73.966934        40.767696         -73.963512   \n",
       "max     180.000000         40.766125       401.083332          40.802437   \n",
       "\n",
       "       dropoff_latitude  passenger_count  abs_diff_longitude  \\\n",
       "count       9998.000000      9998.000000         9998.000000   \n",
       "mean          39.893123         1.644829            0.103431   \n",
       "std            6.340543         1.271324            2.429332   \n",
       "min          -73.994392         0.000000            0.000000   \n",
       "25%           40.735235         1.000000            0.005734   \n",
       "50%           40.753740         1.000000            0.012460   \n",
       "75%           40.768187         2.000000            0.024151   \n",
       "max           41.366138         6.000000           74.010230   \n",
       "\n",
       "       abs_diff_latitude  \n",
       "count        9998.000000  \n",
       "mean            0.098122  \n",
       "std             3.825276  \n",
       "min             0.000000  \n",
       "25%             0.006716  \n",
       "50%             0.013944  \n",
       "75%             0.026687  \n",
       "max           360.304405  "
      ]
     },
     "execution_count": 103,
     "metadata": {},
     "output_type": "execute_result"
    }
   ],
   "source": [
    "%%time\n",
    "data.describe()"
   ]
  },
  {
   "cell_type": "markdown",
   "metadata": {},
   "source": [
    "### In further observation, we have pickup_longitude, puckup_latitiude, dropoff_longitude and dropoff_latitude. We can calculate the distance"
   ]
  },
  {
   "cell_type": "code",
   "execution_count": 104,
   "metadata": {},
   "outputs": [],
   "source": [
    "# Function that calculates distance between pickup location and dropoff location\n",
    "def get_distance(lat1,lon1,lat2,lon2):\n",
    "    r = 6378 # earth's radius\n",
    "    lat1 = np.deg2rad(lat1)\n",
    "    lon1 = np.deg2rad(lon1)\n",
    "    lat2 = np.deg2rad(lat2)\n",
    "    lon2 = np.deg2rad(lon2)\n",
    "    \n",
    "    dlat = lat2 - lat1\n",
    "    dlon = lon2 - lon1\n",
    "    \n",
    "    a = np.sin(dlat/2)**2 + np.cos(lat1) * np.cos(lat2) * np.sin(dlon/2)**2\n",
    "    c = 2 * np.arctan2(np.sqrt(a), np.sqrt(1-a))\n",
    "    distance = r*c\n",
    "    \n",
    "    return distance"
   ]
  },
  {
   "cell_type": "code",
   "execution_count": 105,
   "metadata": {},
   "outputs": [
    {
     "name": "stdout",
     "output_type": "stream",
     "text": [
      "Wall time: 5 ms\n"
     ]
    }
   ],
   "source": [
    "%%time\n",
    "# Add new cloumn \"distance\" to the data\n",
    "data['distance'] = get_distance(data.pickup_latitude, data.pickup_longitude, \n",
    "                                      data.dropoff_latitude, data.dropoff_longitude)"
   ]
  },
  {
   "cell_type": "code",
   "execution_count": 106,
   "metadata": {
    "scrolled": false
   },
   "outputs": [
    {
     "data": {
      "text/html": [
       "<div>\n",
       "<style scoped>\n",
       "    .dataframe tbody tr th:only-of-type {\n",
       "        vertical-align: middle;\n",
       "    }\n",
       "\n",
       "    .dataframe tbody tr th {\n",
       "        vertical-align: top;\n",
       "    }\n",
       "\n",
       "    .dataframe thead th {\n",
       "        text-align: right;\n",
       "    }\n",
       "</style>\n",
       "<table border=\"1\" class=\"dataframe\">\n",
       "  <thead>\n",
       "    <tr style=\"text-align: right;\">\n",
       "      <th></th>\n",
       "      <th>fare_amount</th>\n",
       "      <th>pickup_datetime</th>\n",
       "      <th>pickup_longitude</th>\n",
       "      <th>pickup_latitude</th>\n",
       "      <th>dropoff_longitude</th>\n",
       "      <th>dropoff_latitude</th>\n",
       "      <th>passenger_count</th>\n",
       "      <th>abs_diff_longitude</th>\n",
       "      <th>abs_diff_latitude</th>\n",
       "      <th>distance</th>\n",
       "    </tr>\n",
       "  </thead>\n",
       "  <tbody>\n",
       "    <tr>\n",
       "      <td>count</td>\n",
       "      <td>9998.000000</td>\n",
       "      <td>9998</td>\n",
       "      <td>9998.000000</td>\n",
       "      <td>9998.000000</td>\n",
       "      <td>9998.000000</td>\n",
       "      <td>9998.000000</td>\n",
       "      <td>9998.000000</td>\n",
       "      <td>9998.000000</td>\n",
       "      <td>9998.000000</td>\n",
       "      <td>9998.000000</td>\n",
       "    </tr>\n",
       "    <tr>\n",
       "      <td>unique</td>\n",
       "      <td>NaN</td>\n",
       "      <td>9983</td>\n",
       "      <td>NaN</td>\n",
       "      <td>NaN</td>\n",
       "      <td>NaN</td>\n",
       "      <td>NaN</td>\n",
       "      <td>NaN</td>\n",
       "      <td>NaN</td>\n",
       "      <td>NaN</td>\n",
       "      <td>NaN</td>\n",
       "    </tr>\n",
       "    <tr>\n",
       "      <td>top</td>\n",
       "      <td>NaN</td>\n",
       "      <td>2009-05-10 17:57:00 UTC</td>\n",
       "      <td>NaN</td>\n",
       "      <td>NaN</td>\n",
       "      <td>NaN</td>\n",
       "      <td>NaN</td>\n",
       "      <td>NaN</td>\n",
       "      <td>NaN</td>\n",
       "      <td>NaN</td>\n",
       "      <td>NaN</td>\n",
       "    </tr>\n",
       "    <tr>\n",
       "      <td>freq</td>\n",
       "      <td>NaN</td>\n",
       "      <td>2</td>\n",
       "      <td>NaN</td>\n",
       "      <td>NaN</td>\n",
       "      <td>NaN</td>\n",
       "      <td>NaN</td>\n",
       "      <td>NaN</td>\n",
       "      <td>NaN</td>\n",
       "      <td>NaN</td>\n",
       "      <td>NaN</td>\n",
       "    </tr>\n",
       "    <tr>\n",
       "      <td>mean</td>\n",
       "      <td>11.238252</td>\n",
       "      <td>NaN</td>\n",
       "      <td>-72.466375</td>\n",
       "      <td>39.920296</td>\n",
       "      <td>-72.473810</td>\n",
       "      <td>39.893123</td>\n",
       "      <td>1.644829</td>\n",
       "      <td>0.103431</td>\n",
       "      <td>0.098122</td>\n",
       "      <td>12.730622</td>\n",
       "    </tr>\n",
       "    <tr>\n",
       "      <td>std</td>\n",
       "      <td>9.583189</td>\n",
       "      <td>NaN</td>\n",
       "      <td>10.610771</td>\n",
       "      <td>7.319656</td>\n",
       "      <td>10.580772</td>\n",
       "      <td>6.340543</td>\n",
       "      <td>1.271324</td>\n",
       "      <td>2.429332</td>\n",
       "      <td>3.825276</td>\n",
       "      <td>276.037164</td>\n",
       "    </tr>\n",
       "    <tr>\n",
       "      <td>min</td>\n",
       "      <td>0.010000</td>\n",
       "      <td>NaN</td>\n",
       "      <td>-74.438233</td>\n",
       "      <td>-74.006893</td>\n",
       "      <td>-74.429332</td>\n",
       "      <td>-73.994392</td>\n",
       "      <td>0.000000</td>\n",
       "      <td>0.000000</td>\n",
       "      <td>0.000000</td>\n",
       "      <td>0.000000</td>\n",
       "    </tr>\n",
       "    <tr>\n",
       "      <td>25%</td>\n",
       "      <td>6.000000</td>\n",
       "      <td>NaN</td>\n",
       "      <td>-73.992056</td>\n",
       "      <td>40.734564</td>\n",
       "      <td>-73.991109</td>\n",
       "      <td>40.735235</td>\n",
       "      <td>1.000000</td>\n",
       "      <td>0.005734</td>\n",
       "      <td>0.006716</td>\n",
       "      <td>1.207945</td>\n",
       "    </tr>\n",
       "    <tr>\n",
       "      <td>50%</td>\n",
       "      <td>8.500000</td>\n",
       "      <td>NaN</td>\n",
       "      <td>-73.981758</td>\n",
       "      <td>40.752695</td>\n",
       "      <td>-73.980083</td>\n",
       "      <td>40.753740</td>\n",
       "      <td>1.000000</td>\n",
       "      <td>0.012460</td>\n",
       "      <td>0.013944</td>\n",
       "      <td>2.122888</td>\n",
       "    </tr>\n",
       "    <tr>\n",
       "      <td>75%</td>\n",
       "      <td>12.500000</td>\n",
       "      <td>NaN</td>\n",
       "      <td>-73.966934</td>\n",
       "      <td>40.767696</td>\n",
       "      <td>-73.963512</td>\n",
       "      <td>40.768187</td>\n",
       "      <td>2.000000</td>\n",
       "      <td>0.024151</td>\n",
       "      <td>0.026687</td>\n",
       "      <td>3.879478</td>\n",
       "    </tr>\n",
       "    <tr>\n",
       "      <td>max</td>\n",
       "      <td>180.000000</td>\n",
       "      <td>NaN</td>\n",
       "      <td>40.766125</td>\n",
       "      <td>401.083332</td>\n",
       "      <td>40.802437</td>\n",
       "      <td>41.366138</td>\n",
       "      <td>6.000000</td>\n",
       "      <td>74.010230</td>\n",
       "      <td>360.304405</td>\n",
       "      <td>8677.065380</td>\n",
       "    </tr>\n",
       "  </tbody>\n",
       "</table>\n",
       "</div>"
      ],
      "text/plain": [
       "        fare_amount          pickup_datetime  pickup_longitude  \\\n",
       "count   9998.000000                     9998       9998.000000   \n",
       "unique          NaN                     9983               NaN   \n",
       "top             NaN  2009-05-10 17:57:00 UTC               NaN   \n",
       "freq            NaN                        2               NaN   \n",
       "mean      11.238252                      NaN        -72.466375   \n",
       "std        9.583189                      NaN         10.610771   \n",
       "min        0.010000                      NaN        -74.438233   \n",
       "25%        6.000000                      NaN        -73.992056   \n",
       "50%        8.500000                      NaN        -73.981758   \n",
       "75%       12.500000                      NaN        -73.966934   \n",
       "max      180.000000                      NaN         40.766125   \n",
       "\n",
       "        pickup_latitude  dropoff_longitude  dropoff_latitude  passenger_count  \\\n",
       "count       9998.000000        9998.000000       9998.000000      9998.000000   \n",
       "unique              NaN                NaN               NaN              NaN   \n",
       "top                 NaN                NaN               NaN              NaN   \n",
       "freq                NaN                NaN               NaN              NaN   \n",
       "mean          39.920296         -72.473810         39.893123         1.644829   \n",
       "std            7.319656          10.580772          6.340543         1.271324   \n",
       "min          -74.006893         -74.429332        -73.994392         0.000000   \n",
       "25%           40.734564         -73.991109         40.735235         1.000000   \n",
       "50%           40.752695         -73.980083         40.753740         1.000000   \n",
       "75%           40.767696         -73.963512         40.768187         2.000000   \n",
       "max          401.083332          40.802437         41.366138         6.000000   \n",
       "\n",
       "        abs_diff_longitude  abs_diff_latitude     distance  \n",
       "count          9998.000000        9998.000000  9998.000000  \n",
       "unique                 NaN                NaN          NaN  \n",
       "top                    NaN                NaN          NaN  \n",
       "freq                   NaN                NaN          NaN  \n",
       "mean              0.103431           0.098122    12.730622  \n",
       "std               2.429332           3.825276   276.037164  \n",
       "min               0.000000           0.000000     0.000000  \n",
       "25%               0.005734           0.006716     1.207945  \n",
       "50%               0.012460           0.013944     2.122888  \n",
       "75%               0.024151           0.026687     3.879478  \n",
       "max              74.010230         360.304405  8677.065380  "
      ]
     },
     "execution_count": 106,
     "metadata": {},
     "output_type": "execute_result"
    }
   ],
   "source": [
    "data.describe(include='all')"
   ]
  },
  {
   "cell_type": "markdown",
   "metadata": {},
   "source": [
    "### We split up the pickup datetime into more meaningful features"
   ]
  },
  {
   "cell_type": "code",
   "execution_count": 107,
   "metadata": {},
   "outputs": [],
   "source": [
    "def split_datetime(df):\n",
    "        df['pickup_datetime'] = pd.to_datetime(df['pickup_datetime'], format=\"%Y-%m-%d %H:%M:%S UTC\")\n",
    "        df['year'] = df['pickup_datetime'].dt.year\n",
    "        df['month'] = df['pickup_datetime'].dt.month\n",
    "        df['day'] = df['pickup_datetime'].dt.day\n",
    "        df['hour'] = df['pickup_datetime'].dt.hour\n",
    "        df['dayOfWeek'] = df['pickup_datetime'].dt.dayofweek\n",
    "        df = df.drop(columns=\"pickup_datetime\")\n",
    "        return df"
   ]
  },
  {
   "cell_type": "code",
   "execution_count": 108,
   "metadata": {
    "scrolled": true
   },
   "outputs": [
    {
     "data": {
      "text/html": [
       "<div>\n",
       "<style scoped>\n",
       "    .dataframe tbody tr th:only-of-type {\n",
       "        vertical-align: middle;\n",
       "    }\n",
       "\n",
       "    .dataframe tbody tr th {\n",
       "        vertical-align: top;\n",
       "    }\n",
       "\n",
       "    .dataframe thead th {\n",
       "        text-align: right;\n",
       "    }\n",
       "</style>\n",
       "<table border=\"1\" class=\"dataframe\">\n",
       "  <thead>\n",
       "    <tr style=\"text-align: right;\">\n",
       "      <th></th>\n",
       "      <th>fare_amount</th>\n",
       "      <th>pickup_longitude</th>\n",
       "      <th>pickup_latitude</th>\n",
       "      <th>dropoff_longitude</th>\n",
       "      <th>dropoff_latitude</th>\n",
       "      <th>passenger_count</th>\n",
       "      <th>abs_diff_longitude</th>\n",
       "      <th>abs_diff_latitude</th>\n",
       "      <th>distance</th>\n",
       "      <th>year</th>\n",
       "      <th>month</th>\n",
       "      <th>day</th>\n",
       "      <th>hour</th>\n",
       "      <th>dayOfWeek</th>\n",
       "    </tr>\n",
       "  </thead>\n",
       "  <tbody>\n",
       "    <tr>\n",
       "      <td>0</td>\n",
       "      <td>4.5</td>\n",
       "      <td>-73.844311</td>\n",
       "      <td>40.721319</td>\n",
       "      <td>-73.841610</td>\n",
       "      <td>40.712278</td>\n",
       "      <td>1</td>\n",
       "      <td>0.002701</td>\n",
       "      <td>0.009041</td>\n",
       "      <td>1.031896</td>\n",
       "      <td>2009</td>\n",
       "      <td>6</td>\n",
       "      <td>15</td>\n",
       "      <td>17</td>\n",
       "      <td>0</td>\n",
       "    </tr>\n",
       "    <tr>\n",
       "      <td>1</td>\n",
       "      <td>16.9</td>\n",
       "      <td>-74.016048</td>\n",
       "      <td>40.711303</td>\n",
       "      <td>-73.979268</td>\n",
       "      <td>40.782004</td>\n",
       "      <td>1</td>\n",
       "      <td>0.036780</td>\n",
       "      <td>0.070701</td>\n",
       "      <td>8.459418</td>\n",
       "      <td>2010</td>\n",
       "      <td>1</td>\n",
       "      <td>5</td>\n",
       "      <td>16</td>\n",
       "      <td>1</td>\n",
       "    </tr>\n",
       "    <tr>\n",
       "      <td>2</td>\n",
       "      <td>5.7</td>\n",
       "      <td>-73.982738</td>\n",
       "      <td>40.761270</td>\n",
       "      <td>-73.991242</td>\n",
       "      <td>40.750562</td>\n",
       "      <td>2</td>\n",
       "      <td>0.008504</td>\n",
       "      <td>0.010708</td>\n",
       "      <td>1.391052</td>\n",
       "      <td>2011</td>\n",
       "      <td>8</td>\n",
       "      <td>18</td>\n",
       "      <td>0</td>\n",
       "      <td>3</td>\n",
       "    </tr>\n",
       "    <tr>\n",
       "      <td>3</td>\n",
       "      <td>7.7</td>\n",
       "      <td>-73.987130</td>\n",
       "      <td>40.733143</td>\n",
       "      <td>-73.991567</td>\n",
       "      <td>40.758092</td>\n",
       "      <td>1</td>\n",
       "      <td>0.004437</td>\n",
       "      <td>0.024949</td>\n",
       "      <td>2.802346</td>\n",
       "      <td>2012</td>\n",
       "      <td>4</td>\n",
       "      <td>21</td>\n",
       "      <td>4</td>\n",
       "      <td>5</td>\n",
       "    </tr>\n",
       "    <tr>\n",
       "      <td>4</td>\n",
       "      <td>5.3</td>\n",
       "      <td>-73.968095</td>\n",
       "      <td>40.768008</td>\n",
       "      <td>-73.956655</td>\n",
       "      <td>40.783762</td>\n",
       "      <td>1</td>\n",
       "      <td>0.011440</td>\n",
       "      <td>0.015754</td>\n",
       "      <td>2.001353</td>\n",
       "      <td>2010</td>\n",
       "      <td>3</td>\n",
       "      <td>9</td>\n",
       "      <td>7</td>\n",
       "      <td>1</td>\n",
       "    </tr>\n",
       "    <tr>\n",
       "      <td>...</td>\n",
       "      <td>...</td>\n",
       "      <td>...</td>\n",
       "      <td>...</td>\n",
       "      <td>...</td>\n",
       "      <td>...</td>\n",
       "      <td>...</td>\n",
       "      <td>...</td>\n",
       "      <td>...</td>\n",
       "      <td>...</td>\n",
       "      <td>...</td>\n",
       "      <td>...</td>\n",
       "      <td>...</td>\n",
       "      <td>...</td>\n",
       "      <td>...</td>\n",
       "    </tr>\n",
       "    <tr>\n",
       "      <td>9995</td>\n",
       "      <td>11.7</td>\n",
       "      <td>-73.988277</td>\n",
       "      <td>40.748970</td>\n",
       "      <td>-73.963712</td>\n",
       "      <td>40.773958</td>\n",
       "      <td>2</td>\n",
       "      <td>0.024565</td>\n",
       "      <td>0.024988</td>\n",
       "      <td>3.468019</td>\n",
       "      <td>2011</td>\n",
       "      <td>10</td>\n",
       "      <td>26</td>\n",
       "      <td>10</td>\n",
       "      <td>2</td>\n",
       "    </tr>\n",
       "    <tr>\n",
       "      <td>9996</td>\n",
       "      <td>5.7</td>\n",
       "      <td>-74.002112</td>\n",
       "      <td>40.748727</td>\n",
       "      <td>-73.992467</td>\n",
       "      <td>40.756252</td>\n",
       "      <td>1</td>\n",
       "      <td>0.009645</td>\n",
       "      <td>0.007525</td>\n",
       "      <td>1.167555</td>\n",
       "      <td>2011</td>\n",
       "      <td>12</td>\n",
       "      <td>16</td>\n",
       "      <td>15</td>\n",
       "      <td>4</td>\n",
       "    </tr>\n",
       "    <tr>\n",
       "      <td>9997</td>\n",
       "      <td>12.0</td>\n",
       "      <td>-73.992093</td>\n",
       "      <td>40.729071</td>\n",
       "      <td>-73.974470</td>\n",
       "      <td>40.763050</td>\n",
       "      <td>2</td>\n",
       "      <td>0.017623</td>\n",
       "      <td>0.033979</td>\n",
       "      <td>4.063960</td>\n",
       "      <td>2013</td>\n",
       "      <td>11</td>\n",
       "      <td>16</td>\n",
       "      <td>22</td>\n",
       "      <td>5</td>\n",
       "    </tr>\n",
       "    <tr>\n",
       "      <td>9998</td>\n",
       "      <td>6.5</td>\n",
       "      <td>-73.992548</td>\n",
       "      <td>40.735652</td>\n",
       "      <td>-73.998802</td>\n",
       "      <td>40.723085</td>\n",
       "      <td>1</td>\n",
       "      <td>0.006254</td>\n",
       "      <td>0.012567</td>\n",
       "      <td>1.495094</td>\n",
       "      <td>2010</td>\n",
       "      <td>1</td>\n",
       "      <td>28</td>\n",
       "      <td>11</td>\n",
       "      <td>3</td>\n",
       "    </tr>\n",
       "    <tr>\n",
       "      <td>9999</td>\n",
       "      <td>10.5</td>\n",
       "      <td>-73.978400</td>\n",
       "      <td>40.751700</td>\n",
       "      <td>-74.010500</td>\n",
       "      <td>40.713600</td>\n",
       "      <td>1</td>\n",
       "      <td>0.032100</td>\n",
       "      <td>0.038100</td>\n",
       "      <td>5.031823</td>\n",
       "      <td>2011</td>\n",
       "      <td>7</td>\n",
       "      <td>5</td>\n",
       "      <td>6</td>\n",
       "      <td>1</td>\n",
       "    </tr>\n",
       "  </tbody>\n",
       "</table>\n",
       "<p>9998 rows × 14 columns</p>\n",
       "</div>"
      ],
      "text/plain": [
       "      fare_amount  pickup_longitude  pickup_latitude  dropoff_longitude  \\\n",
       "0             4.5        -73.844311        40.721319         -73.841610   \n",
       "1            16.9        -74.016048        40.711303         -73.979268   \n",
       "2             5.7        -73.982738        40.761270         -73.991242   \n",
       "3             7.7        -73.987130        40.733143         -73.991567   \n",
       "4             5.3        -73.968095        40.768008         -73.956655   \n",
       "...           ...               ...              ...                ...   \n",
       "9995         11.7        -73.988277        40.748970         -73.963712   \n",
       "9996          5.7        -74.002112        40.748727         -73.992467   \n",
       "9997         12.0        -73.992093        40.729071         -73.974470   \n",
       "9998          6.5        -73.992548        40.735652         -73.998802   \n",
       "9999         10.5        -73.978400        40.751700         -74.010500   \n",
       "\n",
       "      dropoff_latitude  passenger_count  abs_diff_longitude  \\\n",
       "0            40.712278                1            0.002701   \n",
       "1            40.782004                1            0.036780   \n",
       "2            40.750562                2            0.008504   \n",
       "3            40.758092                1            0.004437   \n",
       "4            40.783762                1            0.011440   \n",
       "...                ...              ...                 ...   \n",
       "9995         40.773958                2            0.024565   \n",
       "9996         40.756252                1            0.009645   \n",
       "9997         40.763050                2            0.017623   \n",
       "9998         40.723085                1            0.006254   \n",
       "9999         40.713600                1            0.032100   \n",
       "\n",
       "      abs_diff_latitude  distance  year  month  day  hour  dayOfWeek  \n",
       "0              0.009041  1.031896  2009      6   15    17          0  \n",
       "1              0.070701  8.459418  2010      1    5    16          1  \n",
       "2              0.010708  1.391052  2011      8   18     0          3  \n",
       "3              0.024949  2.802346  2012      4   21     4          5  \n",
       "4              0.015754  2.001353  2010      3    9     7          1  \n",
       "...                 ...       ...   ...    ...  ...   ...        ...  \n",
       "9995           0.024988  3.468019  2011     10   26    10          2  \n",
       "9996           0.007525  1.167555  2011     12   16    15          4  \n",
       "9997           0.033979  4.063960  2013     11   16    22          5  \n",
       "9998           0.012567  1.495094  2010      1   28    11          3  \n",
       "9999           0.038100  5.031823  2011      7    5     6          1  \n",
       "\n",
       "[9998 rows x 14 columns]"
      ]
     },
     "execution_count": 108,
     "metadata": {},
     "output_type": "execute_result"
    }
   ],
   "source": [
    "split_datetime(data)"
   ]
  },
  {
   "cell_type": "code",
   "execution_count": 109,
   "metadata": {
    "scrolled": true
   },
   "outputs": [
    {
     "name": "stdout",
     "output_type": "stream",
     "text": [
      "Wall time: 0 ns\n"
     ]
    },
    {
     "data": {
      "text/html": [
       "<div>\n",
       "<style scoped>\n",
       "    .dataframe tbody tr th:only-of-type {\n",
       "        vertical-align: middle;\n",
       "    }\n",
       "\n",
       "    .dataframe tbody tr th {\n",
       "        vertical-align: top;\n",
       "    }\n",
       "\n",
       "    .dataframe thead th {\n",
       "        text-align: right;\n",
       "    }\n",
       "</style>\n",
       "<table border=\"1\" class=\"dataframe\">\n",
       "  <thead>\n",
       "    <tr style=\"text-align: right;\">\n",
       "      <th></th>\n",
       "      <th>fare_amount</th>\n",
       "      <th>pickup_datetime</th>\n",
       "      <th>pickup_longitude</th>\n",
       "      <th>pickup_latitude</th>\n",
       "      <th>dropoff_longitude</th>\n",
       "      <th>dropoff_latitude</th>\n",
       "      <th>passenger_count</th>\n",
       "      <th>abs_diff_longitude</th>\n",
       "      <th>abs_diff_latitude</th>\n",
       "      <th>distance</th>\n",
       "      <th>year</th>\n",
       "      <th>month</th>\n",
       "      <th>day</th>\n",
       "      <th>hour</th>\n",
       "      <th>dayOfWeek</th>\n",
       "    </tr>\n",
       "  </thead>\n",
       "  <tbody>\n",
       "    <tr>\n",
       "      <td>0</td>\n",
       "      <td>4.5</td>\n",
       "      <td>2009-06-15 17:26:21</td>\n",
       "      <td>-73.844311</td>\n",
       "      <td>40.721319</td>\n",
       "      <td>-73.841610</td>\n",
       "      <td>40.712278</td>\n",
       "      <td>1</td>\n",
       "      <td>0.002701</td>\n",
       "      <td>0.009041</td>\n",
       "      <td>1.031896</td>\n",
       "      <td>2009</td>\n",
       "      <td>6</td>\n",
       "      <td>15</td>\n",
       "      <td>17</td>\n",
       "      <td>0</td>\n",
       "    </tr>\n",
       "    <tr>\n",
       "      <td>1</td>\n",
       "      <td>16.9</td>\n",
       "      <td>2010-01-05 16:52:16</td>\n",
       "      <td>-74.016048</td>\n",
       "      <td>40.711303</td>\n",
       "      <td>-73.979268</td>\n",
       "      <td>40.782004</td>\n",
       "      <td>1</td>\n",
       "      <td>0.036780</td>\n",
       "      <td>0.070701</td>\n",
       "      <td>8.459418</td>\n",
       "      <td>2010</td>\n",
       "      <td>1</td>\n",
       "      <td>5</td>\n",
       "      <td>16</td>\n",
       "      <td>1</td>\n",
       "    </tr>\n",
       "    <tr>\n",
       "      <td>2</td>\n",
       "      <td>5.7</td>\n",
       "      <td>2011-08-18 00:35:00</td>\n",
       "      <td>-73.982738</td>\n",
       "      <td>40.761270</td>\n",
       "      <td>-73.991242</td>\n",
       "      <td>40.750562</td>\n",
       "      <td>2</td>\n",
       "      <td>0.008504</td>\n",
       "      <td>0.010708</td>\n",
       "      <td>1.391052</td>\n",
       "      <td>2011</td>\n",
       "      <td>8</td>\n",
       "      <td>18</td>\n",
       "      <td>0</td>\n",
       "      <td>3</td>\n",
       "    </tr>\n",
       "    <tr>\n",
       "      <td>3</td>\n",
       "      <td>7.7</td>\n",
       "      <td>2012-04-21 04:30:42</td>\n",
       "      <td>-73.987130</td>\n",
       "      <td>40.733143</td>\n",
       "      <td>-73.991567</td>\n",
       "      <td>40.758092</td>\n",
       "      <td>1</td>\n",
       "      <td>0.004437</td>\n",
       "      <td>0.024949</td>\n",
       "      <td>2.802346</td>\n",
       "      <td>2012</td>\n",
       "      <td>4</td>\n",
       "      <td>21</td>\n",
       "      <td>4</td>\n",
       "      <td>5</td>\n",
       "    </tr>\n",
       "    <tr>\n",
       "      <td>4</td>\n",
       "      <td>5.3</td>\n",
       "      <td>2010-03-09 07:51:00</td>\n",
       "      <td>-73.968095</td>\n",
       "      <td>40.768008</td>\n",
       "      <td>-73.956655</td>\n",
       "      <td>40.783762</td>\n",
       "      <td>1</td>\n",
       "      <td>0.011440</td>\n",
       "      <td>0.015754</td>\n",
       "      <td>2.001353</td>\n",
       "      <td>2010</td>\n",
       "      <td>3</td>\n",
       "      <td>9</td>\n",
       "      <td>7</td>\n",
       "      <td>1</td>\n",
       "    </tr>\n",
       "  </tbody>\n",
       "</table>\n",
       "</div>"
      ],
      "text/plain": [
       "   fare_amount     pickup_datetime  pickup_longitude  pickup_latitude  \\\n",
       "0          4.5 2009-06-15 17:26:21        -73.844311        40.721319   \n",
       "1         16.9 2010-01-05 16:52:16        -74.016048        40.711303   \n",
       "2          5.7 2011-08-18 00:35:00        -73.982738        40.761270   \n",
       "3          7.7 2012-04-21 04:30:42        -73.987130        40.733143   \n",
       "4          5.3 2010-03-09 07:51:00        -73.968095        40.768008   \n",
       "\n",
       "   dropoff_longitude  dropoff_latitude  passenger_count  abs_diff_longitude  \\\n",
       "0         -73.841610         40.712278                1            0.002701   \n",
       "1         -73.979268         40.782004                1            0.036780   \n",
       "2         -73.991242         40.750562                2            0.008504   \n",
       "3         -73.991567         40.758092                1            0.004437   \n",
       "4         -73.956655         40.783762                1            0.011440   \n",
       "\n",
       "   abs_diff_latitude  distance  year  month  day  hour  dayOfWeek  \n",
       "0           0.009041  1.031896  2009      6   15    17          0  \n",
       "1           0.070701  8.459418  2010      1    5    16          1  \n",
       "2           0.010708  1.391052  2011      8   18     0          3  \n",
       "3           0.024949  2.802346  2012      4   21     4          5  \n",
       "4           0.015754  2.001353  2010      3    9     7          1  "
      ]
     },
     "execution_count": 109,
     "metadata": {},
     "output_type": "execute_result"
    }
   ],
   "source": [
    "%%time\n",
    "data.head()"
   ]
  },
  {
   "cell_type": "code",
   "execution_count": 110,
   "metadata": {},
   "outputs": [],
   "source": [
    "feature_cols = ['pickup_longitude','pickup_latitude','dropoff_longitude','dropoff_latitude','passenger_count','abs_diff_longitude',\n",
    "                'abs_diff_latitude','distance','year','month','day','hour']\n",
    "\n",
    "X = data[feature_cols] \n",
    "y = data['fare_amount']"
   ]
  },
  {
   "cell_type": "code",
   "execution_count": 111,
   "metadata": {},
   "outputs": [],
   "source": [
    "def get_input_matrix(df):\n",
    "    return np.column_stack((df.passenger_count, \n",
    "                            df.distance,df.abs_diff_longitude, df.abs_diff_latitude,\n",
    "                            df.year,df.month,df.day,df.hour,df.dayOfWeek, \n",
    "                            df.abs_diff_longitude, df.abs_diff_latitude, \n",
    "                            np.ones(len(df))))"
   ]
  },
  {
   "cell_type": "code",
   "execution_count": 112,
   "metadata": {},
   "outputs": [],
   "source": [
    "X_train = get_input_matrix(data)\n",
    "y_train =  np.array(data['fare_amount'])\n",
    "\n",
    "test_df = pd.read_csv('C:/Users/Vitou/Downloads/test.csv')\n",
    "\n",
    "#add year, month, day, hour, dayOfWeek to the test.csv\n",
    "split_datetime(test_df)\n",
    "\n",
    "#add distance to the test.csv\n",
    "test_df['distance'] = get_distance(test_df.pickup_latitude, test_df.pickup_longitude, \n",
    "                                      test_df.dropoff_latitude, test_df.dropoff_longitude)\n",
    "add_travel_vector_features(test_df)\n",
    "\n",
    "X_test = get_input_matrix(test_df)\n",
    "\n",
    "(w, _, _, _) = np.linalg.lstsq(X_train, y_train, rcond = None)\n",
    "\n",
    "# Predict fare_amount on the test set using our model (w) trained on the training set.\n",
    "y_test = np.matmul(X_test, w).round(decimals = 2)"
   ]
  },
  {
   "cell_type": "markdown",
   "metadata": {},
   "source": [
    "### Fix ValueError: Unknown label type: 'continuous'. preprocessing.LabelEncoder() - convert string or float values to 0 .. n classes."
   ]
  },
  {
   "cell_type": "code",
   "execution_count": 134,
   "metadata": {},
   "outputs": [
    {
     "name": "stdout",
     "output_type": "stream",
     "text": [
      "[ 4.5 16.9  5.7 ... 12.   6.5 10.5]\n",
      "[11 93 18 ... 64 25 54]\n"
     ]
    }
   ],
   "source": [
    "lab_enc = preprocessing.LabelEncoder()\n",
    "y_train_encoded = lab_enc.fit_transform(y_train)\n",
    "y_encoded = lab_enc.fit_transform(y)\n",
    "y_test_encoded = lab_enc.fit_transform(y_test)\n",
    "print(y_train)\n",
    "print(y_train_encoded)"
   ]
  },
  {
   "cell_type": "markdown",
   "metadata": {},
   "source": [
    "### Classifications and Regressions"
   ]
  },
  {
   "cell_type": "code",
   "execution_count": 114,
   "metadata": {},
   "outputs": [
    {
     "name": "stdout",
     "output_type": "stream",
     "text": [
      "Linear Regression:0.002847980401721707\n",
      "Wall time: 6 ms\n"
     ]
    }
   ],
   "source": [
    "%%time\n",
    "my_linreg = LinearRegression()\n",
    "my_linreg.fit(X_train, y_train)\n",
    "y_prediction_lr = my_linreg.predict(X_test)\n",
    "mse = metrics.mean_squared_error(y_test, y_prediction_lr)\n",
    "rmse_lr = np.sqrt(mse)\n",
    "print('Linear Regression:'+str(rmse_lr))"
   ]
  },
  {
   "cell_type": "code",
   "execution_count": 115,
   "metadata": {},
   "outputs": [
    {
     "name": "stderr",
     "output_type": "stream",
     "text": [
      "C:\\ProgramData\\Anaconda3\\lib\\site-packages\\sklearn\\linear_model\\logistic.py:432: FutureWarning: Default solver will be changed to 'lbfgs' in 0.22. Specify a solver to silence this warning.\n",
      "  FutureWarning)\n",
      "C:\\ProgramData\\Anaconda3\\lib\\site-packages\\sklearn\\linear_model\\logistic.py:469: FutureWarning: Default multi_class will be changed to 'auto' in 0.22. Specify the multi_class option to silence this warning.\n",
      "  \"this warning.\", FutureWarning)\n",
      "C:\\ProgramData\\Anaconda3\\lib\\site-packages\\sklearn\\svm\\base.py:929: ConvergenceWarning: Liblinear failed to converge, increase the number of iterations.\n",
      "  \"the number of iterations.\", ConvergenceWarning)\n"
     ]
    },
    {
     "name": "stdout",
     "output_type": "stream",
     "text": [
      "Logistic Regression: 18.319215021265514\n",
      "Wall time: 20.6 s\n"
     ]
    }
   ],
   "source": [
    "%%time\n",
    "my_logreg = LogisticRegression()\n",
    "my_logreg.fit(X_train, y_train_encoded)\n",
    "y_prediction_log = my_logreg.predict(X_test)\n",
    "mse_log = metrics.mean_squared_error(y_test, y_prediction_log)\n",
    "rmse_log = np.sqrt(mse_log)\n",
    "print('Logistic Regression: '+str(rmse_log))"
   ]
  },
  {
   "cell_type": "code",
   "execution_count": 116,
   "metadata": {
    "scrolled": true
   },
   "outputs": [
    {
     "name": "stdout",
     "output_type": "stream",
     "text": [
      "Decision Tree: 76.99210091095757\n",
      "Wall time: 512 ms\n"
     ]
    }
   ],
   "source": [
    "%%time\n",
    "my_decisiontree = DecisionTreeClassifier(random_state=5)\n",
    "my_decisiontree.fit(X_train, y_train_encoded)\n",
    "y_prediction = my_decisiontree.predict(X_test)\n",
    "mse_dt = metrics.mean_squared_error(y_test, y_prediction)\n",
    "rmse_dt = np.sqrt(mse_dt)\n",
    "print('Decision Tree: '+str(rmse_dt))"
   ]
  },
  {
   "cell_type": "code",
   "execution_count": 117,
   "metadata": {
    "scrolled": true
   },
   "outputs": [
    {
     "name": "stdout",
     "output_type": "stream",
     "text": [
      "Random Forest: 68.9444792875279\n",
      "Wall time: 1.47 s\n"
     ]
    }
   ],
   "source": [
    "%%time\n",
    "my_RandomForest = RandomForestClassifier(n_estimators = 10, bootstrap = True, random_state=3)\n",
    "my_RandomForest.fit(X_train, y_train_encoded)\n",
    "y_prediction = my_RandomForest.predict(X_test)\n",
    "mse_rf = metrics.mean_squared_error(y_test, y_prediction)\n",
    "rmse_rf = np.sqrt(mse_rf)\n",
    "print('Random Forest: '+str(rmse_rf))"
   ]
  },
  {
   "cell_type": "markdown",
   "metadata": {},
   "source": [
    "### CROSS VALIDATIONS"
   ]
  },
  {
   "cell_type": "code",
   "execution_count": 118,
   "metadata": {},
   "outputs": [
    {
     "name": "stdout",
     "output_type": "stream",
     "text": [
      "Linear Regression: 0.4537109064108785\n",
      "Wall time: 63.6 ms\n"
     ]
    }
   ],
   "source": [
    "%%time\n",
    "score_list_lr = cross_val_score(my_linreg, X, y, cv=10)\n",
    "score_lr = abs(score_list_lr).mean()\n",
    "print('Linear Regression: '+str(score_lr))"
   ]
  },
  {
   "cell_type": "code",
   "execution_count": 119,
   "metadata": {
    "scrolled": true
   },
   "outputs": [
    {
     "name": "stderr",
     "output_type": "stream",
     "text": [
      "C:\\ProgramData\\Anaconda3\\lib\\site-packages\\sklearn\\model_selection\\_split.py:657: Warning: The least populated class in y has only 1 members, which is too few. The minimum number of members in any class cannot be less than n_splits=10.\n",
      "  % (min_groups, self.n_splits)), Warning)\n",
      "C:\\ProgramData\\Anaconda3\\lib\\site-packages\\sklearn\\linear_model\\logistic.py:432: FutureWarning: Default solver will be changed to 'lbfgs' in 0.22. Specify a solver to silence this warning.\n",
      "  FutureWarning)\n",
      "C:\\ProgramData\\Anaconda3\\lib\\site-packages\\sklearn\\linear_model\\logistic.py:469: FutureWarning: Default multi_class will be changed to 'auto' in 0.22. Specify the multi_class option to silence this warning.\n",
      "  \"this warning.\", FutureWarning)\n",
      "C:\\ProgramData\\Anaconda3\\lib\\site-packages\\sklearn\\linear_model\\logistic.py:432: FutureWarning: Default solver will be changed to 'lbfgs' in 0.22. Specify a solver to silence this warning.\n",
      "  FutureWarning)\n",
      "C:\\ProgramData\\Anaconda3\\lib\\site-packages\\sklearn\\linear_model\\logistic.py:469: FutureWarning: Default multi_class will be changed to 'auto' in 0.22. Specify the multi_class option to silence this warning.\n",
      "  \"this warning.\", FutureWarning)\n",
      "C:\\ProgramData\\Anaconda3\\lib\\site-packages\\sklearn\\linear_model\\logistic.py:432: FutureWarning: Default solver will be changed to 'lbfgs' in 0.22. Specify a solver to silence this warning.\n",
      "  FutureWarning)\n",
      "C:\\ProgramData\\Anaconda3\\lib\\site-packages\\sklearn\\linear_model\\logistic.py:469: FutureWarning: Default multi_class will be changed to 'auto' in 0.22. Specify the multi_class option to silence this warning.\n",
      "  \"this warning.\", FutureWarning)\n",
      "C:\\ProgramData\\Anaconda3\\lib\\site-packages\\sklearn\\linear_model\\logistic.py:432: FutureWarning: Default solver will be changed to 'lbfgs' in 0.22. Specify a solver to silence this warning.\n",
      "  FutureWarning)\n",
      "C:\\ProgramData\\Anaconda3\\lib\\site-packages\\sklearn\\linear_model\\logistic.py:469: FutureWarning: Default multi_class will be changed to 'auto' in 0.22. Specify the multi_class option to silence this warning.\n",
      "  \"this warning.\", FutureWarning)\n",
      "C:\\ProgramData\\Anaconda3\\lib\\site-packages\\sklearn\\linear_model\\logistic.py:432: FutureWarning: Default solver will be changed to 'lbfgs' in 0.22. Specify a solver to silence this warning.\n",
      "  FutureWarning)\n",
      "C:\\ProgramData\\Anaconda3\\lib\\site-packages\\sklearn\\linear_model\\logistic.py:469: FutureWarning: Default multi_class will be changed to 'auto' in 0.22. Specify the multi_class option to silence this warning.\n",
      "  \"this warning.\", FutureWarning)\n",
      "C:\\ProgramData\\Anaconda3\\lib\\site-packages\\sklearn\\linear_model\\logistic.py:432: FutureWarning: Default solver will be changed to 'lbfgs' in 0.22. Specify a solver to silence this warning.\n",
      "  FutureWarning)\n",
      "C:\\ProgramData\\Anaconda3\\lib\\site-packages\\sklearn\\linear_model\\logistic.py:469: FutureWarning: Default multi_class will be changed to 'auto' in 0.22. Specify the multi_class option to silence this warning.\n",
      "  \"this warning.\", FutureWarning)\n",
      "C:\\ProgramData\\Anaconda3\\lib\\site-packages\\sklearn\\linear_model\\logistic.py:432: FutureWarning: Default solver will be changed to 'lbfgs' in 0.22. Specify a solver to silence this warning.\n",
      "  FutureWarning)\n",
      "C:\\ProgramData\\Anaconda3\\lib\\site-packages\\sklearn\\linear_model\\logistic.py:469: FutureWarning: Default multi_class will be changed to 'auto' in 0.22. Specify the multi_class option to silence this warning.\n",
      "  \"this warning.\", FutureWarning)\n",
      "C:\\ProgramData\\Anaconda3\\lib\\site-packages\\sklearn\\linear_model\\logistic.py:432: FutureWarning: Default solver will be changed to 'lbfgs' in 0.22. Specify a solver to silence this warning.\n",
      "  FutureWarning)\n",
      "C:\\ProgramData\\Anaconda3\\lib\\site-packages\\sklearn\\linear_model\\logistic.py:469: FutureWarning: Default multi_class will be changed to 'auto' in 0.22. Specify the multi_class option to silence this warning.\n",
      "  \"this warning.\", FutureWarning)\n",
      "C:\\ProgramData\\Anaconda3\\lib\\site-packages\\sklearn\\linear_model\\logistic.py:432: FutureWarning: Default solver will be changed to 'lbfgs' in 0.22. Specify a solver to silence this warning.\n",
      "  FutureWarning)\n",
      "C:\\ProgramData\\Anaconda3\\lib\\site-packages\\sklearn\\linear_model\\logistic.py:469: FutureWarning: Default multi_class will be changed to 'auto' in 0.22. Specify the multi_class option to silence this warning.\n",
      "  \"this warning.\", FutureWarning)\n",
      "C:\\ProgramData\\Anaconda3\\lib\\site-packages\\sklearn\\svm\\base.py:929: ConvergenceWarning: Liblinear failed to converge, increase the number of iterations.\n",
      "  \"the number of iterations.\", ConvergenceWarning)\n",
      "C:\\ProgramData\\Anaconda3\\lib\\site-packages\\sklearn\\linear_model\\logistic.py:432: FutureWarning: Default solver will be changed to 'lbfgs' in 0.22. Specify a solver to silence this warning.\n",
      "  FutureWarning)\n",
      "C:\\ProgramData\\Anaconda3\\lib\\site-packages\\sklearn\\linear_model\\logistic.py:469: FutureWarning: Default multi_class will be changed to 'auto' in 0.22. Specify the multi_class option to silence this warning.\n",
      "  \"this warning.\", FutureWarning)\n"
     ]
    },
    {
     "name": "stdout",
     "output_type": "stream",
     "text": [
      "Logistic Regression: 0.0477301312654128\n",
      "Wall time: 3min 6s\n"
     ]
    }
   ],
   "source": [
    "%%time\n",
    "score_list_log = cross_val_score(my_logreg, X, y_encoded, cv=10)\n",
    "score_log = abs(score_list_log).mean()\n",
    "print('Logistic Regression: '+str(score_log))"
   ]
  },
  {
   "cell_type": "code",
   "execution_count": 120,
   "metadata": {},
   "outputs": [
    {
     "name": "stderr",
     "output_type": "stream",
     "text": [
      "C:\\ProgramData\\Anaconda3\\lib\\site-packages\\sklearn\\model_selection\\_split.py:657: Warning: The least populated class in y has only 1 members, which is too few. The minimum number of members in any class cannot be less than n_splits=10.\n",
      "  % (min_groups, self.n_splits)), Warning)\n"
     ]
    },
    {
     "name": "stdout",
     "output_type": "stream",
     "text": [
      "Decision Tree: 0.09180465313526268\n",
      "Wall time: 5.89 s\n"
     ]
    }
   ],
   "source": [
    "%%time\n",
    "score_list_dt = cross_val_score(my_decisiontree, X, y_encoded, cv=10)\n",
    "score_dt = abs(score_list_dt).mean()\n",
    "print('Decision Tree: '+str(score_dt))"
   ]
  },
  {
   "cell_type": "code",
   "execution_count": 121,
   "metadata": {
    "scrolled": true
   },
   "outputs": [
    {
     "name": "stderr",
     "output_type": "stream",
     "text": [
      "C:\\ProgramData\\Anaconda3\\lib\\site-packages\\sklearn\\model_selection\\_split.py:657: Warning: The least populated class in y has only 1 members, which is too few. The minimum number of members in any class cannot be less than n_splits=10.\n",
      "  % (min_groups, self.n_splits)), Warning)\n"
     ]
    },
    {
     "name": "stdout",
     "output_type": "stream",
     "text": [
      "Random Forest: 0.10569232735591116\n",
      "Wall time: 13.8 s\n"
     ]
    }
   ],
   "source": [
    "%%time\n",
    "score_list_rf = cross_val_score(my_RandomForest, X, y_encoded, cv=10)\n",
    "score_rf  = abs(score_list_rf ).mean()\n",
    "print('Random Forest: '+str(score_rf))"
   ]
  },
  {
   "cell_type": "markdown",
   "metadata": {},
   "source": [
    "# Plots"
   ]
  },
  {
   "cell_type": "code",
   "execution_count": 122,
   "metadata": {},
   "outputs": [
    {
     "name": "stdout",
     "output_type": "stream",
     "text": [
      "[0.00000000e+00 1.00877635e-04 4.90467063e-01 4.90467063e-01\n",
      " 6.63270453e-01 6.63472208e-01 7.02410975e-01 7.02612731e-01\n",
      " 7.91082417e-01 7.91485928e-01 8.18319379e-01 8.18521134e-01\n",
      " 8.21950973e-01 8.22253606e-01 8.43639665e-01 8.44244931e-01\n",
      " 8.64218703e-01 8.64420458e-01 9.24442651e-01 9.24644406e-01\n",
      " 1.00000000e+00]\n",
      "[0. 0. 0. 1. 1. 1. 1. 1. 1. 1. 1. 1. 1. 1. 1. 1. 1. 1. 1. 1. 1.]\n"
     ]
    }
   ],
   "source": [
    "from sklearn import metrics\n",
    "y_predict_prob_log = my_logreg.predict_proba(X_test)\n",
    "fpr, tpr, thresholds = metrics.roc_curve(y_test_encoded, y_predict_prob_log[:,1], pos_label=1)\n",
    "\n",
    "print(fpr)\n",
    "print(tpr)"
   ]
  },
  {
   "cell_type": "code",
   "execution_count": 123,
   "metadata": {},
   "outputs": [
    {
     "name": "stdout",
     "output_type": "stream",
     "text": [
      "0.5095329365479673\n"
     ]
    }
   ],
   "source": [
    "# AUC:\n",
    "AUC = metrics.auc(fpr, tpr)\n",
    "print(AUC)"
   ]
  },
  {
   "cell_type": "markdown",
   "metadata": {},
   "source": [
    "### ROC Curve"
   ]
  },
  {
   "cell_type": "code",
   "execution_count": 124,
   "metadata": {},
   "outputs": [
    {
     "data": {
      "image/png": "[encoded data removed]",
      "text/plain": [
       "<Figure size 432x288 with 1 Axes>"
      ]
     },
     "metadata": {
      "needs_background": "light"
     },
     "output_type": "display_data"
    }
   ],
   "source": [
    "# Importing the \"pyplot\" package of \"matplotlib\" library of python to generate \n",
    "# graphs and plot curves:\n",
    "import matplotlib.pyplot as plt\n",
    "\n",
    "# The following line will tell Jupyter Notebook to keep the figures inside the explorer page \n",
    "# rather than openng a new figure window:\n",
    "%matplotlib inline\n",
    "\n",
    "plt.figure()\n",
    "\n",
    "# Roc Curve:\n",
    "plt.plot(fpr, tpr, color='red', lw=2, \n",
    "         label='ROC Curve (area = %0.2f)' % AUC)\n",
    "\n",
    "# Random Guess line:\n",
    "plt.plot([0, 1], [0, 1], color='blue', lw=1, linestyle='--')\n",
    "\n",
    "# Defining The Range of X-Axis and Y-Axis:\n",
    "plt.xlim([-0.005, 1.005])\n",
    "plt.ylim([0.0, 1.01])\n",
    "\n",
    "# Labels, Title, Legend:\n",
    "plt.xlabel('False Positive Rate')\n",
    "plt.ylabel('True Positive Rate')\n",
    "plt.title('Receiver operating characteristic')\n",
    "plt.legend(loc=\"lower right\")\n",
    "\n",
    "plt.show()"
   ]
  },
  {
   "cell_type": "markdown",
   "metadata": {},
   "source": [
    "### RSME Plot"
   ]
  },
  {
   "cell_type": "code",
   "execution_count": 135,
   "metadata": {},
   "outputs": [
    {
     "data": {
      "text/plain": [
       "Text(0.5, 1.0, 'RMSE Values')"
      ]
     },
     "execution_count": 135,
     "metadata": {},
     "output_type": "execute_result"
    },
    {
     "data": {
      "image/png": "[encoded data removed]",
      "text/plain": [
       "<Figure size 432x288 with 1 Axes>"
      ]
     },
     "metadata": {
      "needs_background": "light"
     },
     "output_type": "display_data"
    }
   ],
   "source": [
    "fig, ax = plt.subplots()\n",
    "y_axis = ('Linear Regression','Logistic Regression','Decision Tree','Random Forest')\n",
    "y_pos = np.arange(len(y_axis))\n",
    "width = 0.75 \n",
    "x_axis = (round(rmse_lr,4),round(rmse_log,4),round(rmse_dt,4),round(rmse_rf,4))\n",
    "ax.barh(y_pos, x_axis, width,align='center')\n",
    "for i, v in enumerate(x_axis):\n",
    "    ax.text(v, i, '$'+str(v), color='blue', fontweight='bold')\n",
    "ax.set_yticks(y_pos)\n",
    "ax.set_yticklabels(y_axis)\n",
    "ax.set_xlabel('RMSE')\n",
    "ax.set_title('RMSE Values')"
   ]
  },
  {
   "cell_type": "markdown",
   "metadata": {},
   "source": [
    "### Cross Validation Plot"
   ]
  },
  {
   "cell_type": "code",
   "execution_count": 131,
   "metadata": {},
   "outputs": [
    {
     "data": {
      "text/plain": [
       "Text(0.5, 1.0, 'Cross Validation Values')"
      ]
     },
     "execution_count": 131,
     "metadata": {},
     "output_type": "execute_result"
    },
    {
     "data": {
      "image/png": "[encoded data removed]",
      "text/plain": [
       "<Figure size 432x288 with 1 Axes>"
      ]
     },
     "metadata": {
      "needs_background": "light"
     },
     "output_type": "display_data"
    }
   ],
   "source": [
    "fig, ax = plt.subplots()\n",
    "y_axis = ('Linear Regression','Logistic Regression','Decision Tree','Random Forest')\n",
    "y_pos = np.arange(len(y_axis)) \n",
    "x_axis = (round(score_lr,4),round(score_log,4),round(score_dt,4),round(score_rf,4))\n",
    "ax.barh(y_pos, x_axis, width,align='center')\n",
    "for i, v in enumerate(x_axis):\n",
    "    ax.text(v, i, str(v), color='blue', fontweight='bold')\n",
    "ax.set_yticks(y_pos)\n",
    "ax.set_yticklabels(y_axis)\n",
    "ax.set_xlabel('Score')\n",
    "ax.set_title('Cross Validation Values')"
   ]
  },
  {
   "cell_type": "code",
   "execution_count": null,
   "metadata": {},
   "outputs": [],
   "source": []
  }
 ],
 "metadata": {
  "kernelspec": {
   "display_name": "Python 3",
   "language": "python",
   "name": "python3"
  },
  "language_info": {
   "codemirror_mode": {
    "name": "ipython",
    "version": 3
   },
   "file_extension": ".py",
   "mimetype": "text/x-python",
   "name": "python",
   "nbconvert_exporter": "python",
   "pygments_lexer": "ipython3",
   "version": "3.7.3"
  }
 },
 "nbformat": 4,
 "nbformat_minor": 2
}
