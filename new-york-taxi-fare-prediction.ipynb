{
 "cells": [
  {
   "cell_type": "code",
   "execution_count": 1,
   "metadata": {},
   "outputs": [],
   "source": [
    "import pandas as pd \n",
    "import numpy as np\n",
    "from matplotlib import style\n",
    "import matplotlib.pyplot as plt\n",
    "%matplotlib inline\n",
    "import seaborn as sns\n",
    "#tdqm = progress bar\n",
    "from tqdm import tqdm\n",
    "from datetime import datetime\n",
    "from sklearn import metrics\n",
    "from sklearn.model_selection import cross_val_score\n",
    "from sklearn.metrics import accuracy_score\n",
    "from sklearn.linear_model import LogisticRegression\n",
    "from sklearn.linear_model import LinearRegression\n",
    "from sklearn.ensemble import RandomForestRegressor\n",
    "from sklearn. model_selection import train_test_split\n",
    "from sklearn import preprocessing\n",
    "from sklearn import utils"
   ]
  },
  {
   "cell_type": "code",
   "execution_count": 2,
   "metadata": {},
   "outputs": [
    {
     "name": "stderr",
     "output_type": "stream",
     "text": [
      "100it [00:01, 56.81it/s]\n"
     ]
    }
   ],
   "source": [
    "# Number of rows\n",
    "nrows = 1000000\n",
    "# Chunksize = 10000 \n",
    "chunksize = 10000\n",
    "# Vitou's path\n",
    "path = 'C:/Users/Vitou/Downloads/train.csv'\n",
    "# Muna's path\n",
    "#path = '/Users/muna/Development/DataScience/new-york-city-taxi-fare-prediction/train.csv'\n",
    "# Columns to read from the data\n",
    "# Todo :split date into meaningful data\n",
    "# cols = ['pickup_longitude','pickup_latitude','dropoff_longitude','dropoff_latitude','passenger_count','fare_amount']\n",
    "cols = ['pickup_datetime','pickup_longitude','pickup_latitude','dropoff_longitude','dropoff_latitude','passenger_count','fare_amount']\n",
    "\n",
    "#list to hold the batch dataframe\n",
    "df_list = []\n",
    "\n",
    "for df_chunk in tqdm(pd.read_csv(path,usecols=cols, chunksize=chunksize,nrows=nrows)):\n",
    "    df_list.append(df_chunk)\n",
    "    \n",
    "# Merge all dataframes into one dataframe\n",
    "data = pd.DataFrame()\n",
    "data = pd.concat(df_list)\n",
    "# # Delete the dataframe list to release memory\n",
    "del df_list, df_chunk"
   ]
  },
  {
   "cell_type": "markdown",
   "metadata": {},
   "source": [
    "### Let's take a look at the data"
   ]
  },
  {
   "cell_type": "code",
   "execution_count": 3,
   "metadata": {
    "scrolled": true
   },
   "outputs": [
    {
     "name": "stdout",
     "output_type": "stream",
     "text": [
      "Wall time: 0 ns\n"
     ]
    }
   ],
   "source": [
    "%%time\n",
    "# data.describe(include='all')"
   ]
  },
  {
   "cell_type": "markdown",
   "metadata": {},
   "source": [
    "### Check for missing values"
   ]
  },
  {
   "cell_type": "code",
   "execution_count": 4,
   "metadata": {
    "scrolled": true
   },
   "outputs": [
    {
     "name": "stdout",
     "output_type": "stream",
     "text": [
      "Wall time: 87 ms\n"
     ]
    },
    {
     "data": {
      "text/plain": [
       "fare_amount           0\n",
       "pickup_datetime       0\n",
       "pickup_longitude      0\n",
       "pickup_latitude       0\n",
       "dropoff_longitude    10\n",
       "dropoff_latitude     10\n",
       "passenger_count       0\n",
       "dtype: int64"
      ]
     },
     "execution_count": 4,
     "metadata": {},
     "output_type": "execute_result"
    }
   ],
   "source": [
    "%%time\n",
    "# Checking for missing values\n",
    "data.isnull().sum()"
   ]
  },
  {
   "cell_type": "markdown",
   "metadata": {},
   "source": [
    "### From our observation, there are some missing values, so we remove them"
   ]
  },
  {
   "cell_type": "code",
   "execution_count": 5,
   "metadata": {},
   "outputs": [
    {
     "name": "stdout",
     "output_type": "stream",
     "text": [
      "Wall time: 144 ms\n"
     ]
    }
   ],
   "source": [
    "%%time\n",
    "data = data.dropna(how = 'any', axis = 'rows')"
   ]
  },
  {
   "cell_type": "markdown",
   "metadata": {},
   "source": [
    "### Let's take a look at the data"
   ]
  },
  {
   "cell_type": "code",
   "execution_count": 6,
   "metadata": {},
   "outputs": [
    {
     "data": {
      "text/plain": [
       "count    999990.000000\n",
       "mean         11.347953\n",
       "std           9.821790\n",
       "min         -44.900000\n",
       "25%           6.000000\n",
       "50%           8.500000\n",
       "75%          12.500000\n",
       "max         500.000000\n",
       "Name: fare_amount, dtype: float64"
      ]
     },
     "execution_count": 6,
     "metadata": {},
     "output_type": "execute_result"
    }
   ],
   "source": [
    "data['fare_amount'].describe()"
   ]
  },
  {
   "cell_type": "markdown",
   "metadata": {},
   "source": [
    "### From the description above, some of the fare_amount have negative values"
   ]
  },
  {
   "cell_type": "markdown",
   "metadata": {},
   "source": [
    "We are going to remove all negatvie fare_amounts"
   ]
  },
  {
   "cell_type": "code",
   "execution_count": 7,
   "metadata": {
    "scrolled": true
   },
   "outputs": [
    {
     "name": "stdout",
     "output_type": "stream",
     "text": [
      "Wall time: 76 ms\n"
     ]
    }
   ],
   "source": [
    "%%time\n",
    "data = data[(data['fare_amount'] > 0)]"
   ]
  },
  {
   "cell_type": "code",
   "execution_count": 8,
   "metadata": {},
   "outputs": [
    {
     "data": {
      "text/plain": [
       "count    999923.000000\n",
       "mean         11.348945\n",
       "std           9.821201\n",
       "min           0.010000\n",
       "25%           6.000000\n",
       "50%           8.500000\n",
       "75%          12.500000\n",
       "max         500.000000\n",
       "Name: fare_amount, dtype: float64"
      ]
     },
     "execution_count": 8,
     "metadata": {},
     "output_type": "execute_result"
    }
   ],
   "source": [
    "data['fare_amount'].describe()"
   ]
  },
  {
   "cell_type": "code",
   "execution_count": 9,
   "metadata": {},
   "outputs": [
    {
     "data": {
      "text/plain": [
       "count    999923.000000\n",
       "mean         11.348945\n",
       "std           9.821201\n",
       "min           0.010000\n",
       "25%           6.000000\n",
       "50%           8.500000\n",
       "75%          12.500000\n",
       "max         500.000000\n",
       "Name: fare_amount, dtype: float64"
      ]
     },
     "execution_count": 9,
     "metadata": {},
     "output_type": "execute_result"
    }
   ],
   "source": [
    "data['fare_amount'].describe()"
   ]
  },
  {
   "cell_type": "markdown",
   "metadata": {},
   "source": [
    "### Let's take a detailed look at the passenger count"
   ]
  },
  {
   "cell_type": "code",
   "execution_count": 10,
   "metadata": {},
   "outputs": [
    {
     "data": {
      "text/plain": [
       "count    999923.000000\n",
       "mean          1.684955\n",
       "std           1.323921\n",
       "min           0.000000\n",
       "25%           1.000000\n",
       "50%           1.000000\n",
       "75%           2.000000\n",
       "max         208.000000\n",
       "Name: passenger_count, dtype: float64"
      ]
     },
     "execution_count": 10,
     "metadata": {},
     "output_type": "execute_result"
    }
   ],
   "source": [
    "data['passenger_count'].describe()"
   ]
  },
  {
   "cell_type": "markdown",
   "metadata": {},
   "source": [
    "The highest passenger count per taxi ride is 208, which is not possible. So we remove all passenger_count grater than 6, since 6 is the maximum passenger capacity for Uber/Lyft if the ride is an SUV"
   ]
  },
  {
   "cell_type": "code",
   "execution_count": 11,
   "metadata": {
    "scrolled": true
   },
   "outputs": [],
   "source": [
    "data = data[(data['passenger_count'] <= 6)]"
   ]
  },
  {
   "cell_type": "code",
   "execution_count": 12,
   "metadata": {
    "scrolled": true
   },
   "outputs": [
    {
     "data": {
      "text/plain": [
       "count    999922.000000\n",
       "mean          1.684748\n",
       "std           1.307746\n",
       "min           0.000000\n",
       "25%           1.000000\n",
       "50%           1.000000\n",
       "75%           2.000000\n",
       "max           6.000000\n",
       "Name: passenger_count, dtype: float64"
      ]
     },
     "execution_count": 12,
     "metadata": {},
     "output_type": "execute_result"
    }
   ],
   "source": [
    "data['passenger_count'].describe()"
   ]
  },
  {
   "cell_type": "markdown",
   "metadata": {},
   "source": [
    "Now the highest passenger capacity is 6"
   ]
  },
  {
   "cell_type": "markdown",
   "metadata": {},
   "source": [
    "Next we remove all passenger count that are zero"
   ]
  },
  {
   "cell_type": "code",
   "execution_count": 13,
   "metadata": {},
   "outputs": [],
   "source": [
    "data = data[(data['passenger_count'] > 0)]"
   ]
  },
  {
   "cell_type": "code",
   "execution_count": 14,
   "metadata": {},
   "outputs": [
    {
     "data": {
      "text/plain": [
       "count    996367.000000\n",
       "mean          1.690760\n",
       "std           1.306192\n",
       "min           1.000000\n",
       "25%           1.000000\n",
       "50%           1.000000\n",
       "75%           2.000000\n",
       "max           6.000000\n",
       "Name: passenger_count, dtype: float64"
      ]
     },
     "execution_count": 14,
     "metadata": {},
     "output_type": "execute_result"
    }
   ],
   "source": [
    "data['passenger_count'].describe()"
   ]
  },
  {
   "cell_type": "code",
   "execution_count": 15,
   "metadata": {},
   "outputs": [
    {
     "data": {
      "text/plain": [
       "Text(0, 0.5, 'Frequency')"
      ]
     },
     "execution_count": 15,
     "metadata": {},
     "output_type": "execute_result"
    },
    {
     "data": {
      "image/png": "[encoded data removed]",
      "text/plain": [
       "<Figure size 720x504 with 1 Axes>"
      ]
     },
     "metadata": {
      "needs_background": "light"
     },
     "output_type": "display_data"
    }
   ],
   "source": [
    "plt.figure(figsize=(10,7)) \n",
    "plt.hist(data['passenger_count'], bins=15) \n",
    "plt.xlabel('No. of Passengers') \n",
    "plt.ylabel('Frequency')"
   ]
  },
  {
   "cell_type": "markdown",
   "metadata": {},
   "source": [
    "From the graph above we see that single passengers are the most frequent travellers"
   ]
  },
  {
   "cell_type": "code",
   "execution_count": 16,
   "metadata": {},
   "outputs": [
    {
     "data": {
      "text/plain": [
       "Text(0, 0.5, 'Fare')"
      ]
     },
     "execution_count": 16,
     "metadata": {},
     "output_type": "execute_result"
    },
    {
     "data": {
      "image/png": "[encoded data removed]",
      "text/plain": [
       "<Figure size 720x504 with 1 Axes>"
      ]
     },
     "metadata": {
      "needs_background": "light"
     },
     "output_type": "display_data"
    }
   ],
   "source": [
    "plt.figure(figsize=(10,7)) \n",
    "plt.scatter(x=data['passenger_count'], y=data['fare_amount']) \n",
    "plt.xlabel('No. of Passengers') \n",
    "plt.ylabel('Fare')"
   ]
  },
  {
   "cell_type": "markdown",
   "metadata": {},
   "source": [
    "Also the highest fare comes from the taxi that carry single passengers"
   ]
  },
  {
   "cell_type": "markdown",
   "metadata": {},
   "source": [
    "### Looking at the pickup|droppoff latitudes and longitudes"
   ]
  },
  {
   "cell_type": "code",
   "execution_count": 17,
   "metadata": {
    "scrolled": true
   },
   "outputs": [
    {
     "data": {
      "text/html": [
       "<div>\n",
       "<style scoped>\n",
       "    .dataframe tbody tr th:only-of-type {\n",
       "        vertical-align: middle;\n",
       "    }\n",
       "\n",
       "    .dataframe tbody tr th {\n",
       "        vertical-align: top;\n",
       "    }\n",
       "\n",
       "    .dataframe thead th {\n",
       "        text-align: right;\n",
       "    }\n",
       "</style>\n",
       "<table border=\"1\" class=\"dataframe\">\n",
       "  <thead>\n",
       "    <tr style=\"text-align: right;\">\n",
       "      <th></th>\n",
       "      <th>pickup_latitude</th>\n",
       "      <th>pickup_longitude</th>\n",
       "      <th>dropoff_latitude</th>\n",
       "      <th>dropoff_longitude</th>\n",
       "    </tr>\n",
       "  </thead>\n",
       "  <tbody>\n",
       "    <tr>\n",
       "      <td>count</td>\n",
       "      <td>996367.000000</td>\n",
       "      <td>996367.000000</td>\n",
       "      <td>996367.000000</td>\n",
       "      <td>996367.000000</td>\n",
       "    </tr>\n",
       "    <tr>\n",
       "      <td>mean</td>\n",
       "      <td>39.928583</td>\n",
       "      <td>-72.526028</td>\n",
       "      <td>39.919749</td>\n",
       "      <td>-72.527717</td>\n",
       "    </tr>\n",
       "    <tr>\n",
       "      <td>std</td>\n",
       "      <td>7.633285</td>\n",
       "      <td>12.065813</td>\n",
       "      <td>8.209446</td>\n",
       "      <td>11.328668</td>\n",
       "    </tr>\n",
       "    <tr>\n",
       "      <td>min</td>\n",
       "      <td>-3116.285383</td>\n",
       "      <td>-3377.680935</td>\n",
       "      <td>-3114.338567</td>\n",
       "      <td>-3383.296608</td>\n",
       "    </tr>\n",
       "    <tr>\n",
       "      <td>25%</td>\n",
       "      <td>40.734960</td>\n",
       "      <td>-73.992060</td>\n",
       "      <td>40.734043</td>\n",
       "      <td>-73.991383</td>\n",
       "    </tr>\n",
       "    <tr>\n",
       "      <td>50%</td>\n",
       "      <td>40.752692</td>\n",
       "      <td>-73.981792</td>\n",
       "      <td>40.753163</td>\n",
       "      <td>-73.980134</td>\n",
       "    </tr>\n",
       "    <tr>\n",
       "      <td>75%</td>\n",
       "      <td>40.767152</td>\n",
       "      <td>-73.967092</td>\n",
       "      <td>40.768128</td>\n",
       "      <td>-73.963650</td>\n",
       "    </tr>\n",
       "    <tr>\n",
       "      <td>max</td>\n",
       "      <td>2621.628430</td>\n",
       "      <td>2522.271325</td>\n",
       "      <td>1651.553433</td>\n",
       "      <td>45.581619</td>\n",
       "    </tr>\n",
       "  </tbody>\n",
       "</table>\n",
       "</div>"
      ],
      "text/plain": [
       "       pickup_latitude  pickup_longitude  dropoff_latitude  dropoff_longitude\n",
       "count    996367.000000     996367.000000     996367.000000      996367.000000\n",
       "mean         39.928583        -72.526028         39.919749         -72.527717\n",
       "std           7.633285         12.065813          8.209446          11.328668\n",
       "min       -3116.285383      -3377.680935      -3114.338567       -3383.296608\n",
       "25%          40.734960        -73.992060         40.734043         -73.991383\n",
       "50%          40.752692        -73.981792         40.753163         -73.980134\n",
       "75%          40.767152        -73.967092         40.768128         -73.963650\n",
       "max        2621.628430       2522.271325       1651.553433          45.581619"
      ]
     },
     "execution_count": 17,
     "metadata": {},
     "output_type": "execute_result"
    }
   ],
   "source": [
    "data[['pickup_latitude','pickup_longitude','dropoff_latitude','dropoff_longitude']].describe()"
   ]
  },
  {
   "cell_type": "markdown",
   "metadata": {},
   "source": [
    "Looking at the info above, the maximum pickup_latitude/pickup_longtide/droppoff_latitude/dropoff_longitude are over 3000 WITH their respective minimum values are over -3000"
   ]
  },
  {
   "cell_type": "markdown",
   "metadata": {},
   "source": [
    "Latitudes range from -90 to 90 while longitudes range from -180 to 180, for single degree format. So we remove all values that are not with the latitude and longitude ranges"
   ]
  },
  {
   "cell_type": "code",
   "execution_count": 18,
   "metadata": {},
   "outputs": [],
   "source": [
    "data = data.drop((data[(data['pickup_latitude'] > 90) | (data['pickup_latitude'] < -90)]).index, axis=0)"
   ]
  },
  {
   "cell_type": "code",
   "execution_count": 19,
   "metadata": {},
   "outputs": [],
   "source": [
    "data = data.drop((data[(data['pickup_longitude'] > 180) | (data['pickup_longitude'] < -180)]).index, axis=0)"
   ]
  },
  {
   "cell_type": "markdown",
   "metadata": {},
   "source": [
    "We will do the same for dropoff cordinates"
   ]
  },
  {
   "cell_type": "code",
   "execution_count": 20,
   "metadata": {},
   "outputs": [],
   "source": [
    "data = data.drop((data[(data['dropoff_latitude'] > 90) | (data['dropoff_latitude'] < -90)]).index, axis=0)"
   ]
  },
  {
   "cell_type": "code",
   "execution_count": 21,
   "metadata": {},
   "outputs": [],
   "source": [
    "data = data.drop((data[(data['dropoff_longitude'] > 180) | (data['dropoff_longitude'] < -180)]).index, axis=0)"
   ]
  },
  {
   "cell_type": "code",
   "execution_count": 22,
   "metadata": {},
   "outputs": [
    {
     "data": {
      "text/html": [
       "<div>\n",
       "<style scoped>\n",
       "    .dataframe tbody tr th:only-of-type {\n",
       "        vertical-align: middle;\n",
       "    }\n",
       "\n",
       "    .dataframe tbody tr th {\n",
       "        vertical-align: top;\n",
       "    }\n",
       "\n",
       "    .dataframe thead th {\n",
       "        text-align: right;\n",
       "    }\n",
       "</style>\n",
       "<table border=\"1\" class=\"dataframe\">\n",
       "  <thead>\n",
       "    <tr style=\"text-align: right;\">\n",
       "      <th></th>\n",
       "      <th>pickup_latitude</th>\n",
       "      <th>pickup_longitude</th>\n",
       "      <th>dropoff_latitude</th>\n",
       "      <th>dropoff_longitude</th>\n",
       "    </tr>\n",
       "  </thead>\n",
       "  <tbody>\n",
       "    <tr>\n",
       "      <td>count</td>\n",
       "      <td>996327.000000</td>\n",
       "      <td>996327.000000</td>\n",
       "      <td>996327.000000</td>\n",
       "      <td>996327.000000</td>\n",
       "    </tr>\n",
       "    <tr>\n",
       "      <td>mean</td>\n",
       "      <td>39.926279</td>\n",
       "      <td>-72.516598</td>\n",
       "      <td>39.925683</td>\n",
       "      <td>-72.515035</td>\n",
       "    </tr>\n",
       "    <tr>\n",
       "      <td>std</td>\n",
       "      <td>6.092109</td>\n",
       "      <td>10.396380</td>\n",
       "      <td>6.095567</td>\n",
       "      <td>10.398391</td>\n",
       "    </tr>\n",
       "    <tr>\n",
       "      <td>min</td>\n",
       "      <td>-74.016587</td>\n",
       "      <td>-128.175950</td>\n",
       "      <td>-74.035197</td>\n",
       "      <td>-121.391248</td>\n",
       "    </tr>\n",
       "    <tr>\n",
       "      <td>25%</td>\n",
       "      <td>40.734960</td>\n",
       "      <td>-73.992059</td>\n",
       "      <td>40.734043</td>\n",
       "      <td>-73.991383</td>\n",
       "    </tr>\n",
       "    <tr>\n",
       "      <td>50%</td>\n",
       "      <td>40.752692</td>\n",
       "      <td>-73.981792</td>\n",
       "      <td>40.753163</td>\n",
       "      <td>-73.980134</td>\n",
       "    </tr>\n",
       "    <tr>\n",
       "      <td>75%</td>\n",
       "      <td>40.767152</td>\n",
       "      <td>-73.967092</td>\n",
       "      <td>40.768127</td>\n",
       "      <td>-73.963650</td>\n",
       "    </tr>\n",
       "    <tr>\n",
       "      <td>max</td>\n",
       "      <td>69.400000</td>\n",
       "      <td>40.850357</td>\n",
       "      <td>81.510177</td>\n",
       "      <td>45.581619</td>\n",
       "    </tr>\n",
       "  </tbody>\n",
       "</table>\n",
       "</div>"
      ],
      "text/plain": [
       "       pickup_latitude  pickup_longitude  dropoff_latitude  dropoff_longitude\n",
       "count    996327.000000     996327.000000     996327.000000      996327.000000\n",
       "mean         39.926279        -72.516598         39.925683         -72.515035\n",
       "std           6.092109         10.396380          6.095567          10.398391\n",
       "min         -74.016587       -128.175950        -74.035197        -121.391248\n",
       "25%          40.734960        -73.992059         40.734043         -73.991383\n",
       "50%          40.752692        -73.981792         40.753163         -73.980134\n",
       "75%          40.767152        -73.967092         40.768127         -73.963650\n",
       "max          69.400000         40.850357         81.510177          45.581619"
      ]
     },
     "execution_count": 22,
     "metadata": {},
     "output_type": "execute_result"
    }
   ],
   "source": [
    "data[['pickup_latitude','pickup_longitude','dropoff_latitude','dropoff_longitude']].describe()"
   ]
  },
  {
   "cell_type": "markdown",
   "metadata": {},
   "source": [
    "### Feature Engineering"
   ]
  },
  {
   "cell_type": "code",
   "execution_count": 23,
   "metadata": {},
   "outputs": [],
   "source": [
    "# Given a dataframe, add two new features 'abs_diff_longitude' and\n",
    "# 'abs_diff_latitude' reprensenting the \"Manhattan vector\" from\n",
    "# the pickup location to the dropoff location.\n",
    "def add_travel_vector_features(df):\n",
    "    df['abs_diff_longitude'] = (df.dropoff_longitude - df.pickup_longitude).abs()\n",
    "    df['abs_diff_latitude'] = (df.dropoff_latitude - df.pickup_latitude).abs()\n",
    "\n",
    "add_travel_vector_features(data)"
   ]
  },
  {
   "cell_type": "markdown",
   "metadata": {},
   "source": [
    "### In further observation, we have pickup_longitude, puckup_latitiude, dropoff_longitude and dropoff_latitude. We can calculate the distance"
   ]
  },
  {
   "cell_type": "code",
   "execution_count": 24,
   "metadata": {},
   "outputs": [],
   "source": [
    "# Function that calculates distance between pickup location and dropoff location\n",
    "def getDistance(lat1,lon1,lat2,lon2):\n",
    "    r = 6378 # earth's radius\n",
    "    lat1 = np.deg2rad(lat1)\n",
    "    lon1 = np.deg2rad(lon1)\n",
    "    lat2 = np.deg2rad(lat2)\n",
    "    lon2 = np.deg2rad(lon2)\n",
    "    \n",
    "    dlat = lat2 - lat1\n",
    "    dlon = lon2 - lon1\n",
    "    \n",
    "    a = np.sin(dlat/2)**2 + np.cos(lat1) * np.cos(lat2) * np.sin(dlon/2)**2\n",
    "    c = 2 * np.arctan2(np.sqrt(a), np.sqrt(1-a))\n",
    "    distance = r*c\n",
    "    \n",
    "    return distance"
   ]
  },
  {
   "cell_type": "code",
   "execution_count": 25,
   "metadata": {},
   "outputs": [
    {
     "name": "stdout",
     "output_type": "stream",
     "text": [
      "Wall time: 139 ms\n"
     ]
    }
   ],
   "source": [
    "%%time\n",
    "# Add new cloumn \"distance\" to the data\n",
    "data['distance'] = getDistance(data.pickup_latitude, data.pickup_longitude, \n",
    "                                      data.dropoff_latitude, data.dropoff_longitude)"
   ]
  },
  {
   "cell_type": "code",
   "execution_count": 26,
   "metadata": {
    "scrolled": true
   },
   "outputs": [
    {
     "data": {
      "text/plain": [
       "count    996327.000000\n",
       "mean         18.691266\n",
       "std         358.089205\n",
       "min           0.000000\n",
       "25%           1.214427\n",
       "50%           2.118858\n",
       "75%           3.888064\n",
       "max       12608.542887\n",
       "Name: distance, dtype: float64"
      ]
     },
     "execution_count": 26,
     "metadata": {},
     "output_type": "execute_result"
    }
   ],
   "source": [
    "data['distance'].describe()"
   ]
  },
  {
   "cell_type": "markdown",
   "metadata": {},
   "source": [
    "We have some distances which are zero. so we remove all"
   ]
  },
  {
   "cell_type": "code",
   "execution_count": 27,
   "metadata": {},
   "outputs": [],
   "source": [
    "data = data[(data['distance'] > 0)]"
   ]
  },
  {
   "cell_type": "code",
   "execution_count": 28,
   "metadata": {},
   "outputs": [
    {
     "data": {
      "text/plain": [
       "count    967904.000000\n",
       "mean         19.240145\n",
       "std         363.294371\n",
       "min           0.000084\n",
       "25%           1.281508\n",
       "50%           2.184615\n",
       "75%           3.974757\n",
       "max       12608.542887\n",
       "Name: distance, dtype: float64"
      ]
     },
     "execution_count": 28,
     "metadata": {},
     "output_type": "execute_result"
    }
   ],
   "source": [
    "data['distance'].describe()"
   ]
  },
  {
   "cell_type": "code",
   "execution_count": 29,
   "metadata": {},
   "outputs": [
    {
     "name": "stdout",
     "output_type": "stream",
     "text": [
      "        fare_amount          pickup_datetime  pickup_longitude  \\\n",
      "0              4.50  2009-06-15 17:26:21 UTC        -73.844311   \n",
      "10             5.30  2012-04-08 07:30:50 UTC        -73.996335   \n",
      "22             4.50  2009-08-06 18:17:23 UTC        -73.991707   \n",
      "33             5.70  2011-09-07 14:05:00 UTC        -73.976162   \n",
      "43            12.10  2009-06-10 21:28:00 UTC        -73.988558   \n",
      "...             ...                      ...               ...   \n",
      "999953        14.50  2010-07-14 10:41:03 UTC        -73.977654   \n",
      "999963         6.50  2009-11-07 02:48:46 UTC        -73.987891   \n",
      "999973        11.30  2011-05-07 12:53:00 UTC        -73.952537   \n",
      "999984        44.33  2014-11-02 14:09:53 UTC        -73.872276   \n",
      "999995         7.00  2014-09-13 21:44:38 UTC        -73.976676   \n",
      "\n",
      "        pickup_latitude  dropoff_longitude  dropoff_latitude  passenger_count  \\\n",
      "0             40.721319         -73.841610         40.712278                1   \n",
      "10            40.737142         -73.980721         40.733559                1   \n",
      "22            40.770505         -73.985459         40.763671                1   \n",
      "33            40.744988         -73.990002         40.738323                2   \n",
      "43            40.737200         -73.958688         40.780748                1   \n",
      "...                 ...                ...               ...              ...   \n",
      "999953        40.753787         -73.954179         40.806058                1   \n",
      "999963        40.729417         -73.989511         40.716104                2   \n",
      "999973        40.808417         -73.953065         40.803848                5   \n",
      "999984        40.774264         -73.969262         40.756591                2   \n",
      "999995        40.785630         -73.959196         40.775114                1   \n",
      "\n",
      "        abs_diff_longitude  abs_diff_latitude  distance  \n",
      "0                 0.002701           0.009041  1.031896  \n",
      "10                0.015614           0.003583  1.376087  \n",
      "22                0.006248           0.006834  0.925311  \n",
      "33                0.013840           0.006665  1.383106  \n",
      "43                0.029870           0.043548  5.462866  \n",
      "...                    ...                ...       ...  \n",
      "999953            0.023475           0.052271  6.145911  \n",
      "999963            0.001620           0.013313  1.488253  \n",
      "999973            0.000528           0.004569  0.510550  \n",
      "999984            0.096986           0.017673  8.410256  \n",
      "999995            0.017480           0.010516  1.881828  \n",
      "\n",
      "[96791 rows x 10 columns]\n",
      "Wall time: 19 ms\n"
     ]
    }
   ],
   "source": [
    "%%time\n",
    "print(data[::10])"
   ]
  },
  {
   "cell_type": "markdown",
   "metadata": {},
   "source": [
    "### Creating new features like year, month, day, hour and dayOfWeek from pickup_datetime"
   ]
  },
  {
   "cell_type": "code",
   "execution_count": 30,
   "metadata": {},
   "outputs": [],
   "source": [
    "def split_datetime(df):\n",
    "        df['pickup_datetime'] = pd.to_datetime(df['pickup_datetime'], format=\"%Y-%m-%d %H:%M:%S UTC\")\n",
    "        df['year'] = df['pickup_datetime'].dt.year\n",
    "        df['month'] = df['pickup_datetime'].dt.month\n",
    "        df['day'] = df['pickup_datetime'].dt.day\n",
    "        df['hour'] = df['pickup_datetime'].dt.hour\n",
    "        df['dayOfWeek'] = df['pickup_datetime'].dt.dayofweek\n",
    "        \n",
    "        return df"
   ]
  },
  {
   "cell_type": "code",
   "execution_count": 31,
   "metadata": {
    "scrolled": true
   },
   "outputs": [
    {
     "name": "stdout",
     "output_type": "stream",
     "text": [
      "Wall time: 3.46 s\n"
     ]
    },
    {
     "data": {
      "text/html": [
       "<div>\n",
       "<style scoped>\n",
       "    .dataframe tbody tr th:only-of-type {\n",
       "        vertical-align: middle;\n",
       "    }\n",
       "\n",
       "    .dataframe tbody tr th {\n",
       "        vertical-align: top;\n",
       "    }\n",
       "\n",
       "    .dataframe thead th {\n",
       "        text-align: right;\n",
       "    }\n",
       "</style>\n",
       "<table border=\"1\" class=\"dataframe\">\n",
       "  <thead>\n",
       "    <tr style=\"text-align: right;\">\n",
       "      <th></th>\n",
       "      <th>fare_amount</th>\n",
       "      <th>pickup_datetime</th>\n",
       "      <th>pickup_longitude</th>\n",
       "      <th>pickup_latitude</th>\n",
       "      <th>dropoff_longitude</th>\n",
       "      <th>dropoff_latitude</th>\n",
       "      <th>passenger_count</th>\n",
       "      <th>abs_diff_longitude</th>\n",
       "      <th>abs_diff_latitude</th>\n",
       "      <th>distance</th>\n",
       "      <th>year</th>\n",
       "      <th>month</th>\n",
       "      <th>day</th>\n",
       "      <th>hour</th>\n",
       "      <th>dayOfWeek</th>\n",
       "    </tr>\n",
       "  </thead>\n",
       "  <tbody>\n",
       "    <tr>\n",
       "      <td>0</td>\n",
       "      <td>4.5</td>\n",
       "      <td>2009-06-15 17:26:21</td>\n",
       "      <td>-73.844311</td>\n",
       "      <td>40.721319</td>\n",
       "      <td>-73.841610</td>\n",
       "      <td>40.712278</td>\n",
       "      <td>1</td>\n",
       "      <td>0.002701</td>\n",
       "      <td>0.009041</td>\n",
       "      <td>1.031896</td>\n",
       "      <td>2009</td>\n",
       "      <td>6</td>\n",
       "      <td>15</td>\n",
       "      <td>17</td>\n",
       "      <td>0</td>\n",
       "    </tr>\n",
       "    <tr>\n",
       "      <td>1</td>\n",
       "      <td>16.9</td>\n",
       "      <td>2010-01-05 16:52:16</td>\n",
       "      <td>-74.016048</td>\n",
       "      <td>40.711303</td>\n",
       "      <td>-73.979268</td>\n",
       "      <td>40.782004</td>\n",
       "      <td>1</td>\n",
       "      <td>0.036780</td>\n",
       "      <td>0.070701</td>\n",
       "      <td>8.459418</td>\n",
       "      <td>2010</td>\n",
       "      <td>1</td>\n",
       "      <td>5</td>\n",
       "      <td>16</td>\n",
       "      <td>1</td>\n",
       "    </tr>\n",
       "    <tr>\n",
       "      <td>2</td>\n",
       "      <td>5.7</td>\n",
       "      <td>2011-08-18 00:35:00</td>\n",
       "      <td>-73.982738</td>\n",
       "      <td>40.761270</td>\n",
       "      <td>-73.991242</td>\n",
       "      <td>40.750562</td>\n",
       "      <td>2</td>\n",
       "      <td>0.008504</td>\n",
       "      <td>0.010708</td>\n",
       "      <td>1.391052</td>\n",
       "      <td>2011</td>\n",
       "      <td>8</td>\n",
       "      <td>18</td>\n",
       "      <td>0</td>\n",
       "      <td>3</td>\n",
       "    </tr>\n",
       "    <tr>\n",
       "      <td>3</td>\n",
       "      <td>7.7</td>\n",
       "      <td>2012-04-21 04:30:42</td>\n",
       "      <td>-73.987130</td>\n",
       "      <td>40.733143</td>\n",
       "      <td>-73.991567</td>\n",
       "      <td>40.758092</td>\n",
       "      <td>1</td>\n",
       "      <td>0.004437</td>\n",
       "      <td>0.024949</td>\n",
       "      <td>2.802346</td>\n",
       "      <td>2012</td>\n",
       "      <td>4</td>\n",
       "      <td>21</td>\n",
       "      <td>4</td>\n",
       "      <td>5</td>\n",
       "    </tr>\n",
       "    <tr>\n",
       "      <td>4</td>\n",
       "      <td>5.3</td>\n",
       "      <td>2010-03-09 07:51:00</td>\n",
       "      <td>-73.968095</td>\n",
       "      <td>40.768008</td>\n",
       "      <td>-73.956655</td>\n",
       "      <td>40.783762</td>\n",
       "      <td>1</td>\n",
       "      <td>0.011440</td>\n",
       "      <td>0.015754</td>\n",
       "      <td>2.001353</td>\n",
       "      <td>2010</td>\n",
       "      <td>3</td>\n",
       "      <td>9</td>\n",
       "      <td>7</td>\n",
       "      <td>1</td>\n",
       "    </tr>\n",
       "    <tr>\n",
       "      <td>...</td>\n",
       "      <td>...</td>\n",
       "      <td>...</td>\n",
       "      <td>...</td>\n",
       "      <td>...</td>\n",
       "      <td>...</td>\n",
       "      <td>...</td>\n",
       "      <td>...</td>\n",
       "      <td>...</td>\n",
       "      <td>...</td>\n",
       "      <td>...</td>\n",
       "      <td>...</td>\n",
       "      <td>...</td>\n",
       "      <td>...</td>\n",
       "      <td>...</td>\n",
       "      <td>...</td>\n",
       "    </tr>\n",
       "    <tr>\n",
       "      <td>999994</td>\n",
       "      <td>20.0</td>\n",
       "      <td>2014-06-29 22:57:55</td>\n",
       "      <td>-73.872919</td>\n",
       "      <td>40.774106</td>\n",
       "      <td>-73.796524</td>\n",
       "      <td>40.775041</td>\n",
       "      <td>2</td>\n",
       "      <td>0.076395</td>\n",
       "      <td>0.000935</td>\n",
       "      <td>6.440845</td>\n",
       "      <td>2014</td>\n",
       "      <td>6</td>\n",
       "      <td>29</td>\n",
       "      <td>22</td>\n",
       "      <td>6</td>\n",
       "    </tr>\n",
       "    <tr>\n",
       "      <td>999995</td>\n",
       "      <td>7.0</td>\n",
       "      <td>2014-09-13 21:44:38</td>\n",
       "      <td>-73.976676</td>\n",
       "      <td>40.785630</td>\n",
       "      <td>-73.959196</td>\n",
       "      <td>40.775114</td>\n",
       "      <td>1</td>\n",
       "      <td>0.017480</td>\n",
       "      <td>0.010516</td>\n",
       "      <td>1.881828</td>\n",
       "      <td>2014</td>\n",
       "      <td>9</td>\n",
       "      <td>13</td>\n",
       "      <td>21</td>\n",
       "      <td>5</td>\n",
       "    </tr>\n",
       "    <tr>\n",
       "      <td>999997</td>\n",
       "      <td>10.5</td>\n",
       "      <td>2013-04-26 14:03:00</td>\n",
       "      <td>-73.978423</td>\n",
       "      <td>40.751135</td>\n",
       "      <td>-73.993397</td>\n",
       "      <td>40.762197</td>\n",
       "      <td>5</td>\n",
       "      <td>0.014974</td>\n",
       "      <td>0.011062</td>\n",
       "      <td>1.763677</td>\n",
       "      <td>2013</td>\n",
       "      <td>4</td>\n",
       "      <td>26</td>\n",
       "      <td>14</td>\n",
       "      <td>4</td>\n",
       "    </tr>\n",
       "    <tr>\n",
       "      <td>999998</td>\n",
       "      <td>6.9</td>\n",
       "      <td>2011-07-08 00:29:00</td>\n",
       "      <td>-73.980317</td>\n",
       "      <td>40.759482</td>\n",
       "      <td>-73.976832</td>\n",
       "      <td>40.743122</td>\n",
       "      <td>1</td>\n",
       "      <td>0.003485</td>\n",
       "      <td>0.016360</td>\n",
       "      <td>1.844708</td>\n",
       "      <td>2011</td>\n",
       "      <td>7</td>\n",
       "      <td>8</td>\n",
       "      <td>0</td>\n",
       "      <td>4</td>\n",
       "    </tr>\n",
       "    <tr>\n",
       "      <td>999999</td>\n",
       "      <td>4.1</td>\n",
       "      <td>2009-12-31 14:30:00</td>\n",
       "      <td>-74.006635</td>\n",
       "      <td>40.741598</td>\n",
       "      <td>-73.999450</td>\n",
       "      <td>40.745702</td>\n",
       "      <td>1</td>\n",
       "      <td>0.007185</td>\n",
       "      <td>0.004104</td>\n",
       "      <td>0.758884</td>\n",
       "      <td>2009</td>\n",
       "      <td>12</td>\n",
       "      <td>31</td>\n",
       "      <td>14</td>\n",
       "      <td>3</td>\n",
       "    </tr>\n",
       "  </tbody>\n",
       "</table>\n",
       "<p>967904 rows × 15 columns</p>\n",
       "</div>"
      ],
      "text/plain": [
       "        fare_amount     pickup_datetime  pickup_longitude  pickup_latitude  \\\n",
       "0               4.5 2009-06-15 17:26:21        -73.844311        40.721319   \n",
       "1              16.9 2010-01-05 16:52:16        -74.016048        40.711303   \n",
       "2               5.7 2011-08-18 00:35:00        -73.982738        40.761270   \n",
       "3               7.7 2012-04-21 04:30:42        -73.987130        40.733143   \n",
       "4               5.3 2010-03-09 07:51:00        -73.968095        40.768008   \n",
       "...             ...                 ...               ...              ...   \n",
       "999994         20.0 2014-06-29 22:57:55        -73.872919        40.774106   \n",
       "999995          7.0 2014-09-13 21:44:38        -73.976676        40.785630   \n",
       "999997         10.5 2013-04-26 14:03:00        -73.978423        40.751135   \n",
       "999998          6.9 2011-07-08 00:29:00        -73.980317        40.759482   \n",
       "999999          4.1 2009-12-31 14:30:00        -74.006635        40.741598   \n",
       "\n",
       "        dropoff_longitude  dropoff_latitude  passenger_count  \\\n",
       "0              -73.841610         40.712278                1   \n",
       "1              -73.979268         40.782004                1   \n",
       "2              -73.991242         40.750562                2   \n",
       "3              -73.991567         40.758092                1   \n",
       "4              -73.956655         40.783762                1   \n",
       "...                   ...               ...              ...   \n",
       "999994         -73.796524         40.775041                2   \n",
       "999995         -73.959196         40.775114                1   \n",
       "999997         -73.993397         40.762197                5   \n",
       "999998         -73.976832         40.743122                1   \n",
       "999999         -73.999450         40.745702                1   \n",
       "\n",
       "        abs_diff_longitude  abs_diff_latitude  distance  year  month  day  \\\n",
       "0                 0.002701           0.009041  1.031896  2009      6   15   \n",
       "1                 0.036780           0.070701  8.459418  2010      1    5   \n",
       "2                 0.008504           0.010708  1.391052  2011      8   18   \n",
       "3                 0.004437           0.024949  2.802346  2012      4   21   \n",
       "4                 0.011440           0.015754  2.001353  2010      3    9   \n",
       "...                    ...                ...       ...   ...    ...  ...   \n",
       "999994            0.076395           0.000935  6.440845  2014      6   29   \n",
       "999995            0.017480           0.010516  1.881828  2014      9   13   \n",
       "999997            0.014974           0.011062  1.763677  2013      4   26   \n",
       "999998            0.003485           0.016360  1.844708  2011      7    8   \n",
       "999999            0.007185           0.004104  0.758884  2009     12   31   \n",
       "\n",
       "        hour  dayOfWeek  \n",
       "0         17          0  \n",
       "1         16          1  \n",
       "2          0          3  \n",
       "3          4          5  \n",
       "4          7          1  \n",
       "...      ...        ...  \n",
       "999994    22          6  \n",
       "999995    21          5  \n",
       "999997    14          4  \n",
       "999998     0          4  \n",
       "999999    14          3  \n",
       "\n",
       "[967904 rows x 15 columns]"
      ]
     },
     "execution_count": 31,
     "metadata": {},
     "output_type": "execute_result"
    }
   ],
   "source": [
    "%%time\n",
    "split_datetime(data)"
   ]
  },
  {
   "cell_type": "code",
   "execution_count": 32,
   "metadata": {},
   "outputs": [
    {
     "data": {
      "text/plain": [
       "Text(0, 0.5, 'Fare')"
      ]
     },
     "execution_count": 32,
     "metadata": {},
     "output_type": "execute_result"
    },
    {
     "data": {
      "image/png": "[encoded data removed]",
      "text/plain": [
       "<Figure size 720x504 with 1 Axes>"
      ]
     },
     "metadata": {
      "needs_background": "light"
     },
     "output_type": "display_data"
    }
   ],
   "source": [
    "plt.figure(figsize=(10,7)) \n",
    "plt.scatter(x=data['dayOfWeek'], y=data['fare_amount'], s=1.5) \n",
    "plt.xlabel('Day of Week') \n",
    "plt.ylabel('Fare')"
   ]
  },
  {
   "cell_type": "markdown",
   "metadata": {},
   "source": [
    "The highest fare_amount seen to be on a Friday while the lowest is on s Saturday"
   ]
  },
  {
   "cell_type": "markdown",
   "metadata": {},
   "source": [
    "Now that we have split pickup_datetime into year, month, day, hour and year"
   ]
  },
  {
   "cell_type": "markdown",
   "metadata": {},
   "source": [
    "### Let's take a look at hour and dayOfWeek"
   ]
  },
  {
   "cell_type": "code",
   "execution_count": 33,
   "metadata": {
    "scrolled": true
   },
   "outputs": [
    {
     "name": "stdout",
     "output_type": "stream",
     "text": [
      "Wall time: 31 ms\n"
     ]
    },
    {
     "data": {
      "text/plain": [
       "count    967904.000000\n",
       "mean         13.509839\n",
       "std           6.512759\n",
       "min           0.000000\n",
       "25%           9.000000\n",
       "50%          14.000000\n",
       "75%          19.000000\n",
       "max          23.000000\n",
       "Name: hour, dtype: float64"
      ]
     },
     "execution_count": 33,
     "metadata": {},
     "output_type": "execute_result"
    }
   ],
   "source": [
    "%%time\n",
    "data['hour'].describe()"
   ]
  },
  {
   "cell_type": "markdown",
   "metadata": {},
   "source": [
    "According to New York Times, rush hours is ususally between 7 to 9AM and from 4 to 6PM. Let's create a new feature from hour"
   ]
  },
  {
   "cell_type": "code",
   "execution_count": 34,
   "metadata": {},
   "outputs": [],
   "source": [
    "# 1 for rush hour, 0 for not\n",
    "def rush_hour(hour):\n",
    "    if hour in range(7, 10) or hour in range(16, 19):\n",
    "        return 1\n",
    "    else:\n",
    "        return 0"
   ]
  },
  {
   "cell_type": "code",
   "execution_count": 35,
   "metadata": {
    "scrolled": true
   },
   "outputs": [
    {
     "name": "stdout",
     "output_type": "stream",
     "text": [
      "Wall time: 781 ms\n"
     ]
    }
   ],
   "source": [
    "%%time\n",
    "data['rush_hour'] = data['hour'].apply(rush_hour)"
   ]
  },
  {
   "cell_type": "code",
   "execution_count": 36,
   "metadata": {},
   "outputs": [
    {
     "data": {
      "text/html": [
       "<div>\n",
       "<style scoped>\n",
       "    .dataframe tbody tr th:only-of-type {\n",
       "        vertical-align: middle;\n",
       "    }\n",
       "\n",
       "    .dataframe tbody tr th {\n",
       "        vertical-align: top;\n",
       "    }\n",
       "\n",
       "    .dataframe thead th {\n",
       "        text-align: right;\n",
       "    }\n",
       "</style>\n",
       "<table border=\"1\" class=\"dataframe\">\n",
       "  <thead>\n",
       "    <tr style=\"text-align: right;\">\n",
       "      <th></th>\n",
       "      <th>fare_amount</th>\n",
       "      <th>pickup_longitude</th>\n",
       "      <th>pickup_latitude</th>\n",
       "      <th>dropoff_longitude</th>\n",
       "      <th>dropoff_latitude</th>\n",
       "      <th>passenger_count</th>\n",
       "      <th>abs_diff_longitude</th>\n",
       "      <th>abs_diff_latitude</th>\n",
       "      <th>distance</th>\n",
       "      <th>year</th>\n",
       "      <th>month</th>\n",
       "      <th>day</th>\n",
       "      <th>hour</th>\n",
       "      <th>dayOfWeek</th>\n",
       "      <th>rush_hour</th>\n",
       "    </tr>\n",
       "  </thead>\n",
       "  <tbody>\n",
       "    <tr>\n",
       "      <td>count</td>\n",
       "      <td>967904.000000</td>\n",
       "      <td>967904.000000</td>\n",
       "      <td>967904.000000</td>\n",
       "      <td>967904.000000</td>\n",
       "      <td>967904.000000</td>\n",
       "      <td>967904.000000</td>\n",
       "      <td>967904.000000</td>\n",
       "      <td>967904.000000</td>\n",
       "      <td>967904.000000</td>\n",
       "      <td>967904.000000</td>\n",
       "      <td>967904.000000</td>\n",
       "      <td>967904.000000</td>\n",
       "      <td>967904.000000</td>\n",
       "      <td>967904.000000</td>\n",
       "      <td>967904.000000</td>\n",
       "    </tr>\n",
       "    <tr>\n",
       "      <td>mean</td>\n",
       "      <td>11.353128</td>\n",
       "      <td>-73.841819</td>\n",
       "      <td>40.655363</td>\n",
       "      <td>-73.840211</td>\n",
       "      <td>40.654749</td>\n",
       "      <td>1.691507</td>\n",
       "      <td>0.159680</td>\n",
       "      <td>0.091995</td>\n",
       "      <td>19.240145</td>\n",
       "      <td>2011.747038</td>\n",
       "      <td>6.270126</td>\n",
       "      <td>15.694734</td>\n",
       "      <td>13.509839</td>\n",
       "      <td>3.039796</td>\n",
       "      <td>0.279312</td>\n",
       "    </tr>\n",
       "    <tr>\n",
       "      <td>std</td>\n",
       "      <td>9.700881</td>\n",
       "      <td>3.495899</td>\n",
       "      <td>2.854369</td>\n",
       "      <td>3.502660</td>\n",
       "      <td>2.862116</td>\n",
       "      <td>1.306600</td>\n",
       "      <td>3.168096</td>\n",
       "      <td>1.689363</td>\n",
       "      <td>363.294371</td>\n",
       "      <td>1.867039</td>\n",
       "      <td>3.436686</td>\n",
       "      <td>8.682551</td>\n",
       "      <td>6.512759</td>\n",
       "      <td>1.949527</td>\n",
       "      <td>0.448661</td>\n",
       "    </tr>\n",
       "    <tr>\n",
       "      <td>min</td>\n",
       "      <td>0.010000</td>\n",
       "      <td>-128.175950</td>\n",
       "      <td>-74.016587</td>\n",
       "      <td>-121.391248</td>\n",
       "      <td>-74.035197</td>\n",
       "      <td>1.000000</td>\n",
       "      <td>0.000000</td>\n",
       "      <td>0.000000</td>\n",
       "      <td>0.000084</td>\n",
       "      <td>2009.000000</td>\n",
       "      <td>1.000000</td>\n",
       "      <td>1.000000</td>\n",
       "      <td>0.000000</td>\n",
       "      <td>0.000000</td>\n",
       "      <td>0.000000</td>\n",
       "    </tr>\n",
       "    <tr>\n",
       "      <td>25%</td>\n",
       "      <td>6.000000</td>\n",
       "      <td>-73.992267</td>\n",
       "      <td>40.736487</td>\n",
       "      <td>-73.991563</td>\n",
       "      <td>40.735454</td>\n",
       "      <td>1.000000</td>\n",
       "      <td>0.006332</td>\n",
       "      <td>0.007148</td>\n",
       "      <td>1.281508</td>\n",
       "      <td>2010.000000</td>\n",
       "      <td>3.000000</td>\n",
       "      <td>8.000000</td>\n",
       "      <td>9.000000</td>\n",
       "      <td>1.000000</td>\n",
       "      <td>0.000000</td>\n",
       "    </tr>\n",
       "    <tr>\n",
       "      <td>50%</td>\n",
       "      <td>8.500000</td>\n",
       "      <td>-73.982087</td>\n",
       "      <td>40.753366</td>\n",
       "      <td>-73.980587</td>\n",
       "      <td>40.753832</td>\n",
       "      <td>1.000000</td>\n",
       "      <td>0.012894</td>\n",
       "      <td>0.014385</td>\n",
       "      <td>2.184615</td>\n",
       "      <td>2012.000000</td>\n",
       "      <td>6.000000</td>\n",
       "      <td>16.000000</td>\n",
       "      <td>14.000000</td>\n",
       "      <td>3.000000</td>\n",
       "      <td>0.000000</td>\n",
       "    </tr>\n",
       "    <tr>\n",
       "      <td>75%</td>\n",
       "      <td>12.500000</td>\n",
       "      <td>-73.968352</td>\n",
       "      <td>40.767546</td>\n",
       "      <td>-73.965342</td>\n",
       "      <td>40.768403</td>\n",
       "      <td>2.000000</td>\n",
       "      <td>0.024223</td>\n",
       "      <td>0.027524</td>\n",
       "      <td>3.974757</td>\n",
       "      <td>2013.000000</td>\n",
       "      <td>9.000000</td>\n",
       "      <td>23.000000</td>\n",
       "      <td>19.000000</td>\n",
       "      <td>5.000000</td>\n",
       "      <td>1.000000</td>\n",
       "    </tr>\n",
       "    <tr>\n",
       "      <td>max</td>\n",
       "      <td>495.000000</td>\n",
       "      <td>40.850357</td>\n",
       "      <td>69.400000</td>\n",
       "      <td>45.581619</td>\n",
       "      <td>81.510177</td>\n",
       "      <td>6.000000</td>\n",
       "      <td>119.444978</td>\n",
       "      <td>81.510177</td>\n",
       "      <td>12608.542887</td>\n",
       "      <td>2015.000000</td>\n",
       "      <td>12.000000</td>\n",
       "      <td>31.000000</td>\n",
       "      <td>23.000000</td>\n",
       "      <td>6.000000</td>\n",
       "      <td>1.000000</td>\n",
       "    </tr>\n",
       "  </tbody>\n",
       "</table>\n",
       "</div>"
      ],
      "text/plain": [
       "         fare_amount  pickup_longitude  pickup_latitude  dropoff_longitude  \\\n",
       "count  967904.000000     967904.000000    967904.000000      967904.000000   \n",
       "mean       11.353128        -73.841819        40.655363         -73.840211   \n",
       "std         9.700881          3.495899         2.854369           3.502660   \n",
       "min         0.010000       -128.175950       -74.016587        -121.391248   \n",
       "25%         6.000000        -73.992267        40.736487         -73.991563   \n",
       "50%         8.500000        -73.982087        40.753366         -73.980587   \n",
       "75%        12.500000        -73.968352        40.767546         -73.965342   \n",
       "max       495.000000         40.850357        69.400000          45.581619   \n",
       "\n",
       "       dropoff_latitude  passenger_count  abs_diff_longitude  \\\n",
       "count     967904.000000    967904.000000       967904.000000   \n",
       "mean          40.654749         1.691507            0.159680   \n",
       "std            2.862116         1.306600            3.168096   \n",
       "min          -74.035197         1.000000            0.000000   \n",
       "25%           40.735454         1.000000            0.006332   \n",
       "50%           40.753832         1.000000            0.012894   \n",
       "75%           40.768403         2.000000            0.024223   \n",
       "max           81.510177         6.000000          119.444978   \n",
       "\n",
       "       abs_diff_latitude       distance           year          month  \\\n",
       "count      967904.000000  967904.000000  967904.000000  967904.000000   \n",
       "mean            0.091995      19.240145    2011.747038       6.270126   \n",
       "std             1.689363     363.294371       1.867039       3.436686   \n",
       "min             0.000000       0.000084    2009.000000       1.000000   \n",
       "25%             0.007148       1.281508    2010.000000       3.000000   \n",
       "50%             0.014385       2.184615    2012.000000       6.000000   \n",
       "75%             0.027524       3.974757    2013.000000       9.000000   \n",
       "max            81.510177   12608.542887    2015.000000      12.000000   \n",
       "\n",
       "                 day           hour      dayOfWeek      rush_hour  \n",
       "count  967904.000000  967904.000000  967904.000000  967904.000000  \n",
       "mean       15.694734      13.509839       3.039796       0.279312  \n",
       "std         8.682551       6.512759       1.949527       0.448661  \n",
       "min         1.000000       0.000000       0.000000       0.000000  \n",
       "25%         8.000000       9.000000       1.000000       0.000000  \n",
       "50%        16.000000      14.000000       3.000000       0.000000  \n",
       "75%        23.000000      19.000000       5.000000       1.000000  \n",
       "max        31.000000      23.000000       6.000000       1.000000  "
      ]
     },
     "execution_count": 36,
     "metadata": {},
     "output_type": "execute_result"
    }
   ],
   "source": [
    "data.describe()"
   ]
  },
  {
   "cell_type": "code",
   "execution_count": 37,
   "metadata": {},
   "outputs": [
    {
     "name": "stdout",
     "output_type": "stream",
     "text": [
      "Wall time: 25 ms\n"
     ]
    },
    {
     "data": {
      "text/plain": [
       "count    967904.000000\n",
       "mean          3.039796\n",
       "std           1.949527\n",
       "min           0.000000\n",
       "25%           1.000000\n",
       "50%           3.000000\n",
       "75%           5.000000\n",
       "max           6.000000\n",
       "Name: dayOfWeek, dtype: float64"
      ]
     },
     "execution_count": 37,
     "metadata": {},
     "output_type": "execute_result"
    }
   ],
   "source": [
    "%%time\n",
    "data['dayOfWeek'].describe()"
   ]
  },
  {
   "cell_type": "markdown",
   "metadata": {},
   "source": [
    "We can also create a new feature from daysOfWeek. We can check if it's a weekend or not"
   ]
  },
  {
   "cell_type": "code",
   "execution_count": 38,
   "metadata": {},
   "outputs": [],
   "source": [
    "# 1 for weekend, 0 for not\n",
    "def weekend(dayOfWeek):\n",
    "    if dayOfWeek == 0 or dayOfWeek == 6:\n",
    "        return 1\n",
    "    else:\n",
    "        return 0"
   ]
  },
  {
   "cell_type": "code",
   "execution_count": 39,
   "metadata": {},
   "outputs": [
    {
     "name": "stdout",
     "output_type": "stream",
     "text": [
      "Wall time: 309 ms\n"
     ]
    }
   ],
   "source": [
    "%%time\n",
    "data['weekend'] = data['dayOfWeek'].apply(weekend)"
   ]
  },
  {
   "cell_type": "code",
   "execution_count": 40,
   "metadata": {
    "scrolled": true
   },
   "outputs": [
    {
     "data": {
      "text/html": [
       "<div>\n",
       "<style scoped>\n",
       "    .dataframe tbody tr th:only-of-type {\n",
       "        vertical-align: middle;\n",
       "    }\n",
       "\n",
       "    .dataframe tbody tr th {\n",
       "        vertical-align: top;\n",
       "    }\n",
       "\n",
       "    .dataframe thead th {\n",
       "        text-align: right;\n",
       "    }\n",
       "</style>\n",
       "<table border=\"1\" class=\"dataframe\">\n",
       "  <thead>\n",
       "    <tr style=\"text-align: right;\">\n",
       "      <th></th>\n",
       "      <th>fare_amount</th>\n",
       "      <th>pickup_longitude</th>\n",
       "      <th>pickup_latitude</th>\n",
       "      <th>dropoff_longitude</th>\n",
       "      <th>dropoff_latitude</th>\n",
       "      <th>passenger_count</th>\n",
       "      <th>abs_diff_longitude</th>\n",
       "      <th>abs_diff_latitude</th>\n",
       "      <th>distance</th>\n",
       "      <th>year</th>\n",
       "      <th>month</th>\n",
       "      <th>day</th>\n",
       "      <th>hour</th>\n",
       "      <th>dayOfWeek</th>\n",
       "      <th>rush_hour</th>\n",
       "      <th>weekend</th>\n",
       "    </tr>\n",
       "  </thead>\n",
       "  <tbody>\n",
       "    <tr>\n",
       "      <td>count</td>\n",
       "      <td>967904.000000</td>\n",
       "      <td>967904.000000</td>\n",
       "      <td>967904.000000</td>\n",
       "      <td>967904.000000</td>\n",
       "      <td>967904.000000</td>\n",
       "      <td>967904.000000</td>\n",
       "      <td>967904.000000</td>\n",
       "      <td>967904.000000</td>\n",
       "      <td>967904.000000</td>\n",
       "      <td>967904.000000</td>\n",
       "      <td>967904.000000</td>\n",
       "      <td>967904.000000</td>\n",
       "      <td>967904.000000</td>\n",
       "      <td>967904.000000</td>\n",
       "      <td>967904.000000</td>\n",
       "      <td>967904.000000</td>\n",
       "    </tr>\n",
       "    <tr>\n",
       "      <td>mean</td>\n",
       "      <td>11.353128</td>\n",
       "      <td>-73.841819</td>\n",
       "      <td>40.655363</td>\n",
       "      <td>-73.840211</td>\n",
       "      <td>40.654749</td>\n",
       "      <td>1.691507</td>\n",
       "      <td>0.159680</td>\n",
       "      <td>0.091995</td>\n",
       "      <td>19.240145</td>\n",
       "      <td>2011.747038</td>\n",
       "      <td>6.270126</td>\n",
       "      <td>15.694734</td>\n",
       "      <td>13.509839</td>\n",
       "      <td>3.039796</td>\n",
       "      <td>0.279312</td>\n",
       "      <td>0.259752</td>\n",
       "    </tr>\n",
       "    <tr>\n",
       "      <td>std</td>\n",
       "      <td>9.700881</td>\n",
       "      <td>3.495899</td>\n",
       "      <td>2.854369</td>\n",
       "      <td>3.502660</td>\n",
       "      <td>2.862116</td>\n",
       "      <td>1.306600</td>\n",
       "      <td>3.168096</td>\n",
       "      <td>1.689363</td>\n",
       "      <td>363.294371</td>\n",
       "      <td>1.867039</td>\n",
       "      <td>3.436686</td>\n",
       "      <td>8.682551</td>\n",
       "      <td>6.512759</td>\n",
       "      <td>1.949527</td>\n",
       "      <td>0.448661</td>\n",
       "      <td>0.438499</td>\n",
       "    </tr>\n",
       "    <tr>\n",
       "      <td>min</td>\n",
       "      <td>0.010000</td>\n",
       "      <td>-128.175950</td>\n",
       "      <td>-74.016587</td>\n",
       "      <td>-121.391248</td>\n",
       "      <td>-74.035197</td>\n",
       "      <td>1.000000</td>\n",
       "      <td>0.000000</td>\n",
       "      <td>0.000000</td>\n",
       "      <td>0.000084</td>\n",
       "      <td>2009.000000</td>\n",
       "      <td>1.000000</td>\n",
       "      <td>1.000000</td>\n",
       "      <td>0.000000</td>\n",
       "      <td>0.000000</td>\n",
       "      <td>0.000000</td>\n",
       "      <td>0.000000</td>\n",
       "    </tr>\n",
       "    <tr>\n",
       "      <td>25%</td>\n",
       "      <td>6.000000</td>\n",
       "      <td>-73.992267</td>\n",
       "      <td>40.736487</td>\n",
       "      <td>-73.991563</td>\n",
       "      <td>40.735454</td>\n",
       "      <td>1.000000</td>\n",
       "      <td>0.006332</td>\n",
       "      <td>0.007148</td>\n",
       "      <td>1.281508</td>\n",
       "      <td>2010.000000</td>\n",
       "      <td>3.000000</td>\n",
       "      <td>8.000000</td>\n",
       "      <td>9.000000</td>\n",
       "      <td>1.000000</td>\n",
       "      <td>0.000000</td>\n",
       "      <td>0.000000</td>\n",
       "    </tr>\n",
       "    <tr>\n",
       "      <td>50%</td>\n",
       "      <td>8.500000</td>\n",
       "      <td>-73.982087</td>\n",
       "      <td>40.753366</td>\n",
       "      <td>-73.980587</td>\n",
       "      <td>40.753832</td>\n",
       "      <td>1.000000</td>\n",
       "      <td>0.012894</td>\n",
       "      <td>0.014385</td>\n",
       "      <td>2.184615</td>\n",
       "      <td>2012.000000</td>\n",
       "      <td>6.000000</td>\n",
       "      <td>16.000000</td>\n",
       "      <td>14.000000</td>\n",
       "      <td>3.000000</td>\n",
       "      <td>0.000000</td>\n",
       "      <td>0.000000</td>\n",
       "    </tr>\n",
       "    <tr>\n",
       "      <td>75%</td>\n",
       "      <td>12.500000</td>\n",
       "      <td>-73.968352</td>\n",
       "      <td>40.767546</td>\n",
       "      <td>-73.965342</td>\n",
       "      <td>40.768403</td>\n",
       "      <td>2.000000</td>\n",
       "      <td>0.024223</td>\n",
       "      <td>0.027524</td>\n",
       "      <td>3.974757</td>\n",
       "      <td>2013.000000</td>\n",
       "      <td>9.000000</td>\n",
       "      <td>23.000000</td>\n",
       "      <td>19.000000</td>\n",
       "      <td>5.000000</td>\n",
       "      <td>1.000000</td>\n",
       "      <td>1.000000</td>\n",
       "    </tr>\n",
       "    <tr>\n",
       "      <td>max</td>\n",
       "      <td>495.000000</td>\n",
       "      <td>40.850357</td>\n",
       "      <td>69.400000</td>\n",
       "      <td>45.581619</td>\n",
       "      <td>81.510177</td>\n",
       "      <td>6.000000</td>\n",
       "      <td>119.444978</td>\n",
       "      <td>81.510177</td>\n",
       "      <td>12608.542887</td>\n",
       "      <td>2015.000000</td>\n",
       "      <td>12.000000</td>\n",
       "      <td>31.000000</td>\n",
       "      <td>23.000000</td>\n",
       "      <td>6.000000</td>\n",
       "      <td>1.000000</td>\n",
       "      <td>1.000000</td>\n",
       "    </tr>\n",
       "  </tbody>\n",
       "</table>\n",
       "</div>"
      ],
      "text/plain": [
       "         fare_amount  pickup_longitude  pickup_latitude  dropoff_longitude  \\\n",
       "count  967904.000000     967904.000000    967904.000000      967904.000000   \n",
       "mean       11.353128        -73.841819        40.655363         -73.840211   \n",
       "std         9.700881          3.495899         2.854369           3.502660   \n",
       "min         0.010000       -128.175950       -74.016587        -121.391248   \n",
       "25%         6.000000        -73.992267        40.736487         -73.991563   \n",
       "50%         8.500000        -73.982087        40.753366         -73.980587   \n",
       "75%        12.500000        -73.968352        40.767546         -73.965342   \n",
       "max       495.000000         40.850357        69.400000          45.581619   \n",
       "\n",
       "       dropoff_latitude  passenger_count  abs_diff_longitude  \\\n",
       "count     967904.000000    967904.000000       967904.000000   \n",
       "mean          40.654749         1.691507            0.159680   \n",
       "std            2.862116         1.306600            3.168096   \n",
       "min          -74.035197         1.000000            0.000000   \n",
       "25%           40.735454         1.000000            0.006332   \n",
       "50%           40.753832         1.000000            0.012894   \n",
       "75%           40.768403         2.000000            0.024223   \n",
       "max           81.510177         6.000000          119.444978   \n",
       "\n",
       "       abs_diff_latitude       distance           year          month  \\\n",
       "count      967904.000000  967904.000000  967904.000000  967904.000000   \n",
       "mean            0.091995      19.240145    2011.747038       6.270126   \n",
       "std             1.689363     363.294371       1.867039       3.436686   \n",
       "min             0.000000       0.000084    2009.000000       1.000000   \n",
       "25%             0.007148       1.281508    2010.000000       3.000000   \n",
       "50%             0.014385       2.184615    2012.000000       6.000000   \n",
       "75%             0.027524       3.974757    2013.000000       9.000000   \n",
       "max            81.510177   12608.542887    2015.000000      12.000000   \n",
       "\n",
       "                 day           hour      dayOfWeek      rush_hour  \\\n",
       "count  967904.000000  967904.000000  967904.000000  967904.000000   \n",
       "mean       15.694734      13.509839       3.039796       0.279312   \n",
       "std         8.682551       6.512759       1.949527       0.448661   \n",
       "min         1.000000       0.000000       0.000000       0.000000   \n",
       "25%         8.000000       9.000000       1.000000       0.000000   \n",
       "50%        16.000000      14.000000       3.000000       0.000000   \n",
       "75%        23.000000      19.000000       5.000000       1.000000   \n",
       "max        31.000000      23.000000       6.000000       1.000000   \n",
       "\n",
       "             weekend  \n",
       "count  967904.000000  \n",
       "mean        0.259752  \n",
       "std         0.438499  \n",
       "min         0.000000  \n",
       "25%         0.000000  \n",
       "50%         0.000000  \n",
       "75%         1.000000  \n",
       "max         1.000000  "
      ]
     },
     "execution_count": 40,
     "metadata": {},
     "output_type": "execute_result"
    }
   ],
   "source": [
    "data.describe()"
   ]
  },
  {
   "cell_type": "markdown",
   "metadata": {},
   "source": [
    "rush_hour and weekend are categorical either 1 or 0, so we can crerate dummy columns from them"
   ]
  },
  {
   "cell_type": "code",
   "execution_count": 41,
   "metadata": {},
   "outputs": [],
   "source": [
    "data = pd.get_dummies(data, columns=['rush_hour','weekend'])"
   ]
  },
  {
   "cell_type": "code",
   "execution_count": 42,
   "metadata": {},
   "outputs": [
    {
     "data": {
      "text/html": [
       "<div>\n",
       "<style scoped>\n",
       "    .dataframe tbody tr th:only-of-type {\n",
       "        vertical-align: middle;\n",
       "    }\n",
       "\n",
       "    .dataframe tbody tr th {\n",
       "        vertical-align: top;\n",
       "    }\n",
       "\n",
       "    .dataframe thead th {\n",
       "        text-align: right;\n",
       "    }\n",
       "</style>\n",
       "<table border=\"1\" class=\"dataframe\">\n",
       "  <thead>\n",
       "    <tr style=\"text-align: right;\">\n",
       "      <th></th>\n",
       "      <th>fare_amount</th>\n",
       "      <th>pickup_longitude</th>\n",
       "      <th>pickup_latitude</th>\n",
       "      <th>dropoff_longitude</th>\n",
       "      <th>dropoff_latitude</th>\n",
       "      <th>passenger_count</th>\n",
       "      <th>abs_diff_longitude</th>\n",
       "      <th>abs_diff_latitude</th>\n",
       "      <th>distance</th>\n",
       "      <th>year</th>\n",
       "      <th>month</th>\n",
       "      <th>day</th>\n",
       "      <th>hour</th>\n",
       "      <th>dayOfWeek</th>\n",
       "      <th>rush_hour_0</th>\n",
       "      <th>rush_hour_1</th>\n",
       "      <th>weekend_0</th>\n",
       "      <th>weekend_1</th>\n",
       "    </tr>\n",
       "  </thead>\n",
       "  <tbody>\n",
       "    <tr>\n",
       "      <td>count</td>\n",
       "      <td>967904.000000</td>\n",
       "      <td>967904.000000</td>\n",
       "      <td>967904.000000</td>\n",
       "      <td>967904.000000</td>\n",
       "      <td>967904.000000</td>\n",
       "      <td>967904.000000</td>\n",
       "      <td>967904.000000</td>\n",
       "      <td>967904.000000</td>\n",
       "      <td>967904.000000</td>\n",
       "      <td>967904.000000</td>\n",
       "      <td>967904.000000</td>\n",
       "      <td>967904.000000</td>\n",
       "      <td>967904.000000</td>\n",
       "      <td>967904.000000</td>\n",
       "      <td>967904.000000</td>\n",
       "      <td>967904.000000</td>\n",
       "      <td>967904.000000</td>\n",
       "      <td>967904.000000</td>\n",
       "    </tr>\n",
       "    <tr>\n",
       "      <td>mean</td>\n",
       "      <td>11.353128</td>\n",
       "      <td>-73.841819</td>\n",
       "      <td>40.655363</td>\n",
       "      <td>-73.840211</td>\n",
       "      <td>40.654749</td>\n",
       "      <td>1.691507</td>\n",
       "      <td>0.159680</td>\n",
       "      <td>0.091995</td>\n",
       "      <td>19.240145</td>\n",
       "      <td>2011.747038</td>\n",
       "      <td>6.270126</td>\n",
       "      <td>15.694734</td>\n",
       "      <td>13.509839</td>\n",
       "      <td>3.039796</td>\n",
       "      <td>0.720688</td>\n",
       "      <td>0.279312</td>\n",
       "      <td>0.740248</td>\n",
       "      <td>0.259752</td>\n",
       "    </tr>\n",
       "    <tr>\n",
       "      <td>std</td>\n",
       "      <td>9.700881</td>\n",
       "      <td>3.495899</td>\n",
       "      <td>2.854369</td>\n",
       "      <td>3.502660</td>\n",
       "      <td>2.862116</td>\n",
       "      <td>1.306600</td>\n",
       "      <td>3.168096</td>\n",
       "      <td>1.689363</td>\n",
       "      <td>363.294371</td>\n",
       "      <td>1.867039</td>\n",
       "      <td>3.436686</td>\n",
       "      <td>8.682551</td>\n",
       "      <td>6.512759</td>\n",
       "      <td>1.949527</td>\n",
       "      <td>0.448661</td>\n",
       "      <td>0.448661</td>\n",
       "      <td>0.438499</td>\n",
       "      <td>0.438499</td>\n",
       "    </tr>\n",
       "    <tr>\n",
       "      <td>min</td>\n",
       "      <td>0.010000</td>\n",
       "      <td>-128.175950</td>\n",
       "      <td>-74.016587</td>\n",
       "      <td>-121.391248</td>\n",
       "      <td>-74.035197</td>\n",
       "      <td>1.000000</td>\n",
       "      <td>0.000000</td>\n",
       "      <td>0.000000</td>\n",
       "      <td>0.000084</td>\n",
       "      <td>2009.000000</td>\n",
       "      <td>1.000000</td>\n",
       "      <td>1.000000</td>\n",
       "      <td>0.000000</td>\n",
       "      <td>0.000000</td>\n",
       "      <td>0.000000</td>\n",
       "      <td>0.000000</td>\n",
       "      <td>0.000000</td>\n",
       "      <td>0.000000</td>\n",
       "    </tr>\n",
       "    <tr>\n",
       "      <td>25%</td>\n",
       "      <td>6.000000</td>\n",
       "      <td>-73.992267</td>\n",
       "      <td>40.736487</td>\n",
       "      <td>-73.991563</td>\n",
       "      <td>40.735454</td>\n",
       "      <td>1.000000</td>\n",
       "      <td>0.006332</td>\n",
       "      <td>0.007148</td>\n",
       "      <td>1.281508</td>\n",
       "      <td>2010.000000</td>\n",
       "      <td>3.000000</td>\n",
       "      <td>8.000000</td>\n",
       "      <td>9.000000</td>\n",
       "      <td>1.000000</td>\n",
       "      <td>0.000000</td>\n",
       "      <td>0.000000</td>\n",
       "      <td>0.000000</td>\n",
       "      <td>0.000000</td>\n",
       "    </tr>\n",
       "    <tr>\n",
       "      <td>50%</td>\n",
       "      <td>8.500000</td>\n",
       "      <td>-73.982087</td>\n",
       "      <td>40.753366</td>\n",
       "      <td>-73.980587</td>\n",
       "      <td>40.753832</td>\n",
       "      <td>1.000000</td>\n",
       "      <td>0.012894</td>\n",
       "      <td>0.014385</td>\n",
       "      <td>2.184615</td>\n",
       "      <td>2012.000000</td>\n",
       "      <td>6.000000</td>\n",
       "      <td>16.000000</td>\n",
       "      <td>14.000000</td>\n",
       "      <td>3.000000</td>\n",
       "      <td>1.000000</td>\n",
       "      <td>0.000000</td>\n",
       "      <td>1.000000</td>\n",
       "      <td>0.000000</td>\n",
       "    </tr>\n",
       "    <tr>\n",
       "      <td>75%</td>\n",
       "      <td>12.500000</td>\n",
       "      <td>-73.968352</td>\n",
       "      <td>40.767546</td>\n",
       "      <td>-73.965342</td>\n",
       "      <td>40.768403</td>\n",
       "      <td>2.000000</td>\n",
       "      <td>0.024223</td>\n",
       "      <td>0.027524</td>\n",
       "      <td>3.974757</td>\n",
       "      <td>2013.000000</td>\n",
       "      <td>9.000000</td>\n",
       "      <td>23.000000</td>\n",
       "      <td>19.000000</td>\n",
       "      <td>5.000000</td>\n",
       "      <td>1.000000</td>\n",
       "      <td>1.000000</td>\n",
       "      <td>1.000000</td>\n",
       "      <td>1.000000</td>\n",
       "    </tr>\n",
       "    <tr>\n",
       "      <td>max</td>\n",
       "      <td>495.000000</td>\n",
       "      <td>40.850357</td>\n",
       "      <td>69.400000</td>\n",
       "      <td>45.581619</td>\n",
       "      <td>81.510177</td>\n",
       "      <td>6.000000</td>\n",
       "      <td>119.444978</td>\n",
       "      <td>81.510177</td>\n",
       "      <td>12608.542887</td>\n",
       "      <td>2015.000000</td>\n",
       "      <td>12.000000</td>\n",
       "      <td>31.000000</td>\n",
       "      <td>23.000000</td>\n",
       "      <td>6.000000</td>\n",
       "      <td>1.000000</td>\n",
       "      <td>1.000000</td>\n",
       "      <td>1.000000</td>\n",
       "      <td>1.000000</td>\n",
       "    </tr>\n",
       "  </tbody>\n",
       "</table>\n",
       "</div>"
      ],
      "text/plain": [
       "         fare_amount  pickup_longitude  pickup_latitude  dropoff_longitude  \\\n",
       "count  967904.000000     967904.000000    967904.000000      967904.000000   \n",
       "mean       11.353128        -73.841819        40.655363         -73.840211   \n",
       "std         9.700881          3.495899         2.854369           3.502660   \n",
       "min         0.010000       -128.175950       -74.016587        -121.391248   \n",
       "25%         6.000000        -73.992267        40.736487         -73.991563   \n",
       "50%         8.500000        -73.982087        40.753366         -73.980587   \n",
       "75%        12.500000        -73.968352        40.767546         -73.965342   \n",
       "max       495.000000         40.850357        69.400000          45.581619   \n",
       "\n",
       "       dropoff_latitude  passenger_count  abs_diff_longitude  \\\n",
       "count     967904.000000    967904.000000       967904.000000   \n",
       "mean          40.654749         1.691507            0.159680   \n",
       "std            2.862116         1.306600            3.168096   \n",
       "min          -74.035197         1.000000            0.000000   \n",
       "25%           40.735454         1.000000            0.006332   \n",
       "50%           40.753832         1.000000            0.012894   \n",
       "75%           40.768403         2.000000            0.024223   \n",
       "max           81.510177         6.000000          119.444978   \n",
       "\n",
       "       abs_diff_latitude       distance           year          month  \\\n",
       "count      967904.000000  967904.000000  967904.000000  967904.000000   \n",
       "mean            0.091995      19.240145    2011.747038       6.270126   \n",
       "std             1.689363     363.294371       1.867039       3.436686   \n",
       "min             0.000000       0.000084    2009.000000       1.000000   \n",
       "25%             0.007148       1.281508    2010.000000       3.000000   \n",
       "50%             0.014385       2.184615    2012.000000       6.000000   \n",
       "75%             0.027524       3.974757    2013.000000       9.000000   \n",
       "max            81.510177   12608.542887    2015.000000      12.000000   \n",
       "\n",
       "                 day           hour      dayOfWeek    rush_hour_0  \\\n",
       "count  967904.000000  967904.000000  967904.000000  967904.000000   \n",
       "mean       15.694734      13.509839       3.039796       0.720688   \n",
       "std         8.682551       6.512759       1.949527       0.448661   \n",
       "min         1.000000       0.000000       0.000000       0.000000   \n",
       "25%         8.000000       9.000000       1.000000       0.000000   \n",
       "50%        16.000000      14.000000       3.000000       1.000000   \n",
       "75%        23.000000      19.000000       5.000000       1.000000   \n",
       "max        31.000000      23.000000       6.000000       1.000000   \n",
       "\n",
       "         rush_hour_1      weekend_0      weekend_1  \n",
       "count  967904.000000  967904.000000  967904.000000  \n",
       "mean        0.279312       0.740248       0.259752  \n",
       "std         0.448661       0.438499       0.438499  \n",
       "min         0.000000       0.000000       0.000000  \n",
       "25%         0.000000       0.000000       0.000000  \n",
       "50%         0.000000       1.000000       0.000000  \n",
       "75%         1.000000       1.000000       1.000000  \n",
       "max         1.000000       1.000000       1.000000  "
      ]
     },
     "execution_count": 42,
     "metadata": {},
     "output_type": "execute_result"
    }
   ],
   "source": [
    "data.describe()"
   ]
  },
  {
   "cell_type": "code",
   "execution_count": 43,
   "metadata": {},
   "outputs": [
    {
     "data": {
      "text/plain": [
       "Text(0.5, 1.0, 'Fare Amount over Years')"
      ]
     },
     "execution_count": 43,
     "metadata": {},
     "output_type": "execute_result"
    },
    {
     "data": {
      "image/png": "[encoded data removed]",
      "text/plain": [
       "<Figure size 432x288 with 1 Axes>"
      ]
     },
     "metadata": {
      "needs_background": "light"
     },
     "output_type": "display_data"
    }
   ],
   "source": [
    "sns.barplot(x=data['year'],y=data[\"fare_amount\"],data=data).set_title(\"Fare Amount over Years\")"
   ]
  },
  {
   "cell_type": "markdown",
   "metadata": {},
   "source": [
    "From the graph above, it Looks like fares have been incrasing over the years."
   ]
  },
  {
   "cell_type": "code",
   "execution_count": 44,
   "metadata": {},
   "outputs": [
    {
     "name": "stdout",
     "output_type": "stream",
     "text": [
      "Wall time: 40 ms\n"
     ]
    }
   ],
   "source": [
    "%%time\n",
    "feature_cols = ['pickup_longitude','pickup_latitude','dropoff_longitude','dropoff_latitude','passenger_count',\n",
    "                'abs_diff_longitude','abs_diff_latitude','distance','year','month','day','hour','dayOfWeek',\n",
    "                'rush_hour_0','rush_hour_1','weekend_0','weekend_1']\n",
    "\n",
    "X = data[feature_cols] \n",
    "y = data['fare_amount']"
   ]
  },
  {
   "cell_type": "markdown",
   "metadata": {},
   "source": [
    "# Regression Alogorithms"
   ]
  },
  {
   "cell_type": "markdown",
   "metadata": {},
   "source": [
    "### training of the datatset"
   ]
  },
  {
   "cell_type": "code",
   "execution_count": 45,
   "metadata": {},
   "outputs": [
    {
     "name": "stdout",
     "output_type": "stream",
     "text": [
      "Wall time: 236 ms\n"
     ]
    }
   ],
   "source": [
    "%%time\n",
    "X_train, X_test, y_train, y_test = train_test_split(X, y, test_size=0.3, \n",
    "                                                    random_state=2)"
   ]
  },
  {
   "cell_type": "markdown",
   "metadata": {},
   "source": [
    "# Linear Regression"
   ]
  },
  {
   "cell_type": "code",
   "execution_count": 46,
   "metadata": {},
   "outputs": [
    {
     "name": "stdout",
     "output_type": "stream",
     "text": [
      "Linear Regression:9.638608577359905\n",
      "Wall time: 798 ms\n"
     ]
    }
   ],
   "source": [
    "%%time\n",
    "my_linreg = LinearRegression(n_jobs=-1)\n",
    "my_linreg.fit(X_train, y_train)\n",
    "y_prediction_lr = my_linreg.predict(X_test)\n",
    "mse = metrics.mean_squared_error(y_test, y_prediction_lr)\n",
    "rmse_lr = np.sqrt(mse)\n",
    "print(f'Linear Regression:{rmse_lr}')"
   ]
  },
  {
   "cell_type": "markdown",
   "metadata": {},
   "source": [
    "Label Encoding the  y_test and y to prevent continous error"
   ]
  },
  {
   "cell_type": "code",
   "execution_count": 47,
   "metadata": {},
   "outputs": [],
   "source": [
    "lab_enc = preprocessing.LabelEncoder()\n",
    "y_train_encoded = lab_enc.fit_transform(y_train)\n",
    "y_encoded = lab_enc.fit_transform(y)\n",
    "y_test_encoded = lab_enc.fit_transform(y_test)"
   ]
  },
  {
   "cell_type": "markdown",
   "metadata": {},
   "source": [
    "#  Logistic Regression"
   ]
  },
  {
   "cell_type": "code",
   "execution_count": 48,
   "metadata": {},
   "outputs": [
    {
     "name": "stderr",
     "output_type": "stream",
     "text": [
      "C:\\ProgramData\\Anaconda3\\lib\\site-packages\\sklearn\\linear_model\\sag.py:337: ConvergenceWarning: The max_iter was reached which means the coef_ did not converge\n",
      "  \"the coef_ did not converge\", ConvergenceWarning)\n"
     ]
    },
    {
     "name": "stdout",
     "output_type": "stream",
     "text": [
      "Logistic Regression: 31.17684522855523\n",
      "Wall time: 23min 21s\n"
     ]
    }
   ],
   "source": [
    "%%time\n",
    "#max_iter default = 100\n",
    "my_logreg = LogisticRegression(max_iter=20,solver='sag',multi_class='auto',n_jobs=-1)\n",
    "my_logreg.fit(X_train, y_train_encoded)\n",
    "y_prediction_log = my_logreg.predict(X_test)\n",
    "mse_log = metrics.mean_squared_error(y_test, y_prediction_log)\n",
    "rmse_log = np.sqrt(mse_log)\n",
    "print(f'Logistic Regression: {rmse_log}')"
   ]
  },
  {
   "cell_type": "markdown",
   "metadata": {},
   "source": [
    "# Random Forest Regression"
   ]
  },
  {
   "cell_type": "code",
   "execution_count": 49,
   "metadata": {
    "scrolled": true
   },
   "outputs": [
    {
     "name": "stdout",
     "output_type": "stream",
     "text": [
      "Random Forest Regressor: 4.008533326281107\n",
      "Wall time: 1min 45s\n"
     ]
    }
   ],
   "source": [
    "%%time\n",
    "\n",
    "my_rfr = RandomForestRegressor(n_estimators = 10, bootstrap=True, random_state=3)\n",
    "my_rfr.fit(X_train, y_train)\n",
    "y_prediction_rfr = my_rfr.predict(X_test)\n",
    "mse_rfr = metrics.mean_squared_error(y_test, y_prediction_rfr)\n",
    "rmse_rfr = np.sqrt(mse_rfr)\n",
    "print(f'Random Forest Regressor: {rmse_rfr}')"
   ]
  },
  {
   "cell_type": "markdown",
   "metadata": {},
   "source": [
    "# RSME Visualization"
   ]
  },
  {
   "cell_type": "code",
   "execution_count": 50,
   "metadata": {},
   "outputs": [
    {
     "data": {
      "text/plain": [
       "Text(0.5, 1.0, 'RMSE Values')"
      ]
     },
     "execution_count": 50,
     "metadata": {},
     "output_type": "execute_result"
    },
    {
     "data": {
      "image/png": "[encoded data removed]",
      "text/plain": [
       "<Figure size 432x288 with 1 Axes>"
      ]
     },
     "metadata": {
      "needs_background": "light"
     },
     "output_type": "display_data"
    }
   ],
   "source": [
    "fig, ax = plt.subplots()\n",
    "y_axis = ('Linear Regression','Logistic Regression','Random Forest Regressor')\n",
    "y_pos = np.arange(len(y_axis))\n",
    "width = 0.75 \n",
    "x_axis = (round(rmse_lr,4),round(rmse_log,4),round(rmse_rfr,4))\n",
    "ax.barh(y_pos, x_axis, width,align='center')\n",
    "for i, v in enumerate(x_axis):\n",
    "    ax.text(v, i, '$'+str(v), color='blue', fontweight='bold')\n",
    "ax.set_yticks(y_pos)\n",
    "ax.set_yticklabels(y_axis)\n",
    "ax.set_xlabel('RMSE')\n",
    "ax.set_title('RMSE Values')"
   ]
  }
 ],
 "metadata": {
  "kernelspec": {
   "display_name": "Python 3",
   "language": "python",
   "name": "python3"
  },
  "language_info": {
   "codemirror_mode": {
    "name": "ipython",
    "version": 3
   },
   "file_extension": ".py",
   "mimetype": "text/x-python",
   "name": "python",
   "nbconvert_exporter": "python",
   "pygments_lexer": "ipython3",
   "version": "3.7.4"
  }
 },
 "nbformat": 4,
 "nbformat_minor": 2
}
